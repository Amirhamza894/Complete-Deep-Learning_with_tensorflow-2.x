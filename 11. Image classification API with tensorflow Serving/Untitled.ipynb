{
 "cells": [
  {
   "cell_type": "code",
   "execution_count": 1,
   "id": "883a8e4d",
   "metadata": {},
   "outputs": [],
   "source": [
    "import pandas as pd\n",
    "import numpy as np\n"
   ]
  },
  {
   "cell_type": "code",
   "execution_count": 5,
   "id": "7455dde4",
   "metadata": {},
   "outputs": [
    {
     "data": {
      "text/html": [
       "<div>\n",
       "<style scoped>\n",
       "    .dataframe tbody tr th:only-of-type {\n",
       "        vertical-align: middle;\n",
       "    }\n",
       "\n",
       "    .dataframe tbody tr th {\n",
       "        vertical-align: top;\n",
       "    }\n",
       "\n",
       "    .dataframe thead th {\n",
       "        text-align: right;\n",
       "    }\n",
       "</style>\n",
       "<table border=\"1\" class=\"dataframe\">\n",
       "  <thead>\n",
       "    <tr style=\"text-align: right;\">\n",
       "      <th></th>\n",
       "      <th>filename</th>\n",
       "      <th>width</th>\n",
       "      <th>height</th>\n",
       "      <th>class</th>\n",
       "      <th>xmin</th>\n",
       "      <th>ymin</th>\n",
       "      <th>xmax</th>\n",
       "      <th>ymax</th>\n",
       "    </tr>\n",
       "  </thead>\n",
       "  <tbody>\n",
       "    <tr>\n",
       "      <th>0</th>\n",
       "      <td>564240162_jpg.rf.000e9f582660fdab73011b74162cd...</td>\n",
       "      <td>416</td>\n",
       "      <td>416</td>\n",
       "      <td>7</td>\n",
       "      <td>259</td>\n",
       "      <td>201</td>\n",
       "      <td>279</td>\n",
       "      <td>224</td>\n",
       "    </tr>\n",
       "    <tr>\n",
       "      <th>1</th>\n",
       "      <td>564240162_jpg.rf.000e9f582660fdab73011b74162cd...</td>\n",
       "      <td>416</td>\n",
       "      <td>416</td>\n",
       "      <td>0</td>\n",
       "      <td>281</td>\n",
       "      <td>210</td>\n",
       "      <td>303</td>\n",
       "      <td>234</td>\n",
       "    </tr>\n",
       "    <tr>\n",
       "      <th>2</th>\n",
       "      <td>564240162_jpg.rf.000e9f582660fdab73011b74162cd...</td>\n",
       "      <td>416</td>\n",
       "      <td>416</td>\n",
       "      <td>1</td>\n",
       "      <td>304</td>\n",
       "      <td>222</td>\n",
       "      <td>322</td>\n",
       "      <td>245</td>\n",
       "    </tr>\n",
       "    <tr>\n",
       "      <th>3</th>\n",
       "      <td>219291848_jpg.rf.00016ea82dafe7d42e1ec53f0a631...</td>\n",
       "      <td>416</td>\n",
       "      <td>416</td>\n",
       "      <td>4</td>\n",
       "      <td>173</td>\n",
       "      <td>118</td>\n",
       "      <td>202</td>\n",
       "      <td>154</td>\n",
       "    </tr>\n",
       "    <tr>\n",
       "      <th>4</th>\n",
       "      <td>219291848_jpg.rf.00016ea82dafe7d42e1ec53f0a631...</td>\n",
       "      <td>416</td>\n",
       "      <td>416</td>\n",
       "      <td>7</td>\n",
       "      <td>196</td>\n",
       "      <td>103</td>\n",
       "      <td>225</td>\n",
       "      <td>139</td>\n",
       "    </tr>\n",
       "  </tbody>\n",
       "</table>\n",
       "</div>"
      ],
      "text/plain": [
       "                                            filename  width  height  class  \\\n",
       "0  564240162_jpg.rf.000e9f582660fdab73011b74162cd...    416     416      7   \n",
       "1  564240162_jpg.rf.000e9f582660fdab73011b74162cd...    416     416      0   \n",
       "2  564240162_jpg.rf.000e9f582660fdab73011b74162cd...    416     416      1   \n",
       "3  219291848_jpg.rf.00016ea82dafe7d42e1ec53f0a631...    416     416      4   \n",
       "4  219291848_jpg.rf.00016ea82dafe7d42e1ec53f0a631...    416     416      7   \n",
       "\n",
       "   xmin  ymin  xmax  ymax  \n",
       "0   259   201   279   224  \n",
       "1   281   210   303   234  \n",
       "2   304   222   322   245  \n",
       "3   173   118   202   154  \n",
       "4   196   103   225   139  "
      ]
     },
     "execution_count": 5,
     "metadata": {},
     "output_type": "execute_result"
    }
   ],
   "source": [
    "df = pd.read_csv('C:\\\\Users\\\\Sorcim\\\\Documents\\\\train_labels.csv')\n",
    "df.head()"
   ]
  },
  {
   "cell_type": "code",
   "execution_count": 8,
   "id": "c69c1c14",
   "metadata": {},
   "outputs": [
    {
     "data": {
      "text/plain": [
       "13    1322\n",
       "11    1313\n",
       "10    1289\n",
       "9     1280\n",
       "7     1273\n",
       "4     1267\n",
       "6     1267\n",
       "8     1262\n",
       "5     1258\n",
       "0     1255\n",
       "2     1241\n",
       "1     1220\n",
       "12    1220\n",
       "3     1210\n",
       "14    1208\n",
       "Name: class, dtype: int64"
      ]
     },
     "execution_count": 8,
     "metadata": {},
     "output_type": "execute_result"
    }
   ],
   "source": [
    "df['class'].value_counts(ascending=False)"
   ]
  },
  {
   "cell_type": "code",
   "execution_count": null,
   "id": "84c897f0",
   "metadata": {},
   "outputs": [],
   "source": []
  }
 ],
 "metadata": {
  "kernelspec": {
   "display_name": "Python 3",
   "language": "python",
   "name": "python3"
  },
  "language_info": {
   "codemirror_mode": {
    "name": "ipython",
    "version": 3
   },
   "file_extension": ".py",
   "mimetype": "text/x-python",
   "name": "python",
   "nbconvert_exporter": "python",
   "pygments_lexer": "ipython3",
   "version": "3.8.8"
  }
 },
 "nbformat": 4,
 "nbformat_minor": 5
}
