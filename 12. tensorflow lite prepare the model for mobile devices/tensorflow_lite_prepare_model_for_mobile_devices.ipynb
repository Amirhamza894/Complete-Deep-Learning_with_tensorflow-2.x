{
  "nbformat": 4,
  "nbformat_minor": 0,
  "metadata": {
    "colab": {
      "name": "tensorflow lite prepare model for mobile devices.ipynb",
      "provenance": []
    },
    "kernelspec": {
      "name": "python3",
      "display_name": "Python 3"
    },
    "language_info": {
      "name": "python"
    },
    "accelerator": "GPU"
  },
  "cells": [
    {
      "cell_type": "markdown",
      "metadata": {
        "id": "h-1-Cu4YbMg5"
      },
      "source": [
        "\n",
        "> **Model Optimization:** in some cases we reduce the layers and faster operations, less fully connected layers and more.. \\\n",
        "in most cases this strategy will work but in this way we sacrifice the accuracy over speed and in most cases we don't want to do that.\n",
        "\n",
        "> **Quantization:** a technique where we reduce precision spaces and after the floating numbers from a regular floating. we are converting them into 8 bit numbers in most cases.. \\\n",
        "in most cases these tichnique won't influence our model accuracy and there are two ways to perform quantization of the model,, 1) pre-training quantization and another one is 2) bost training quatization. \\\n",
        "just to count more there is a parameter count reduction as an optimization strategy and finally here is a link to excellent blog post about the model quantization process.\n",
        "\n",
        "**Putting a trained model on a mobile devices:** https://heartbeat.fritz.ai/neural-networks-on-mobile-devices-with-tensorflow-lite-a-tutorial-85b41f53230c \\\n",
        "\n",
        "**TensorFlow Lite tutorial and guide:** https://www.tensorflow.org/lite/guide\n",
        "\n",
        "**TensorFlow Lite pre-trained models with applications:**  https://www.tensorflow.org/lite/examples/\n",
        "\n",
        "**Putting a trained model on a mobile device:** https://medium.com/@rdeep/tensorflow-lite-tutorial-easy-implementation-in-android-145443ec3775\n",
        "\n"
      ]
    },
    {
      "cell_type": "markdown",
      "metadata": {
        "id": "PBF7L0fodyE0"
      },
      "source": [
        "### Import Project dependencies"
      ]
    },
    {
      "cell_type": "code",
      "metadata": {
        "colab": {
          "base_uri": "https://localhost:8080/",
          "height": 35
        },
        "id": "mtTcBEDwe7EM",
        "outputId": "313be38a-d847-4a46-a094-a9a4875a2a58"
      },
      "source": [
        "import tensorflow as tf\n",
        "import numpy as np\n",
        "\n",
        "from tensorflow.keras.datasets import fashion_mnist\n",
        "\n",
        "tf.__version__"
      ],
      "execution_count": 2,
      "outputs": [
        {
          "output_type": "execute_result",
          "data": {
            "application/vnd.google.colaboratory.intrinsic+json": {
              "type": "string"
            },
            "text/plain": [
              "'2.4.1'"
            ]
          },
          "metadata": {
            "tags": []
          },
          "execution_count": 2
        }
      ]
    },
    {
      "cell_type": "markdown",
      "metadata": {
        "id": "y9jYra0yfvq8"
      },
      "source": [
        "### Dataset preprocessing\n",
        "#### Loading the dataset "
      ]
    },
    {
      "cell_type": "code",
      "metadata": {
        "colab": {
          "base_uri": "https://localhost:8080/"
        },
        "id": "3lUxCxbQgFfs",
        "outputId": "296b192a-87ab-46ee-e339-3ee7c0ce043f"
      },
      "source": [
        "(X_train, y_train), (X_test, y_test) = fashion_mnist.load_data()"
      ],
      "execution_count": 3,
      "outputs": [
        {
          "output_type": "stream",
          "text": [
            "Downloading data from https://storage.googleapis.com/tensorflow/tf-keras-datasets/train-labels-idx1-ubyte.gz\n",
            "32768/29515 [=================================] - 0s 0us/step\n",
            "Downloading data from https://storage.googleapis.com/tensorflow/tf-keras-datasets/train-images-idx3-ubyte.gz\n",
            "26427392/26421880 [==============================] - 0s 0us/step\n",
            "Downloading data from https://storage.googleapis.com/tensorflow/tf-keras-datasets/t10k-labels-idx1-ubyte.gz\n",
            "8192/5148 [===============================================] - 0s 0us/step\n",
            "Downloading data from https://storage.googleapis.com/tensorflow/tf-keras-datasets/t10k-images-idx3-ubyte.gz\n",
            "4423680/4422102 [==============================] - 0s 0us/step\n"
          ],
          "name": "stdout"
        }
      ]
    },
    {
      "cell_type": "markdown",
      "metadata": {
        "id": "EDVbsdG9gMmj"
      },
      "source": [
        "#### Image Normalization"
      ]
    },
    {
      "cell_type": "code",
      "metadata": {
        "id": "i8GYw4iAgPvT"
      },
      "source": [
        "X_train = X_train / 255.\n",
        "X_test = X_test / 255."
      ],
      "execution_count": 4,
      "outputs": []
    },
    {
      "cell_type": "markdown",
      "metadata": {
        "id": "BKknkNRwgarL"
      },
      "source": [
        "#### Reshaping the dataset"
      ]
    },
    {
      "cell_type": "code",
      "metadata": {
        "colab": {
          "base_uri": "https://localhost:8080/"
        },
        "id": "jjfjyPkZgdxb",
        "outputId": "93bbcb82-cb81-49da-b2c5-7c23bea8fa0e"
      },
      "source": [
        "X_train.shape"
      ],
      "execution_count": 5,
      "outputs": [
        {
          "output_type": "execute_result",
          "data": {
            "text/plain": [
              "(60000, 28, 28)"
            ]
          },
          "metadata": {
            "tags": []
          },
          "execution_count": 5
        }
      ]
    },
    {
      "cell_type": "markdown",
      "metadata": {
        "id": "rw1l4az8gg-L"
      },
      "source": [
        "> for our artichicture that accept only vectors not metrixes for that we need to reshape the data"
      ]
    },
    {
      "cell_type": "code",
      "metadata": {
        "id": "jsCPjgF8g4VK"
      },
      "source": [
        "X_train = X_train.reshape(-1, 28*28)\n",
        "X_test = X_test.reshape(-1, 28*28)"
      ],
      "execution_count": 6,
      "outputs": []
    },
    {
      "cell_type": "code",
      "metadata": {
        "colab": {
          "base_uri": "https://localhost:8080/"
        },
        "id": "uUQlfEcqhMDK",
        "outputId": "6df16b2a-a10a-4165-a261-b21791a0bd46"
      },
      "source": [
        "X_train.shape"
      ],
      "execution_count": 7,
      "outputs": [
        {
          "output_type": "execute_result",
          "data": {
            "text/plain": [
              "(60000, 784)"
            ]
          },
          "metadata": {
            "tags": []
          },
          "execution_count": 7
        }
      ]
    },
    {
      "cell_type": "markdown",
      "metadata": {
        "id": "W2jPEWyLhZR7"
      },
      "source": [
        "### Building a model\n",
        "#### Defining the model"
      ]
    },
    {
      "cell_type": "code",
      "metadata": {
        "id": "L7Ey60tthP-a"
      },
      "source": [
        "model = tf.keras.models.Sequential()"
      ],
      "execution_count": 8,
      "outputs": []
    },
    {
      "cell_type": "markdown",
      "metadata": {
        "id": "F-jXBH0vhgYz"
      },
      "source": [
        "#### Building the model"
      ]
    },
    {
      "cell_type": "code",
      "metadata": {
        "id": "H_F6ue_Lhj_7"
      },
      "source": [
        "model.add(tf.keras.layers.Dense(units=128, activation='relu', input_shape=(784,)))\n",
        "model.add(tf.keras.layers.Dropout(rate=0.2))\n",
        "model.add(tf.keras.layers.Dense(units=10, activation='softmax'))"
      ],
      "execution_count": 9,
      "outputs": []
    },
    {
      "cell_type": "markdown",
      "metadata": {
        "id": "GNT1NnMwhoBK"
      },
      "source": [
        "#### Compiling the model"
      ]
    },
    {
      "cell_type": "code",
      "metadata": {
        "id": "P3l1nENwhmFb"
      },
      "source": [
        "model.compile(optimizer='adam', loss='sparse_categorical_crossentropy', metrics=['sparse_categorical_accuracy'])"
      ],
      "execution_count": 10,
      "outputs": []
    },
    {
      "cell_type": "code",
      "metadata": {
        "colab": {
          "base_uri": "https://localhost:8080/"
        },
        "id": "FuCXf1rehrKM",
        "outputId": "6668ff41-4ceb-4f1d-af6a-e76ef0976448"
      },
      "source": [
        "model.summary()"
      ],
      "execution_count": 11,
      "outputs": [
        {
          "output_type": "stream",
          "text": [
            "Model: \"sequential\"\n",
            "_________________________________________________________________\n",
            "Layer (type)                 Output Shape              Param #   \n",
            "=================================================================\n",
            "dense (Dense)                (None, 128)               100480    \n",
            "_________________________________________________________________\n",
            "dropout (Dropout)            (None, 128)               0         \n",
            "_________________________________________________________________\n",
            "dense_1 (Dense)              (None, 10)                1290      \n",
            "=================================================================\n",
            "Total params: 101,770\n",
            "Trainable params: 101,770\n",
            "Non-trainable params: 0\n",
            "_________________________________________________________________\n"
          ],
          "name": "stdout"
        }
      ]
    },
    {
      "cell_type": "markdown",
      "metadata": {
        "id": "iy9xQ_Muhwxy"
      },
      "source": [
        "#### Training the model"
      ]
    },
    {
      "cell_type": "code",
      "metadata": {
        "colab": {
          "base_uri": "https://localhost:8080/"
        },
        "id": "NUokjE89htxS",
        "outputId": "836f800e-15b7-4046-bd3c-499b67150861"
      },
      "source": [
        "model.fit(X_train, y_train, epochs=5)"
      ],
      "execution_count": 12,
      "outputs": [
        {
          "output_type": "stream",
          "text": [
            "Epoch 1/5\n",
            "1875/1875 [==============================] - 6s 2ms/step - loss: 0.6873 - sparse_categorical_accuracy: 0.7609\n",
            "Epoch 2/5\n",
            "1875/1875 [==============================] - 3s 2ms/step - loss: 0.4063 - sparse_categorical_accuracy: 0.8518\n",
            "Epoch 3/5\n",
            "1875/1875 [==============================] - 3s 2ms/step - loss: 0.3671 - sparse_categorical_accuracy: 0.8657\n",
            "Epoch 4/5\n",
            "1875/1875 [==============================] - 3s 2ms/step - loss: 0.3410 - sparse_categorical_accuracy: 0.8729\n",
            "Epoch 5/5\n",
            "1875/1875 [==============================] - 3s 2ms/step - loss: 0.3305 - sparse_categorical_accuracy: 0.8789\n"
          ],
          "name": "stdout"
        },
        {
          "output_type": "execute_result",
          "data": {
            "text/plain": [
              "<tensorflow.python.keras.callbacks.History at 0x7ff109edc410>"
            ]
          },
          "metadata": {
            "tags": []
          },
          "execution_count": 12
        }
      ]
    },
    {
      "cell_type": "markdown",
      "metadata": {
        "id": "OfzpX9Oih2Jy"
      },
      "source": [
        "### Evaluating the model"
      ]
    },
    {
      "cell_type": "code",
      "metadata": {
        "colab": {
          "base_uri": "https://localhost:8080/"
        },
        "id": "fiFSv2kFhz5L",
        "outputId": "70856e41-e546-45c7-be7d-6e8bb209f3a4"
      },
      "source": [
        "test_loss, test_accuracy = model.evaluate(X_test, y_test)\n",
        "print(\"Test accuracy: {}\".format(test_accuracy))"
      ],
      "execution_count": 13,
      "outputs": [
        {
          "output_type": "stream",
          "text": [
            "313/313 [==============================] - 1s 2ms/step - loss: 0.3586 - sparse_categorical_accuracy: 0.8685\n",
            "Test accuracy: 0.8684999942779541\n"
          ],
          "name": "stdout"
        }
      ]
    },
    {
      "cell_type": "markdown",
      "metadata": {
        "id": "hUQr_ubsh4TC"
      },
      "source": [
        "### Converting the model into TensorFlow Lite version\n",
        "#### Saving the model"
      ]
    },
    {
      "cell_type": "code",
      "metadata": {
        "id": "7dh9Vcmdh8NL"
      },
      "source": [
        "\n",
        "model_name = 'fashion_mobile_model.h5'\n",
        "!mkdir -p saved_model\n",
        "model.save(f'saved_model/{model_name}')"
      ],
      "execution_count": 16,
      "outputs": []
    },
    {
      "cell_type": "markdown",
      "metadata": {
        "id": "ZGpahg8fiFC7"
      },
      "source": [
        "#### Creating the TFLite Converter"
      ]
    },
    {
      "cell_type": "code",
      "metadata": {
        "colab": {
          "base_uri": "https://localhost:8080/",
          "height": 35
        },
        "id": "692WAIG0o41R",
        "outputId": "76e5abc1-f62a-43fc-c6ba-33e7087bd41d"
      },
      "source": [
        "%pwd"
      ],
      "execution_count": 23,
      "outputs": [
        {
          "output_type": "execute_result",
          "data": {
            "application/vnd.google.colaboratory.intrinsic+json": {
              "type": "string"
            },
            "text/plain": [
              "'/content'"
            ]
          },
          "metadata": {
            "tags": []
          },
          "execution_count": 23
        }
      ]
    },
    {
      "cell_type": "code",
      "metadata": {
        "colab": {
          "base_uri": "https://localhost:8080/"
        },
        "id": "EGw9EQPaiHha",
        "outputId": "8ebc67b5-4fdc-4341-8ada-4531e08a7f7a"
      },
      "source": [
        "converter = tf.compat.v1.lite.TFLiteConverter.from_keras_model_file(model_name)"
      ],
      "execution_count": 33,
      "outputs": [
        {
          "output_type": "stream",
          "text": [
            "/usr/local/lib/python3.7/dist-packages/tensorflow/python/keras/backend.py:434: UserWarning: `tf.keras.backend.set_learning_phase` is deprecated and will be removed after 2020-10-11. To update it, simply pass a True/False value to the `training` argument of the `__call__` method of your layer or model.\n",
            "  warnings.warn('`tf.keras.backend.set_learning_phase` is deprecated and '\n"
          ],
          "name": "stderr"
        }
      ]
    },
    {
      "cell_type": "markdown",
      "metadata": {
        "id": "h91Q1Rx-kX0T"
      },
      "source": [
        "#### Converting the model"
      ]
    },
    {
      "cell_type": "code",
      "metadata": {
        "colab": {
          "base_uri": "https://localhost:8080/"
        },
        "id": "Vr6jGkwKk2HQ",
        "outputId": "19411d98-4a9b-4075-a257-a05309946be6"
      },
      "source": [
        "# model = tf.keras.models.load_model( 'fashion_mobile_model.h5' )\n",
        "\n",
        "tflite_model = converter.convert()"
      ],
      "execution_count": 34,
      "outputs": [
        {
          "output_type": "stream",
          "text": [
            "INFO:tensorflow:Assets written to: /tmp/tmpxo5xife5/assets\n",
            "WARNING:tensorflow:From /usr/local/lib/python3.7/dist-packages/tensorflow/lite/python/convert_saved_model.py:60: load (from tensorflow.python.saved_model.loader_impl) is deprecated and will be removed in a future version.\n",
            "Instructions for updating:\n",
            "This function will only be available through the v1 compatibility library as tf.compat.v1.saved_model.loader.load or tf.compat.v1.saved_model.load. There will be a new function for importing SavedModels in Tensorflow 2.0.\n",
            "INFO:tensorflow:Restoring parameters from /tmp/tmpxo5xife5/variables/variables\n",
            "INFO:tensorflow:The given SavedModel MetaGraphDef contains SignatureDefs with the following keys: {'serving_default', '__saved_model_init_op'}\n",
            "INFO:tensorflow:input tensors info: \n",
            "INFO:tensorflow:Tensor's key in saved_model's tensor_map: dense_input\n",
            "INFO:tensorflow: tensor name: serving_default_dense_input:0, shape: (-1, 784), type: DT_FLOAT\n",
            "INFO:tensorflow:output tensors info: \n",
            "INFO:tensorflow:Tensor's key in saved_model's tensor_map: dense_1\n",
            "INFO:tensorflow: tensor name: StatefulPartitionedCall:0, shape: (-1, 10), type: DT_FLOAT\n",
            "INFO:tensorflow:Restoring parameters from /tmp/tmpxo5xife5/variables/variables\n",
            "WARNING:tensorflow:From /usr/local/lib/python3.7/dist-packages/tensorflow/lite/python/util.py:327: convert_variables_to_constants (from tensorflow.python.framework.graph_util_impl) is deprecated and will be removed in a future version.\n",
            "Instructions for updating:\n",
            "Use `tf.compat.v1.graph_util.convert_variables_to_constants`\n",
            "WARNING:tensorflow:From /usr/local/lib/python3.7/dist-packages/tensorflow/python/framework/convert_to_constants.py:856: extract_sub_graph (from tensorflow.python.framework.graph_util_impl) is deprecated and will be removed in a future version.\n",
            "Instructions for updating:\n",
            "Use `tf.compat.v1.graph_util.extract_sub_graph`\n"
          ],
          "name": "stdout"
        }
      ]
    },
    {
      "cell_type": "markdown",
      "metadata": {
        "id": "NZJ2MFXtk-TK"
      },
      "source": [
        "#### Saving the tflite model "
      ]
    },
    {
      "cell_type": "code",
      "metadata": {
        "id": "qNIuawNdqPcJ"
      },
      "source": [
        "# First thing we need to do is to open our model\n",
        "with open('tf_model.tflite', 'wb') as f:\n",
        "  f.write(tflite_model)"
      ],
      "execution_count": 35,
      "outputs": []
    },
    {
      "cell_type": "code",
      "metadata": {
        "id": "G7cod0r-q3YZ"
      },
      "source": [
        ""
      ],
      "execution_count": null,
      "outputs": []
    }
  ]
}