{
  "nbformat": 4,
  "nbformat_minor": 0,
  "metadata": {
    "colab": {
      "name": "Building an Artificial Neural Network(classification).ipynb",
      "provenance": []
    },
    "kernelspec": {
      "name": "python3",
      "display_name": "Python 3"
    },
    "accelerator": "GPU"
  },
  "cells": [
    {
      "cell_type": "code",
      "metadata": {
        "id": "5pdfkELO-B4B"
      },
      "source": [
        "import tensorflow as tf"
      ],
      "execution_count": 92,
      "outputs": []
    },
    {
      "cell_type": "code",
      "metadata": {
        "colab": {
          "base_uri": "https://localhost:8080/",
          "height": 35
        },
        "id": "pOds9zfkAuHM",
        "outputId": "6b739b7e-1029-4060-db59-317ba298fc32"
      },
      "source": [
        "tf.__version__"
      ],
      "execution_count": 93,
      "outputs": [
        {
          "output_type": "execute_result",
          "data": {
            "application/vnd.google.colaboratory.intrinsic+json": {
              "type": "string"
            },
            "text/plain": [
              "'2.4.1'"
            ]
          },
          "metadata": {
            "tags": []
          },
          "execution_count": 93
        }
      ]
    },
    {
      "cell_type": "code",
      "metadata": {
        "id": "ozQ7pMhYAwkD"
      },
      "source": [
        "  import numpy as np\r\n",
        "  import datetime\r\n",
        "  import tensorflow as tf\r\n",
        "  from tensorflow.keras.datasets import fashion_mnist"
      ],
      "execution_count": 94,
      "outputs": []
    },
    {
      "cell_type": "markdown",
      "metadata": {
        "id": "aNKcbM8eD9u5"
      },
      "source": [
        "#<mark>Data Preprocessing</mark>\r\n",
        "\r\n",
        "**<mark>Loading data   </mark>**"
      ]
    },
    {
      "cell_type": "code",
      "metadata": {
        "id": "PqVmLeuYFGG4"
      },
      "source": [
        "(X_train, y_train), (X_test, y_test) = fashion_mnist.load_data()"
      ],
      "execution_count": 95,
      "outputs": []
    },
    {
      "cell_type": "markdown",
      "metadata": {
        "id": "E_xbjkKEFP1w"
      },
      "source": [
        "<mark>**Normalizing the images**</mark>\r\n",
        "\r\n",
        "we divide each and every pixel of the image in the trianing and testing sets by the maximum number of pixels (255)\r\n",
        "In this way each pixel will be in the range[0,1], Ny normalizing images we make sure that our model (ANN) trains faster\r\n"
      ]
    },
    {
      "cell_type": "code",
      "metadata": {
        "id": "M7XrSfwkFji3"
      },
      "source": [
        "X_train = X_train / 255.0"
      ],
      "execution_count": 96,
      "outputs": []
    },
    {
      "cell_type": "code",
      "metadata": {
        "id": "_BSPws-DIeu3"
      },
      "source": [
        "X_test = X_test / 255.0"
      ],
      "execution_count": 97,
      "outputs": []
    },
    {
      "cell_type": "code",
      "metadata": {
        "colab": {
          "base_uri": "https://localhost:8080/"
        },
        "id": "SzG9qtn5S6cH",
        "outputId": "c5bf0cef-745e-4f4c-a60c-0259dfde614d"
      },
      "source": [
        "X_train.shape"
      ],
      "execution_count": 98,
      "outputs": [
        {
          "output_type": "execute_result",
          "data": {
            "text/plain": [
              "(60000, 28, 28)"
            ]
          },
          "metadata": {
            "tags": []
          },
          "execution_count": 98
        }
      ]
    },
    {
      "cell_type": "markdown",
      "metadata": {
        "id": "1GIl5uFyIjfG"
      },
      "source": [
        "##<mark>Reshaping the data</mark>\r\n",
        "\r\n",
        "we are working on building a fully connected neural network, for that we reshape the training and test into vector form..\r\n",
        "\r\n",
        "vector ---> flate \r\n",
        "\r\n",
        "\r\n",
        "\r\n",
        "tensor ---> X and y"
      ]
    },
    {
      "cell_type": "code",
      "metadata": {
        "id": "l4nTfQJYIm_H"
      },
      "source": [
        "# you can see that our datasets are 28*28 dimensions..\r\n",
        "# we will reshape and flatten the images of dataset\r\n",
        "\r\n",
        "X_train = X_train.reshape(-1, 28*28)\r\n",
        "\r\n",
        "# you can see that our images is 28*28 so we multiply X-axis and y-axis of the images to flatten the images of dataset\r\n",
        "# and -1 means all images... meaning convert nth number of image.\r\n"
      ],
      "execution_count": 99,
      "outputs": []
    },
    {
      "cell_type": "code",
      "metadata": {
        "colab": {
          "base_uri": "https://localhost:8080/"
        },
        "id": "IOQwcovGSyGZ",
        "outputId": "917b48c6-37c5-4a4a-d96b-acce0cb3f221"
      },
      "source": [
        "X_train.shape"
      ],
      "execution_count": 100,
      "outputs": [
        {
          "output_type": "execute_result",
          "data": {
            "text/plain": [
              "(60000, 784)"
            ]
          },
          "metadata": {
            "tags": []
          },
          "execution_count": 100
        }
      ]
    },
    {
      "cell_type": "code",
      "metadata": {
        "id": "D6azateDT4ru"
      },
      "source": [
        "X_test = X_test.reshape(-1, 28*28)"
      ],
      "execution_count": 101,
      "outputs": []
    },
    {
      "cell_type": "code",
      "metadata": {
        "colab": {
          "base_uri": "https://localhost:8080/"
        },
        "id": "E6BEjcWbT_Ad",
        "outputId": "9feb029c-d665-4e13-f4c5-90e7b581b607"
      },
      "source": [
        "X_test.shape"
      ],
      "execution_count": 102,
      "outputs": [
        {
          "output_type": "execute_result",
          "data": {
            "text/plain": [
              "(10000, 784)"
            ]
          },
          "metadata": {
            "tags": []
          },
          "execution_count": 102
        }
      ]
    },
    {
      "cell_type": "markdown",
      "metadata": {
        "id": "ZAXk23bvTk8u"
      },
      "source": [
        "**See in the above cells that our all images of the dataset are now flatten**"
      ]
    },
    {
      "cell_type": "markdown",
      "metadata": {
        "id": "RQK0TQoyWhuF"
      },
      "source": [
        "#<mark>Building Artificial Neural Network</mark>\r\n",
        "**Defining the Model**\r\n",
        "\r\n",
        "Simply define an object of the Sequential model."
      ]
    },
    {
      "cell_type": "code",
      "metadata": {
        "id": "XGs5qwMSWpgt"
      },
      "source": [
        "model = tf.keras.models.Sequential()"
      ],
      "execution_count": 103,
      "outputs": []
    },
    {
      "cell_type": "markdown",
      "metadata": {
        "id": "OA8galWSXGKF"
      },
      "source": [
        "**Adding a fully-connected Hidden layer**\r\n",
        "layer hyperparameter:\r\n",
        "  * number of neurons/units : 128\r\n",
        "  * activation function : ReLU\r\n",
        "  * input_shape: (784, )"
      ]
    },
    {
      "cell_type": "code",
      "metadata": {
        "id": "Tus_OAvDXoQE"
      },
      "source": [
        "model.add(tf.keras.layers.Dense(units=128, activation='relu',  input_shape=(784, )))"
      ],
      "execution_count": 104,
      "outputs": []
    },
    {
      "cell_type": "markdown",
      "metadata": {
        "id": "3Q3JyNPRRhY9"
      },
      "source": [
        "**Adding PReLU Acitivation function to the archetecture of the model**"
      ]
    },
    {
      "cell_type": "code",
      "metadata": {
        "id": "IrWoDP94Q31l"
      },
      "source": [
        "# model.add(tf.keras.layers.PReLU(alpha_initializer='zeros'))"
      ],
      "execution_count": 105,
      "outputs": []
    },
    {
      "cell_type": "markdown",
      "metadata": {
        "id": "sBLyZ7uMTHWT"
      },
      "source": [
        "**with tanh activation functions**"
      ]
    },
    {
      "cell_type": "code",
      "metadata": {
        "id": "KZ7QTkeJOqyW"
      },
      "source": [
        "# model.add(tf.keras.layers.Dense(units=64, activation='tanh', input_shape=(784, )))"
      ],
      "execution_count": 106,
      "outputs": []
    },
    {
      "cell_type": "code",
      "metadata": {
        "id": "lpkApvbWTFnz"
      },
      "source": [
        "# model.add(tf.keras.layers.Dense(units=64, activation='relu',  input_shape=(784, ))) \r\n",
        "# # we can initialize weight by kernel_initializer='he_uniform',"
      ],
      "execution_count": 107,
      "outputs": []
    },
    {
      "cell_type": "markdown",
      "metadata": {
        "id": "xTbDdbuvVGC0"
      },
      "source": [
        "**Defining Leaky_relu activation function**"
      ]
    },
    {
      "cell_type": "code",
      "metadata": {
        "id": "73PdUMsQTod7"
      },
      "source": [
        "# from tensorflow.keras.layers import LeakyReLU\r\n",
        "\r\n",
        "# leaky_relu = LeakyReLU(alpha=0.01)\r\n",
        "# model.add(tf.keras.layers.Dense(units=64, activation=leaky_relu, input_shape=(784, )))"
      ],
      "execution_count": 108,
      "outputs": []
    },
    {
      "cell_type": "code",
      "metadata": {
        "id": "hTopgFuOPQUI"
      },
      "source": [
        "# model.add(tf.keras.layers.Dense(units=32, activation='relu',  input_shape=(784, )))\r\n",
        "\r\n",
        "# # we can also initialize weight by kernel_initializer='he_uniform',"
      ],
      "execution_count": 109,
      "outputs": []
    },
    {
      "cell_type": "markdown",
      "metadata": {
        "id": "Y-DF6G0sX8zM"
      },
      "source": [
        "**Adding a Second layer with Dropout**\r\n",
        ">Dropout is a Regularization technique where we randomly set neurons in a layer to zero. That way while training those neurons won't be uploaded. Because some percentage od neurons won't be updated the whole training process is long and we have less chance for overfitting."
      ]
    },
    {
      "cell_type": "code",
      "metadata": {
        "id": "PsmAw_vJY9Vb"
      },
      "source": [
        "model.add(tf.keras.layers.Dropout(0.2))"
      ],
      "execution_count": 110,
      "outputs": []
    },
    {
      "cell_type": "markdown",
      "metadata": {
        "id": "7C1WZf36ZyZr"
      },
      "source": [
        "**Adding the output layer**\r\n",
        "  * units number of classes (10 in the Fashion MNIST dataset)\r\n",
        "  * activation: softmax"
      ]
    },
    {
      "cell_type": "code",
      "metadata": {
        "id": "6eb_RjDHaL9B"
      },
      "source": [
        "model.add(tf.keras.layers.Dense(units=10, activation='softmax'))"
      ],
      "execution_count": 111,
      "outputs": []
    },
    {
      "cell_type": "markdown",
      "metadata": {
        "id": "ZznSG0egTTra"
      },
      "source": [
        "**Output layer with Sigmoid activation function**"
      ]
    },
    {
      "cell_type": "code",
      "metadata": {
        "id": "uEz1PQ7CS4YE"
      },
      "source": [
        "# model.add(tf.keras.layers.Dense(units=10, activation='sigmoid'))"
      ],
      "execution_count": 112,
      "outputs": []
    },
    {
      "cell_type": "markdown",
      "metadata": {
        "id": "incyYb3raYrq"
      },
      "source": [
        "**Compiling the model**\r\n",
        "  * Optimizer: Adam\r\n",
        "  * Loss : Sparse softmax (categorical) crossentropy"
      ]
    },
    {
      "cell_type": "markdown",
      "metadata": {
        "id": "eiHFXsqXXUMo"
      },
      "source": [
        "**Setting up Learning rate of optimizer**"
      ]
    },
    {
      "cell_type": "code",
      "metadata": {
        "id": "B1d677FwWqh5"
      },
      "source": [
        "\r\n"
      ],
      "execution_count": 112,
      "outputs": []
    },
    {
      "cell_type": "code",
      "metadata": {
        "id": "0z0ShBgJa5bR"
      },
      "source": [
        "# defining Learning rate for adam optimizer\r\n",
        "\r\n",
        "\r\n",
        "adam = tf.keras.optimizers.Adam(learning_rate=0.01)\r\n",
        "model.compile(optimizer=adam, loss='sparse_categorical_crossentropy', metrics='sparse_categorical_accuracy')"
      ],
      "execution_count": 113,
      "outputs": []
    },
    {
      "cell_type": "markdown",
      "metadata": {
        "id": "Cb9UWX-bZRPn"
      },
      "source": [
        "**Trying SGD (Stochostic Gradient Descent) optimizer**"
      ]
    },
    {
      "cell_type": "code",
      "metadata": {
        "id": "pbOdJRWhZZeG"
      },
      "source": [
        "# Defining SGD Optimizer and assigining Learning_rate\r\n",
        "# from keras.optimizers import SGD\r\n",
        "\r\n",
        "# # decay=0.01\r\n",
        "# # With learning rate decay, the learning rate is calculated each update (e.g. end of each mini-batch) as follows:\r\n",
        "# # lrate = initial_lrate * (1 / (1 + decay * iteration))\r\n",
        "\r\n",
        "# opt = SGD(lr=0.01, momentum=0.9, decay=0.01)\r\n"
      ],
      "execution_count": 114,
      "outputs": []
    },
    {
      "cell_type": "markdown",
      "metadata": {
        "id": "wtnL9xbhjo_s"
      },
      "source": [
        "**Checking the Artichecture of our model**"
      ]
    },
    {
      "cell_type": "code",
      "metadata": {
        "colab": {
          "base_uri": "https://localhost:8080/"
        },
        "id": "YZPpe10cjlt-",
        "outputId": "e18521a3-784d-4169-f61c-7bd7ca94f83c"
      },
      "source": [
        "model.summary()"
      ],
      "execution_count": 115,
      "outputs": [
        {
          "output_type": "stream",
          "text": [
            "Model: \"sequential_3\"\n",
            "_________________________________________________________________\n",
            "Layer (type)                 Output Shape              Param #   \n",
            "=================================================================\n",
            "dense_15 (Dense)             (None, 128)               100480    \n",
            "_________________________________________________________________\n",
            "dropout_3 (Dropout)          (None, 128)               0         \n",
            "_________________________________________________________________\n",
            "dense_16 (Dense)             (None, 10)                1290      \n",
            "=================================================================\n",
            "Total params: 101,770\n",
            "Trainable params: 101,770\n",
            "Non-trainable params: 0\n",
            "_________________________________________________________________\n"
          ],
          "name": "stdout"
        }
      ]
    },
    {
      "cell_type": "markdown",
      "metadata": {
        "id": "O0Mo9QMXjnXk"
      },
      "source": [
        "**<mark>Train the model</mark>**"
      ]
    },
    {
      "cell_type": "code",
      "metadata": {
        "colab": {
          "base_uri": "https://localhost:8080/"
        },
        "id": "S_ufEr1bkeCz",
        "outputId": "f3d1628a-319e-4fcd-bd6d-27b43f8f4d9b"
      },
      "source": [
        "model.fit(X_train, y_train, epochs=10)"
      ],
      "execution_count": 116,
      "outputs": [
        {
          "output_type": "stream",
          "text": [
            "Epoch 1/10\n",
            "1875/1875 [==============================] - 3s 2ms/step - loss: 0.7466 - sparse_categorical_accuracy: 0.7343\n",
            "Epoch 2/10\n",
            "1875/1875 [==============================] - 3s 2ms/step - loss: 0.5651 - sparse_categorical_accuracy: 0.7912\n",
            "Epoch 3/10\n",
            "1875/1875 [==============================] - 3s 2ms/step - loss: 0.5425 - sparse_categorical_accuracy: 0.8030\n",
            "Epoch 4/10\n",
            "1875/1875 [==============================] - 3s 2ms/step - loss: 0.5393 - sparse_categorical_accuracy: 0.8056\n",
            "Epoch 5/10\n",
            "1875/1875 [==============================] - 3s 2ms/step - loss: 0.5354 - sparse_categorical_accuracy: 0.8106\n",
            "Epoch 6/10\n",
            "1875/1875 [==============================] - 3s 2ms/step - loss: 0.5220 - sparse_categorical_accuracy: 0.8112\n",
            "Epoch 7/10\n",
            "1875/1875 [==============================] - 3s 2ms/step - loss: 0.5134 - sparse_categorical_accuracy: 0.8148\n",
            "Epoch 8/10\n",
            "1875/1875 [==============================] - 3s 2ms/step - loss: 0.5105 - sparse_categorical_accuracy: 0.8167\n",
            "Epoch 9/10\n",
            "1875/1875 [==============================] - 3s 2ms/step - loss: 0.5034 - sparse_categorical_accuracy: 0.8177\n",
            "Epoch 10/10\n",
            "1875/1875 [==============================] - 3s 2ms/step - loss: 0.4926 - sparse_categorical_accuracy: 0.8243\n"
          ],
          "name": "stdout"
        },
        {
          "output_type": "execute_result",
          "data": {
            "text/plain": [
              "<tensorflow.python.keras.callbacks.History at 0x7f2b862b4350>"
            ]
          },
          "metadata": {
            "tags": []
          },
          "execution_count": 116
        }
      ]
    },
    {
      "cell_type": "code",
      "metadata": {
        "colab": {
          "base_uri": "https://localhost:8080/"
        },
        "id": "_0mKBg9WleOi",
        "outputId": "3213625b-a376-4cd7-d801-b139138eb19c"
      },
      "source": [
        "X_train.shape"
      ],
      "execution_count": 117,
      "outputs": [
        {
          "output_type": "execute_result",
          "data": {
            "text/plain": [
              "(60000, 784)"
            ]
          },
          "metadata": {
            "tags": []
          },
          "execution_count": 117
        }
      ]
    },
    {
      "cell_type": "markdown",
      "metadata": {
        "id": "QGWJSe3kl7SS"
      },
      "source": [
        "**Model evaluation and prediction**"
      ]
    },
    {
      "cell_type": "code",
      "metadata": {
        "colab": {
          "base_uri": "https://localhost:8080/"
        },
        "id": "91sX9jNNmQ36",
        "outputId": "50c48d79-9fd2-4c68-d943-9202a7c16c41"
      },
      "source": [
        "test_loss, test_accuracy = model.evaluate(X_test, y_test)"
      ],
      "execution_count": 118,
      "outputs": [
        {
          "output_type": "stream",
          "text": [
            "313/313 [==============================] - 1s 2ms/step - loss: 0.4881 - sparse_categorical_accuracy: 0.8374\n"
          ],
          "name": "stdout"
        }
      ]
    },
    {
      "cell_type": "code",
      "metadata": {
        "colab": {
          "base_uri": "https://localhost:8080/"
        },
        "id": "PYXJfxLjnj7J",
        "outputId": "58dc3844-5b28-4b44-cbed-590746f7822b"
      },
      "source": [
        "test_loss"
      ],
      "execution_count": 119,
      "outputs": [
        {
          "output_type": "execute_result",
          "data": {
            "text/plain": [
              "0.48813456296920776"
            ]
          },
          "metadata": {
            "tags": []
          },
          "execution_count": 119
        }
      ]
    },
    {
      "cell_type": "code",
      "metadata": {
        "colab": {
          "base_uri": "https://localhost:8080/"
        },
        "id": "_pkIR8y_n8w4",
        "outputId": "23f1c8be-8941-4bd9-998b-1baf7d158de5"
      },
      "source": [
        "test_accuracy"
      ],
      "execution_count": 120,
      "outputs": [
        {
          "output_type": "execute_result",
          "data": {
            "text/plain": [
              "0.8374000191688538"
            ]
          },
          "metadata": {
            "tags": []
          },
          "execution_count": 120
        }
      ]
    },
    {
      "cell_type": "markdown",
      "metadata": {
        "id": "unZ1p7qtn-3B"
      },
      "source": [
        "# Final Overview\r\n",
        "  Tried many activation functions and optimizers with defferent learning rates..\r\n",
        "\r\n",
        "  * the best activation function is relu for hidden layers in all model archetecture.\r\n",
        "  * the best optimizers is Adam with learning rate 0.01 \r\n",
        "  * softmax activation function is use for multi-classes dataset\r\n",
        "  * Sigmoid activation function is use for binary classes dataset. (e.g 1 or 2, yes or no, apple or banana)\r\n",
        "  * Kernal_initializer == weight initializer in keras"
      ]
    },
    {
      "cell_type": "code",
      "metadata": {
        "id": "QgwhnW9mbMOO"
      },
      "source": [
        ""
      ],
      "execution_count": 120,
      "outputs": []
    }
  ]
}