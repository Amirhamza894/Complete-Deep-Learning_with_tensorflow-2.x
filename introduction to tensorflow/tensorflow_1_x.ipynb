{
  "nbformat": 4,
  "nbformat_minor": 0,
  "metadata": {
    "colab": {
      "name": "tensorflow 1.x.ipynb",
      "provenance": []
    },
    "kernelspec": {
      "name": "python3",
      "display_name": "Python 3"
    }
  },
  "cells": [
    {
      "cell_type": "markdown",
      "metadata": {
        "id": "_NRUZFCODQmo"
      },
      "source": [
        "# Tensorflow 1.X\r\n",
        "\r\n",
        "Installing tensorflow 1.X"
      ]
    },
    {
      "cell_type": "markdown",
      "metadata": {
        "id": "K5qEOYjLGE5-"
      },
      "source": [
        "Avoid  `pip install` use magicline in select tensorflow version"
      ]
    },
    {
      "cell_type": "code",
      "metadata": {
        "id": "aLjFdsZBFl-2",
        "outputId": "ef6e5557-afbe-48fa-991d-11311e01d422",
        "colab": {
          "base_uri": "https://localhost:8080/"
        }
      },
      "source": [
        "%tensorflow_version 1.x"
      ],
      "execution_count": 2,
      "outputs": [
        {
          "output_type": "stream",
          "text": [
            "TensorFlow 1.x selected.\n"
          ],
          "name": "stdout"
        }
      ]
    },
    {
      "cell_type": "code",
      "metadata": {
        "id": "peAciqVjF-fv"
      },
      "source": [
        "import tensorflow as tf"
      ],
      "execution_count": null,
      "outputs": []
    },
    {
      "cell_type": "code",
      "metadata": {
        "id": "ZK1s1lS1GACe",
        "outputId": "0c3cdf93-003f-4040-e6ae-5106f2d52c1f",
        "colab": {
          "base_uri": "https://localhost:8080/",
          "height": 35
        }
      },
      "source": [
        "tf.__version__"
      ],
      "execution_count": 4,
      "outputs": [
        {
          "output_type": "execute_result",
          "data": {
            "application/vnd.google.colaboratory.intrinsic+json": {
              "type": "string"
            },
            "text/plain": [
              "'1.15.2'"
            ]
          },
          "metadata": {
            "tags": []
          },
          "execution_count": 4
        }
      ]
    },
    {
      "cell_type": "markdown",
      "metadata": {
        "id": "9iXS2y5NGCRO"
      },
      "source": [
        "## Constant\r\n",
        "**Defining Constant**"
      ]
    },
    {
      "cell_type": "code",
      "metadata": {
        "id": "4nJVf7rZGms2"
      },
      "source": [
        "tensor = tf.constant([[23,4], [5,5]])"
      ],
      "execution_count": 6,
      "outputs": []
    },
    {
      "cell_type": "code",
      "metadata": {
        "id": "lV6Q0ROsGvlW",
        "outputId": "ba881fb2-b766-4071-9108-f3fb1c0f1529",
        "colab": {
          "base_uri": "https://localhost:8080/"
        }
      },
      "source": [
        "tensor"
      ],
      "execution_count": 7,
      "outputs": [
        {
          "output_type": "execute_result",
          "data": {
            "text/plain": [
              "<tf.Tensor 'Const:0' shape=(2, 2) dtype=int32>"
            ]
          },
          "metadata": {
            "tags": []
          },
          "execution_count": 7
        }
      ]
    },
    {
      "cell_type": "code",
      "metadata": {
        "id": "5FOLeDUVGwlV"
      },
      "source": [
        "constnt = tf.constant([[23,45,34], [34,23,45]])"
      ],
      "execution_count": 11,
      "outputs": []
    },
    {
      "cell_type": "code",
      "metadata": {
        "id": "C3Twmoh2G1c2",
        "outputId": "fbb10efd-9207-410c-9d5a-02e3728595e5",
        "colab": {
          "base_uri": "https://localhost:8080/"
        }
      },
      "source": [
        "constnt"
      ],
      "execution_count": 12,
      "outputs": [
        {
          "output_type": "execute_result",
          "data": {
            "text/plain": [
              "<tf.Tensor 'Const_1:0' shape=(2, 3) dtype=int32>"
            ]
          },
          "metadata": {
            "tags": []
          },
          "execution_count": 12
        }
      ]
    },
    {
      "cell_type": "code",
      "metadata": {
        "id": "7ZDeGYXEHO1d"
      },
      "source": [
        "constnt = tf.constant([[23,23,344],[34,45,76],[45,56,45]])"
      ],
      "execution_count": 14,
      "outputs": []
    },
    {
      "cell_type": "code",
      "metadata": {
        "id": "KRRR6ZUtHahm",
        "outputId": "0ac0bf29-97a9-4fb3-8228-42944e8d12bb",
        "colab": {
          "base_uri": "https://localhost:8080/"
        }
      },
      "source": [
        "constnt"
      ],
      "execution_count": 15,
      "outputs": [
        {
          "output_type": "execute_result",
          "data": {
            "text/plain": [
              "<tf.Tensor 'Const_2:0' shape=(3, 3) dtype=int32>"
            ]
          },
          "metadata": {
            "tags": []
          },
          "execution_count": 15
        }
      ]
    },
    {
      "cell_type": "markdown",
      "metadata": {
        "id": "0_ZW1xszHe-W"
      },
      "source": [
        "**Now to print the constant values in tensorflow 1.x we will initialize session and through eval() function wwe can print values**"
      ]
    },
    {
      "cell_type": "markdown",
      "metadata": {
        "id": "b8vMSzAvIOjt"
      },
      "source": [
        "**Getting values of Constant**"
      ]
    },
    {
      "cell_type": "code",
      "metadata": {
        "id": "1_NEwVceIWCN"
      },
      "source": [
        "session = tf.Session()"
      ],
      "execution_count": 19,
      "outputs": []
    },
    {
      "cell_type": "code",
      "metadata": {
        "id": "8scow2VCIkr1"
      },
      "source": [
        "session.run(tf.global_variables_initializer())"
      ],
      "execution_count": 35,
      "outputs": []
    },
    {
      "cell_type": "code",
      "metadata": {
        "id": "B8KzSPspIuLt"
      },
      "source": [
        "tensor_values = session.run(tensor)"
      ],
      "execution_count": 36,
      "outputs": []
    },
    {
      "cell_type": "code",
      "metadata": {
        "id": "QfvU_wTTI1UN",
        "outputId": "43078f22-503b-4cf9-9117-a787d01bf214",
        "colab": {
          "base_uri": "https://localhost:8080/"
        }
      },
      "source": [
        "tensor_values"
      ],
      "execution_count": 37,
      "outputs": [
        {
          "output_type": "execute_result",
          "data": {
            "text/plain": [
              "array([[23,  4],\n",
              "       [ 5,  5]], dtype=int32)"
            ]
          },
          "metadata": {
            "tags": []
          },
          "execution_count": 37
        }
      ]
    },
    {
      "cell_type": "code",
      "metadata": {
        "id": "YKQuVyMLI3at"
      },
      "source": [
        "tensor_values = session.run(constnt)"
      ],
      "execution_count": 38,
      "outputs": []
    },
    {
      "cell_type": "code",
      "metadata": {
        "id": "XAeD-oxtI7q9",
        "outputId": "57f6247b-b3ea-4901-b5a5-9d0a4730673d",
        "colab": {
          "base_uri": "https://localhost:8080/"
        }
      },
      "source": [
        "tensor_values"
      ],
      "execution_count": 39,
      "outputs": [
        {
          "output_type": "execute_result",
          "data": {
            "text/plain": [
              "array([[ 23,  23, 344],\n",
              "       [ 34,  45,  76],\n",
              "       [ 45,  56,  45]], dtype=int32)"
            ]
          },
          "metadata": {
            "tags": []
          },
          "execution_count": 39
        }
      ]
    },
    {
      "cell_type": "markdown",
      "metadata": {
        "id": "Y58ept_II85N"
      },
      "source": [
        "## Variables"
      ]
    },
    {
      "cell_type": "markdown",
      "metadata": {
        "id": "v5YHpVVNJBod"
      },
      "source": [
        "**Defining a variable**"
      ]
    },
    {
      "cell_type": "code",
      "metadata": {
        "id": "ZsBsXszYJExU"
      },
      "source": [
        "varibale = tf.Variable([[12,34],[23,45]])"
      ],
      "execution_count": 26,
      "outputs": []
    },
    {
      "cell_type": "code",
      "metadata": {
        "id": "Z-ieGdV9JOCI",
        "outputId": "92184146-f2c2-4b56-a890-c630056f6f06",
        "colab": {
          "base_uri": "https://localhost:8080/"
        }
      },
      "source": [
        "varibale"
      ],
      "execution_count": 27,
      "outputs": [
        {
          "output_type": "execute_result",
          "data": {
            "text/plain": [
              "<tf.Variable 'Variable:0' shape=(2, 2) dtype=int32_ref>"
            ]
          },
          "metadata": {
            "tags": []
          },
          "execution_count": 27
        }
      ]
    },
    {
      "cell_type": "code",
      "metadata": {
        "id": "F-R-X98rJQHm"
      },
      "source": [
        "session.run(tf.global_variables_initializer())"
      ],
      "execution_count": 30,
      "outputs": []
    },
    {
      "cell_type": "code",
      "metadata": {
        "id": "QjJXOpeDJWXd"
      },
      "source": [
        "var_value = session.run(varibale)"
      ],
      "execution_count": 31,
      "outputs": []
    },
    {
      "cell_type": "code",
      "metadata": {
        "id": "cf-zFCzTKE1F",
        "outputId": "2d9dc8b1-22da-4a11-d872-426e530c26bc",
        "colab": {
          "base_uri": "https://localhost:8080/"
        }
      },
      "source": [
        "var_value"
      ],
      "execution_count": 32,
      "outputs": [
        {
          "output_type": "execute_result",
          "data": {
            "text/plain": [
              "array([[12, 34],\n",
              "       [23, 45]], dtype=int32)"
            ]
          },
          "metadata": {
            "tags": []
          },
          "execution_count": 32
        }
      ]
    },
    {
      "cell_type": "code",
      "metadata": {
        "id": "4QzE1PZcKGGl",
        "outputId": "1a9f6bc9-e6f1-4670-bec6-bd7899c4d3e2",
        "colab": {
          "base_uri": "https://localhost:8080/"
        }
      },
      "source": [
        "# OR\r\n",
        "\r\n",
        "varibale.eval(session)"
      ],
      "execution_count": 41,
      "outputs": [
        {
          "output_type": "execute_result",
          "data": {
            "text/plain": [
              "array([[12, 34],\n",
              "       [23, 45]], dtype=int32)"
            ]
          },
          "metadata": {
            "tags": []
          },
          "execution_count": 41
        }
      ]
    },
    {
      "cell_type": "markdown",
      "metadata": {
        "id": "_qZDF1IKKkW9"
      },
      "source": [
        "---\r\n",
        "\r\n",
        "# Tensorflow 2.X\r\n",
        "\r\n",
        "---"
      ]
    },
    {
      "cell_type": "code",
      "metadata": {
        "id": "ajTNEqvSLFWr"
      },
      "source": [
        "%tensorflow_version 2.x"
      ],
      "execution_count": 2,
      "outputs": []
    },
    {
      "cell_type": "code",
      "metadata": {
        "id": "QE2u0w5HNogl",
        "outputId": "f5156fb0-b28c-4c88-a5ac-98539ea07833",
        "colab": {
          "base_uri": "https://localhost:8080/",
          "height": 163
        }
      },
      "source": [
        "tf.__version__"
      ],
      "execution_count": 4,
      "outputs": [
        {
          "output_type": "error",
          "ename": "NameError",
          "evalue": "ignored",
          "traceback": [
            "\u001b[0;31m---------------------------------------------------------------------------\u001b[0m",
            "\u001b[0;31mNameError\u001b[0m                                 Traceback (most recent call last)",
            "\u001b[0;32m<ipython-input-4-65996cac02ec>\u001b[0m in \u001b[0;36m<module>\u001b[0;34m()\u001b[0m\n\u001b[0;32m----> 1\u001b[0;31m \u001b[0mtf\u001b[0m\u001b[0;34m.\u001b[0m\u001b[0m__version__\u001b[0m\u001b[0;34m\u001b[0m\u001b[0;34m\u001b[0m\u001b[0m\n\u001b[0m",
            "\u001b[0;31mNameError\u001b[0m: name 'tf' is not defined"
          ]
        }
      ]
    },
    {
      "cell_type": "code",
      "metadata": {
        "id": "c-C3GzQCNwcj"
      },
      "source": [
        ""
      ],
      "execution_count": null,
      "outputs": []
    }
  ]
}