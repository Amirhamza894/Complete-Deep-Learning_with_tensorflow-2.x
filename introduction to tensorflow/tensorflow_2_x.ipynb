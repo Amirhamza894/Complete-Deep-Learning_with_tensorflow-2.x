{
  "nbformat": 4,
  "nbformat_minor": 0,
  "metadata": {
    "colab": {
      "name": "tensorflow 2.x.ipynb",
      "provenance": []
    },
    "kernelspec": {
      "name": "python3",
      "display_name": "Python 3"
    },
    "accelerator": "GPU"
  },
  "cells": [
    {
      "cell_type": "markdown",
      "metadata": {
        "id": "-0YmVY5aSKgD"
      },
      "source": [
        "# Tensorflow 2.x"
      ]
    },
    {
      "cell_type": "code",
      "metadata": {
        "id": "B-V8Jda8OSNV"
      },
      "source": [
        "import tensorflow as tf\r\n",
        "import numpy as np"
      ],
      "execution_count": 3,
      "outputs": []
    },
    {
      "cell_type": "code",
      "metadata": {
        "colab": {
          "base_uri": "https://localhost:8080/",
          "height": 35
        },
        "id": "0iat_ouzOWVN",
        "outputId": "37f134e4-76a1-4669-9470-026e7315140d"
      },
      "source": [
        "tf.__version__"
      ],
      "execution_count": 2,
      "outputs": [
        {
          "output_type": "execute_result",
          "data": {
            "application/vnd.google.colaboratory.intrinsic+json": {
              "type": "string"
            },
            "text/plain": [
              "'2.4.1'"
            ]
          },
          "metadata": {
            "tags": []
          },
          "execution_count": 2
        }
      ]
    },
    {
      "cell_type": "markdown",
      "metadata": {
        "id": "tqJAgIufSTBp"
      },
      "source": [
        "## Constant\r\n",
        "  * Defining a constant"
      ]
    },
    {
      "cell_type": "code",
      "metadata": {
        "id": "8n_kPlJPObmb"
      },
      "source": [
        "tensor = tf.constant([[12,23,45],[45,76,34]])"
      ],
      "execution_count": 4,
      "outputs": []
    },
    {
      "cell_type": "code",
      "metadata": {
        "colab": {
          "base_uri": "https://localhost:8080/"
        },
        "id": "nUkMku_1PBKb",
        "outputId": "1bddea2b-c42f-45d1-8ef1-e724f42b289b"
      },
      "source": [
        "tensor"
      ],
      "execution_count": 5,
      "outputs": [
        {
          "output_type": "execute_result",
          "data": {
            "text/plain": [
              "<tf.Tensor: shape=(2, 3), dtype=int32, numpy=\n",
              "array([[12, 23, 45],\n",
              "       [45, 76, 34]], dtype=int32)>"
            ]
          },
          "metadata": {
            "tags": []
          },
          "execution_count": 5
        }
      ]
    },
    {
      "cell_type": "code",
      "metadata": {
        "colab": {
          "base_uri": "https://localhost:8080/"
        },
        "id": "rz2FKuC-PH_z",
        "outputId": "91306285-9ec8-4f10-d771-95ce1c159713"
      },
      "source": [
        "tensor.shape"
      ],
      "execution_count": 8,
      "outputs": [
        {
          "output_type": "execute_result",
          "data": {
            "text/plain": [
              "TensorShape([2, 3])"
            ]
          },
          "metadata": {
            "tags": []
          },
          "execution_count": 8
        }
      ]
    },
    {
      "cell_type": "code",
      "metadata": {
        "colab": {
          "base_uri": "https://localhost:8080/"
        },
        "id": "Frl1MlBbPDCb",
        "outputId": "5a77b7d3-d482-4a52-f981-1863c7867b2b"
      },
      "source": [
        "tf.print(tensor)"
      ],
      "execution_count": 6,
      "outputs": [
        {
          "output_type": "stream",
          "text": [
            "[[12 23 45]\n",
            " [45 76 34]]\n"
          ],
          "name": "stdout"
        }
      ]
    },
    {
      "cell_type": "code",
      "metadata": {
        "colab": {
          "base_uri": "https://localhost:8080/"
        },
        "id": "elSi5kunPFhj",
        "outputId": "adcee041-f4f3-4299-e223-7253a558e086"
      },
      "source": [
        "tensor.numpy()"
      ],
      "execution_count": 9,
      "outputs": [
        {
          "output_type": "execute_result",
          "data": {
            "text/plain": [
              "array([[12, 23, 45],\n",
              "       [45, 76, 34]], dtype=int32)"
            ]
          },
          "metadata": {
            "tags": []
          },
          "execution_count": 9
        }
      ]
    },
    {
      "cell_type": "code",
      "metadata": {
        "id": "jgOl0to3Pmvz"
      },
      "source": [
        "numpy_array = np.array([[23,34],[45,67]])"
      ],
      "execution_count": 10,
      "outputs": []
    },
    {
      "cell_type": "code",
      "metadata": {
        "id": "v6wSZVfiPzw0"
      },
      "source": [
        "tensor_from_numpy = tf.constant(numpy_array)"
      ],
      "execution_count": 12,
      "outputs": []
    },
    {
      "cell_type": "code",
      "metadata": {
        "colab": {
          "base_uri": "https://localhost:8080/"
        },
        "id": "JM1iuNU8P5lr",
        "outputId": "25a54f73-533c-4884-9334-581a6115a3fd"
      },
      "source": [
        "tensor_from_numpy"
      ],
      "execution_count": 13,
      "outputs": [
        {
          "output_type": "execute_result",
          "data": {
            "text/plain": [
              "<tf.Tensor: shape=(2, 2), dtype=int64, numpy=\n",
              "array([[23, 34],\n",
              "       [45, 67]])>"
            ]
          },
          "metadata": {
            "tags": []
          },
          "execution_count": 13
        }
      ]
    },
    {
      "cell_type": "code",
      "metadata": {
        "colab": {
          "base_uri": "https://localhost:8080/"
        },
        "id": "loUEbl3fP_br",
        "outputId": "aa297c39-c69b-444d-fa15-ea08748a4563"
      },
      "source": [
        "tensor_from_numpy.numpy()"
      ],
      "execution_count": 16,
      "outputs": [
        {
          "output_type": "execute_result",
          "data": {
            "text/plain": [
              "array([[23, 34],\n",
              "       [45, 67]])"
            ]
          },
          "metadata": {
            "tags": []
          },
          "execution_count": 16
        }
      ]
    },
    {
      "cell_type": "code",
      "metadata": {
        "colab": {
          "base_uri": "https://localhost:8080/"
        },
        "id": "DmNLEAXnQBm6",
        "outputId": "10a603ef-47ed-498c-dabb-ad1465dd2d74"
      },
      "source": [
        "tf.print(tensor_from_numpy)"
      ],
      "execution_count": 17,
      "outputs": [
        {
          "output_type": "stream",
          "text": [
            "[[23 34]\n",
            " [45 67]]\n"
          ],
          "name": "stdout"
        }
      ]
    },
    {
      "cell_type": "markdown",
      "metadata": {
        "id": "-EtQ4JMVQHID"
      },
      "source": [
        "**Variable**\r\n",
        "\r\n",
        "  * Defining a Varibale"
      ]
    },
    {
      "cell_type": "code",
      "metadata": {
        "id": "-bqHUodjSq9q"
      },
      "source": [
        "tensor_var = tf.Variable([[12,12],[34,23]])"
      ],
      "execution_count": 20,
      "outputs": []
    },
    {
      "cell_type": "code",
      "metadata": {
        "colab": {
          "base_uri": "https://localhost:8080/"
        },
        "id": "sr0KcCSvS8Bc",
        "outputId": "00ef9868-c160-4d00-f68a-a2e37cc6149c"
      },
      "source": [
        "tensor_var"
      ],
      "execution_count": 21,
      "outputs": [
        {
          "output_type": "execute_result",
          "data": {
            "text/plain": [
              "<tf.Variable 'Variable:0' shape=(2, 2) dtype=int32, numpy=\n",
              "array([[12, 12],\n",
              "       [34, 23]], dtype=int32)>"
            ]
          },
          "metadata": {
            "tags": []
          },
          "execution_count": 21
        }
      ]
    },
    {
      "cell_type": "code",
      "metadata": {
        "colab": {
          "base_uri": "https://localhost:8080/"
        },
        "id": "es-N7OUuTAPC",
        "outputId": "fafbc617-ac43-4c22-d8ff-d4e70dfd3c44"
      },
      "source": [
        "tensor_var.numpy()"
      ],
      "execution_count": 22,
      "outputs": [
        {
          "output_type": "execute_result",
          "data": {
            "text/plain": [
              "array([[12, 12],\n",
              "       [34, 23]], dtype=int32)"
            ]
          },
          "metadata": {
            "tags": []
          },
          "execution_count": 22
        }
      ]
    },
    {
      "cell_type": "code",
      "metadata": {
        "colab": {
          "base_uri": "https://localhost:8080/"
        },
        "id": "GSFDefgTTCzy",
        "outputId": "3563bf66-6d52-4568-f7fa-cb47ec6d3919"
      },
      "source": [
        "tf.print(tensor_var)"
      ],
      "execution_count": 23,
      "outputs": [
        {
          "output_type": "stream",
          "text": [
            "[[12 12]\n",
            " [34 23]]\n"
          ],
          "name": "stdout"
        }
      ]
    },
    {
      "cell_type": "markdown",
      "metadata": {
        "id": "LdffBxqATF7i"
      },
      "source": [
        "## Changing a Specific value is a tensorflow varibale"
      ]
    },
    {
      "cell_type": "code",
      "metadata": {
        "colab": {
          "base_uri": "https://localhost:8080/"
        },
        "id": "OzvC3UScTRH6",
        "outputId": "6958d98e-ec93-4f8d-8a8f-d5ca3e2c7238"
      },
      "source": [
        "tensor_var[1,1].assign(50)"
      ],
      "execution_count": 24,
      "outputs": [
        {
          "output_type": "execute_result",
          "data": {
            "text/plain": [
              "<tf.Variable 'UnreadVariable' shape=(2, 2) dtype=int32, numpy=\n",
              "array([[12, 12],\n",
              "       [34, 50]], dtype=int32)>"
            ]
          },
          "metadata": {
            "tags": []
          },
          "execution_count": 24
        }
      ]
    },
    {
      "cell_type": "code",
      "metadata": {
        "colab": {
          "base_uri": "https://localhost:8080/"
        },
        "id": "1RI9Ya2TTkOK",
        "outputId": "2539475f-7899-4404-b6c4-2406fb5eb5eb"
      },
      "source": [
        "tensor_var[0,1].assign(50)"
      ],
      "execution_count": 25,
      "outputs": [
        {
          "output_type": "execute_result",
          "data": {
            "text/plain": [
              "<tf.Variable 'UnreadVariable' shape=(2, 2) dtype=int32, numpy=\n",
              "array([[12, 50],\n",
              "       [34, 50]], dtype=int32)>"
            ]
          },
          "metadata": {
            "tags": []
          },
          "execution_count": 25
        }
      ]
    },
    {
      "cell_type": "markdown",
      "metadata": {
        "id": "wE0baRcWTpTh"
      },
      "source": [
        "# Operations with tensorflow\r\n",
        " * Operations on tensorflow tensors"
      ]
    },
    {
      "cell_type": "code",
      "metadata": {
        "colab": {
          "base_uri": "https://localhost:8080/"
        },
        "id": "HtG9w9TLWt7B",
        "outputId": "830fe45c-5431-40cb-9796-1f9e58bf06b9"
      },
      "source": [
        "tensor = tf.constant([[1,2,3],[4,5,6]])\r\n",
        "tensor"
      ],
      "execution_count": 26,
      "outputs": [
        {
          "output_type": "execute_result",
          "data": {
            "text/plain": [
              "<tf.Tensor: shape=(2, 3), dtype=int32, numpy=\n",
              "array([[1, 2, 3],\n",
              "       [4, 5, 6]], dtype=int32)>"
            ]
          },
          "metadata": {
            "tags": []
          },
          "execution_count": 26
        }
      ]
    },
    {
      "cell_type": "markdown",
      "metadata": {
        "id": "mb39oY1LZWWo"
      },
      "source": [
        "**Addition between tensor and scaler**"
      ]
    },
    {
      "cell_type": "code",
      "metadata": {
        "colab": {
          "base_uri": "https://localhost:8080/"
        },
        "id": "qj5A5gImZZQH",
        "outputId": "28e2f75c-8b40-4591-fb21-f50915697b8f"
      },
      "source": [
        "tensor + 2"
      ],
      "execution_count": 27,
      "outputs": [
        {
          "output_type": "execute_result",
          "data": {
            "text/plain": [
              "<tf.Tensor: shape=(2, 3), dtype=int32, numpy=\n",
              "array([[3, 4, 5],\n",
              "       [6, 7, 8]], dtype=int32)>"
            ]
          },
          "metadata": {
            "tags": []
          },
          "execution_count": 27
        }
      ]
    },
    {
      "cell_type": "markdown",
      "metadata": {
        "id": "S2TB_kv4Zdrv"
      },
      "source": [
        "**Multiplication betwwen tensor and scaler**"
      ]
    },
    {
      "cell_type": "code",
      "metadata": {
        "colab": {
          "base_uri": "https://localhost:8080/"
        },
        "id": "Juytka48ZlqY",
        "outputId": "2efc5d4f-959d-4387-e395-08e45fc5a42e"
      },
      "source": [
        "tensor * 2"
      ],
      "execution_count": 28,
      "outputs": [
        {
          "output_type": "execute_result",
          "data": {
            "text/plain": [
              "<tf.Tensor: shape=(2, 3), dtype=int32, numpy=\n",
              "array([[ 2,  4,  6],\n",
              "       [ 8, 10, 12]], dtype=int32)>"
            ]
          },
          "metadata": {
            "tags": []
          },
          "execution_count": 28
        }
      ]
    },
    {
      "cell_type": "markdown",
      "metadata": {
        "id": "AKYorYzvZmvQ"
      },
      "source": [
        "**Using Numpy functions on tensors**"
      ]
    },
    {
      "cell_type": "code",
      "metadata": {
        "colab": {
          "base_uri": "https://localhost:8080/"
        },
        "id": "BiSDrkulZ0Z_",
        "outputId": "48ed9332-e152-4671-b257-d3036f47f408"
      },
      "source": [
        "np.sum(tensor)"
      ],
      "execution_count": 29,
      "outputs": [
        {
          "output_type": "execute_result",
          "data": {
            "text/plain": [
              "21"
            ]
          },
          "metadata": {
            "tags": []
          },
          "execution_count": 29
        }
      ]
    },
    {
      "cell_type": "code",
      "metadata": {
        "colab": {
          "base_uri": "https://localhost:8080/"
        },
        "id": "RHcLtucnZ3o_",
        "outputId": "f9be9651-4950-45ec-ec1c-e43acf47618a"
      },
      "source": [
        "np.std(tensor)"
      ],
      "execution_count": 30,
      "outputs": [
        {
          "output_type": "execute_result",
          "data": {
            "text/plain": [
              "1.707825127659933"
            ]
          },
          "metadata": {
            "tags": []
          },
          "execution_count": 30
        }
      ]
    },
    {
      "cell_type": "code",
      "metadata": {
        "colab": {
          "base_uri": "https://localhost:8080/"
        },
        "id": "x2Xls336Z5if",
        "outputId": "19d9aa24-373b-4ac9-fe87-e77203d3a0d9"
      },
      "source": [
        "np.sqrt(tensor)"
      ],
      "execution_count": 31,
      "outputs": [
        {
          "output_type": "execute_result",
          "data": {
            "text/plain": [
              "array([[1.        , 1.41421356, 1.73205081],\n",
              "       [2.        , 2.23606798, 2.44948974]])"
            ]
          },
          "metadata": {
            "tags": []
          },
          "execution_count": 31
        }
      ]
    },
    {
      "cell_type": "code",
      "metadata": {
        "colab": {
          "base_uri": "https://localhost:8080/"
        },
        "id": "BdT4n7EtZ7w4",
        "outputId": "deacb021-b91a-45b1-ae87-0d1614ccb36d"
      },
      "source": [
        "np.square(tensor)"
      ],
      "execution_count": 32,
      "outputs": [
        {
          "output_type": "execute_result",
          "data": {
            "text/plain": [
              "array([[ 1,  4,  9],\n",
              "       [16, 25, 36]], dtype=int32)"
            ]
          },
          "metadata": {
            "tags": []
          },
          "execution_count": 32
        }
      ]
    },
    {
      "cell_type": "code",
      "metadata": {
        "colab": {
          "base_uri": "https://localhost:8080/"
        },
        "id": "htif6iztaACH",
        "outputId": "64467b2d-efc6-4ddb-83f8-2e7c8962811b"
      },
      "source": [
        "tensor_1 = tf.Variable([[23,34],[34,45]])\r\n",
        "tensor_1"
      ],
      "execution_count": 33,
      "outputs": [
        {
          "output_type": "execute_result",
          "data": {
            "text/plain": [
              "<tf.Variable 'Variable:0' shape=(2, 2) dtype=int32, numpy=\n",
              "array([[23, 34],\n",
              "       [34, 45]], dtype=int32)>"
            ]
          },
          "metadata": {
            "tags": []
          },
          "execution_count": 33
        }
      ]
    },
    {
      "cell_type": "code",
      "metadata": {
        "colab": {
          "base_uri": "https://localhost:8080/"
        },
        "id": "U6tptmOBcNGw",
        "outputId": "8f7c96ec-4667-478a-f7c9-e0c2d9a71dea"
      },
      "source": [
        "tensor_2 = tf.Variable([[12,23],[34,34]])\r\n",
        "tensor_2"
      ],
      "execution_count": 34,
      "outputs": [
        {
          "output_type": "execute_result",
          "data": {
            "text/plain": [
              "<tf.Variable 'Variable:0' shape=(2, 2) dtype=int32, numpy=\n",
              "array([[12, 23],\n",
              "       [34, 34]], dtype=int32)>"
            ]
          },
          "metadata": {
            "tags": []
          },
          "execution_count": 34
        }
      ]
    },
    {
      "cell_type": "markdown",
      "metadata": {
        "id": "0NhhfVvkcTA3"
      },
      "source": [
        "# tensorflow Strings\r\n",
        "  * Defining Strings"
      ]
    },
    {
      "cell_type": "code",
      "metadata": {
        "colab": {
          "base_uri": "https://localhost:8080/"
        },
        "id": "1s1BKqwvcZGf",
        "outputId": "e573e650-6968-4de9-a20c-f4e59eb5d154"
      },
      "source": [
        "tf_string = tf.constant('tensorflow')\r\n",
        "tf_string"
      ],
      "execution_count": 39,
      "outputs": [
        {
          "output_type": "execute_result",
          "data": {
            "text/plain": [
              "<tf.Tensor: shape=(), dtype=string, numpy=b'tensorflow'>"
            ]
          },
          "metadata": {
            "tags": []
          },
          "execution_count": 39
        }
      ]
    },
    {
      "cell_type": "markdown",
      "metadata": {
        "id": "uUD_grMFdKq_"
      },
      "source": [
        "### Strings Operations on tensorflow strings"
      ]
    },
    {
      "cell_type": "code",
      "metadata": {
        "colab": {
          "base_uri": "https://localhost:8080/"
        },
        "id": "qdw_xiZxdYOn",
        "outputId": "cfca9865-d0b1-4136-db32-6585f4ea110c"
      },
      "source": [
        "tf.strings.length(tf_string)"
      ],
      "execution_count": 40,
      "outputs": [
        {
          "output_type": "execute_result",
          "data": {
            "text/plain": [
              "<tf.Tensor: shape=(), dtype=int32, numpy=10>"
            ]
          },
          "metadata": {
            "tags": []
          },
          "execution_count": 40
        }
      ]
    },
    {
      "cell_type": "markdown",
      "metadata": {
        "id": "zsEcgEmkddtP"
      },
      "source": [
        "## Convert string into tensor numbr"
      ]
    },
    {
      "cell_type": "code",
      "metadata": {
        "colab": {
          "base_uri": "https://localhost:8080/"
        },
        "id": "KmxbnxP9dmgf",
        "outputId": "9478457b-b509-487b-833d-0049ab45ed80"
      },
      "source": [
        "tf.strings.unicode_decode(tf_string, 'UTF8')\r\n",
        "\r\n",
        "# UTF8 is a format"
      ],
      "execution_count": 44,
      "outputs": [
        {
          "output_type": "execute_result",
          "data": {
            "text/plain": [
              "<tf.Tensor: shape=(10,), dtype=int32, numpy=array([116, 101, 110, 115, 111, 114, 102, 108, 111, 119], dtype=int32)>"
            ]
          },
          "metadata": {
            "tags": []
          },
          "execution_count": 44
        }
      ]
    },
    {
      "cell_type": "markdown",
      "metadata": {
        "id": "LSUU5BDadvAv"
      },
      "source": [
        "### Storing arrays of stings"
      ]
    },
    {
      "cell_type": "code",
      "metadata": {
        "id": "oUe-OcBzfC2P"
      },
      "source": [
        "tf_string_array = tf.constant(['tensorflow', 'Deep Learning', 'Neural Network'])"
      ],
      "execution_count": 45,
      "outputs": []
    },
    {
      "cell_type": "code",
      "metadata": {
        "colab": {
          "base_uri": "https://localhost:8080/"
        },
        "id": "fTQKLub6fRIe",
        "outputId": "22053d98-021e-4b2d-d7b9-4261f8e2a608"
      },
      "source": [
        "# Iteration through tensorflow string array\r\n",
        "\r\n",
        "for string in tf_string_array:\r\n",
        "  print(string)\r\n",
        "  code = tf.strings.unicode_decode(string, 'UTF8')\r\n",
        "  tf.print('String Decoded : ' + str(code))\r\n",
        "  \r\n"
      ],
      "execution_count": 55,
      "outputs": [
        {
          "output_type": "stream",
          "text": [
            "tf.Tensor(b'tensorflow', shape=(), dtype=string)\n",
            "String Decoded : tf.Tensor([116 101 110 115 111 114 102 108 111 119], shape=(10,), dtype=int32)\n",
            "tf.Tensor(b'Deep Learning', shape=(), dtype=string)\n",
            "String Decoded : tf.Tensor([ 68 101 101 112  32  76 101  97 114 110 105 110 103], shape=(13,), dtype=int32)\n",
            "tf.Tensor(b'Neural Network', shape=(), dtype=string)\n",
            "String Decoded : tf.Tensor([ 78 101 117 114  97 108  32  78 101 116 119 111 114 107], shape=(14,), dtype=int32)\n"
          ],
          "name": "stdout"
        }
      ]
    },
    {
      "cell_type": "code",
      "metadata": {
        "id": "LzcmFA3Xf9G-"
      },
      "source": [
        ""
      ],
      "execution_count": null,
      "outputs": []
    }
  ]
}