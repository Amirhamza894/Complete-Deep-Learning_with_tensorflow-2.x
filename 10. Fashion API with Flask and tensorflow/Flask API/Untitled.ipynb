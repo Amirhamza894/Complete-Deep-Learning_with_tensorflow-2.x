{
 "cells": [
  {
   "cell_type": "markdown",
   "id": "7745ec04",
   "metadata": {},
   "source": [
    "### Project setup"
   ]
  },
  {
   "cell_type": "code",
   "execution_count": 1,
   "id": "1ba21a1f",
   "metadata": {},
   "outputs": [],
   "source": [
    "from tensorflow.keras.datasets import fashion_mnist\n",
    "from tensorflow.keras.preprocessing.image import save_img\n",
    "from PIL import Image\n",
    "import imageio\n",
    "from skimage.io import imread"
   ]
  },
  {
   "cell_type": "code",
   "execution_count": 2,
   "id": "e56f57e8",
   "metadata": {},
   "outputs": [],
   "source": [
    "(x_train, y_train), (X_test, y_test) = fashion_mnist.load_data()"
   ]
  },
  {
   "cell_type": "markdown",
   "id": "7d9d033c",
   "metadata": {},
   "source": [
    "#### Saving 10 images from test set"
   ]
  },
  {
   "cell_type": "code",
   "execution_count": 3,
   "id": "0ca6ae3c",
   "metadata": {},
   "outputs": [],
   "source": [
    "for i in range(10):\n",
    "    imageio.imwrite('C:\\\\Users\\\\Sorcim\\\\tensorflow deep learning\\\\10. Fashion API with Flask and tensorflow\\\\Flask API\\\\uploads\\\\{}.jpg'.format(i), X_test[i])"
   ]
  },
  {
   "cell_type": "markdown",
   "id": "cb909aad",
   "metadata": {},
   "source": [
    "### Importing Project Important libraries"
   ]
  },
  {
   "cell_type": "code",
   "execution_count": 4,
   "id": "78371424",
   "metadata": {},
   "outputs": [],
   "source": [
    "import os\n",
    "import requests\n",
    "import numpy as np\n",
    "import tensorflow as tf\n",
    "import imageio\n",
    "from flask import Flask, request, jsonify"
   ]
  },
  {
   "cell_type": "markdown",
   "id": "68c410b4",
   "metadata": {},
   "source": [
    "### Load the pretrained model\n",
    "#### Loading Model Structure"
   ]
  },
  {
   "cell_type": "code",
   "execution_count": 5,
   "id": "d81af799",
   "metadata": {},
   "outputs": [],
   "source": [
    "with open('fashion_model_flask.json', 'r') as f:\n",
    "    model_json = f.read()\n",
    "\n",
    "model = tf.keras.models.model_from_json(model_json)"
   ]
  },
  {
   "cell_type": "markdown",
   "id": "c03a562d",
   "metadata": {},
   "source": [
    "#### Loading Wieghts"
   ]
  },
  {
   "cell_type": "code",
   "execution_count": 6,
   "id": "2612f3ef",
   "metadata": {},
   "outputs": [],
   "source": [
    "model.load_weights('fashion_model_flask.h5')"
   ]
  },
  {
   "cell_type": "markdown",
   "id": "3edcbf13",
   "metadata": {},
   "source": [
    "### Creating the Flask API\n",
    "#### Define the Flask Application"
   ]
  },
  {
   "cell_type": "code",
   "execution_count": 7,
   "id": "5b8b599a",
   "metadata": {},
   "outputs": [],
   "source": [
    "app = Flask(__name__)"
   ]
  },
  {
   "cell_type": "markdown",
   "id": "111874d2",
   "metadata": {},
   "source": [
    "### Defining the classify_image function"
   ]
  },
  {
   "cell_type": "code",
   "execution_count": 8,
   "id": "10df8893",
   "metadata": {},
   "outputs": [],
   "source": [
    "@app.route('/api/v1/<string:img_name>', methods=['POST'])\n",
    "def classify_img(img_name):\n",
    "    upload_dir = 'uploads/'\n",
    "    image = imread(upload_dir + img_name)\n",
    "    \n",
    "    classes = ['T-shirt/top', 'Trouser', 'Pullover', 'Dress', 'Coat', 'Sandal', 'Shirt', 'Sneaker', 'Bag', 'Ankle boot']\n",
    "    \n",
    "    prediction = model.predict([image.reshape(1, 28*28)])\n",
    "    \n",
    "    return jsonify({'object_detection':classes[np.argmax(prediction[0])]})"
   ]
  },
  {
   "cell_type": "markdown",
   "id": "0482add3",
   "metadata": {},
   "source": [
    "### Start Flask API and make prediction"
   ]
  },
  {
   "cell_type": "code",
   "execution_count": null,
   "id": "eeb8fa9c",
   "metadata": {},
   "outputs": [
    {
     "name": "stdout",
     "output_type": "stream",
     "text": [
      " * Serving Flask app \"__main__\" (lazy loading)\n",
      " * Environment: production\n",
      "   WARNING: This is a development server. Do not use it in a production deployment.\n",
      "   Use a production WSGI server instead.\n",
      " * Debug mode: off\n"
     ]
    },
    {
     "name": "stderr",
     "output_type": "stream",
     "text": [
      " * Running on http://127.0.0.1:8000/ (Press CTRL+C to quit)\n",
      "[2021-04-06 12:19:32,513] ERROR in app: Exception on /api/v1/0.png [POST]\n",
      "Traceback (most recent call last):\n",
      "  File \"C:\\ProgramData\\Anaconda3\\envs\\tensorflow\\lib\\site-packages\\flask\\app.py\", line 2447, in wsgi_app\n",
      "    response = self.full_dispatch_request()\n",
      "  File \"C:\\ProgramData\\Anaconda3\\envs\\tensorflow\\lib\\site-packages\\flask\\app.py\", line 1952, in full_dispatch_request\n",
      "    rv = self.handle_user_exception(e)\n",
      "  File \"C:\\ProgramData\\Anaconda3\\envs\\tensorflow\\lib\\site-packages\\flask\\app.py\", line 1821, in handle_user_exception\n",
      "    reraise(exc_type, exc_value, tb)\n",
      "  File \"C:\\ProgramData\\Anaconda3\\envs\\tensorflow\\lib\\site-packages\\flask\\_compat.py\", line 39, in reraise\n",
      "    raise value\n",
      "  File \"C:\\ProgramData\\Anaconda3\\envs\\tensorflow\\lib\\site-packages\\flask\\app.py\", line 1950, in full_dispatch_request\n",
      "    rv = self.dispatch_request()\n",
      "  File \"C:\\ProgramData\\Anaconda3\\envs\\tensorflow\\lib\\site-packages\\flask\\app.py\", line 1936, in dispatch_request\n",
      "    return self.view_functions[rule.endpoint](**req.view_args)\n",
      "  File \"<ipython-input-8-b919e0fcd671>\", line 4, in classify_img\n",
      "    image = imread(upload_dir + img_name)\n",
      "  File \"C:\\ProgramData\\Anaconda3\\envs\\tensorflow\\lib\\site-packages\\skimage\\io\\_io.py\", line 48, in imread\n",
      "    img = call_plugin('imread', fname, plugin=plugin, **plugin_args)\n",
      "  File \"C:\\ProgramData\\Anaconda3\\envs\\tensorflow\\lib\\site-packages\\skimage\\io\\manage_plugins.py\", line 207, in call_plugin\n",
      "    return func(*args, **kwargs)\n",
      "  File \"C:\\ProgramData\\Anaconda3\\envs\\tensorflow\\lib\\site-packages\\skimage\\io\\_plugins\\imageio_plugin.py\", line 10, in imread\n",
      "    return np.asarray(imageio_imread(*args, **kwargs))\n",
      "  File \"C:\\ProgramData\\Anaconda3\\envs\\tensorflow\\lib\\site-packages\\imageio\\core\\functions.py\", line 265, in imread\n",
      "    reader = read(uri, format, \"i\", **kwargs)\n",
      "  File \"C:\\ProgramData\\Anaconda3\\envs\\tensorflow\\lib\\site-packages\\imageio\\core\\functions.py\", line 172, in get_reader\n",
      "    request = Request(uri, \"r\" + mode, **kwargs)\n",
      "  File \"C:\\ProgramData\\Anaconda3\\envs\\tensorflow\\lib\\site-packages\\imageio\\core\\request.py\", line 124, in __init__\n",
      "    self._parse_uri(uri)\n",
      "  File \"C:\\ProgramData\\Anaconda3\\envs\\tensorflow\\lib\\site-packages\\imageio\\core\\request.py\", line 260, in _parse_uri\n",
      "    raise FileNotFoundError(\"No such file: '%s'\" % fn)\n",
      "FileNotFoundError: No such file: 'C:\\Users\\Sorcim\\tensorflow deep learning\\10. Fashion API with Flask and tensorflow\\Flask API\\uploads\\0.png'\n",
      "127.0.0.1 - - [06/Apr/2021 12:19:32] \"\u001b[35m\u001b[1mPOST /api/v1/0.png HTTP/1.1\u001b[0m\" 500 -\n",
      "127.0.0.1 - - [06/Apr/2021 12:20:37] \"\u001b[37mPOST /api/v1/0.jpg HTTP/1.1\u001b[0m\" 200 -\n",
      "127.0.0.1 - - [06/Apr/2021 12:21:04] \"\u001b[37mPOST /api/v1/6.jpg HTTP/1.1\u001b[0m\" 200 -\n",
      "127.0.0.1 - - [06/Apr/2021 12:22:35] \"\u001b[37mPOST /api/v1/1.jpg HTTP/1.1\u001b[0m\" 200 -\n"
     ]
    }
   ],
   "source": [
    "app.run(port=8000, debug=False)"
   ]
  },
  {
   "cell_type": "code",
   "execution_count": null,
   "id": "e31410d7",
   "metadata": {},
   "outputs": [],
   "source": []
  }
 ],
 "metadata": {
  "kernelspec": {
   "display_name": "Python 3",
   "language": "python",
   "name": "python3"
  },
  "language_info": {
   "codemirror_mode": {
    "name": "ipython",
    "version": 3
   },
   "file_extension": ".py",
   "mimetype": "text/x-python",
   "name": "python",
   "nbconvert_exporter": "python",
   "pygments_lexer": "ipython3",
   "version": "3.8.8"
  }
 },
 "nbformat": 4,
 "nbformat_minor": 5
}
