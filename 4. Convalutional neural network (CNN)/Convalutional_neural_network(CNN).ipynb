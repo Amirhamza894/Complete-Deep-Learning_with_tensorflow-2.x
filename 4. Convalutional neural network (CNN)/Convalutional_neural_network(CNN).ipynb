{
 "cells": [
  {
   "cell_type": "markdown",
   "id": "civilian-coach",
   "metadata": {},
   "source": [
    "# Importing Libraries"
   ]
  },
  {
   "cell_type": "code",
   "execution_count": 7,
   "id": "legendary-adobe",
   "metadata": {},
   "outputs": [
    {
     "data": {
      "text/plain": [
       "'2.4.1'"
      ]
     },
     "execution_count": 7,
     "metadata": {},
     "output_type": "execute_result"
    }
   ],
   "source": [
    "import tensorflow as tf\n",
    "import matplotlib.pyplot as plt\n",
    "\n",
    "from tensorflow.keras.datasets import cifar10\n",
    "%matplotlib inline\n",
    "tf.__version__"
   ]
  },
  {
   "cell_type": "markdown",
   "id": "liquid-yield",
   "metadata": {},
   "source": [
    "# Data Preprocessing"
   ]
  },
  {
   "cell_type": "markdown",
   "id": "lesser-insulin",
   "metadata": {},
   "source": [
    "**Loading Cifer10 DataSet**"
   ]
  },
  {
   "cell_type": "code",
   "execution_count": 8,
   "id": "czech-cornwall",
   "metadata": {},
   "outputs": [],
   "source": [
    "# Setting names of the classes for items in a data set\n",
    "\n",
    "class_name = ['airplane', 'automobile', 'bird', 'cat', 'deer', 'dog', 'frog', 'horse', 'ship', 'truck']"
   ]
  },
  {
   "cell_type": "markdown",
   "id": "cross-romance",
   "metadata": {},
   "source": [
    "**Load the data into train test**"
   ]
  },
  {
   "cell_type": "code",
   "execution_count": 9,
   "id": "random-alcohol",
   "metadata": {},
   "outputs": [
    {
     "name": "stdout",
     "output_type": "stream",
     "text": [
      "Downloading data from https://www.cs.toronto.edu/~kriz/cifar-10-python.tar.gz\n",
      "170500096/170498071 [==============================] - 292s 2us/step\n"
     ]
    }
   ],
   "source": [
    "(X_train, y_train), (X_test, y_test) = cifar10.load_data()"
   ]
  },
  {
   "cell_type": "markdown",
   "id": "threaded-sucking",
   "metadata": {},
   "source": [
    "## Dataset (images) Normalization"
   ]
  },
  {
   "cell_type": "code",
   "execution_count": 10,
   "id": "stopped-tunnel",
   "metadata": {},
   "outputs": [
    {
     "data": {
      "text/plain": [
       "(50000, 32, 32, 3)"
      ]
     },
     "execution_count": 10,
     "metadata": {},
     "output_type": "execute_result"
    }
   ],
   "source": [
    "X_train.shape"
   ]
  },
  {
   "cell_type": "code",
   "execution_count": 11,
   "id": "final-drink",
   "metadata": {},
   "outputs": [],
   "source": [
    "X_train = X_train / 255.0"
   ]
  },
  {
   "cell_type": "code",
   "execution_count": 13,
   "id": "fabulous-eligibility",
   "metadata": {},
   "outputs": [],
   "source": [
    "X_test = X_test / 255.0"
   ]
  },
  {
   "cell_type": "code",
   "execution_count": 14,
   "id": "universal-suite",
   "metadata": {},
   "outputs": [
    {
     "data": {
      "text/plain": [
       "(10000, 32, 32, 3)"
      ]
     },
     "execution_count": 14,
     "metadata": {},
     "output_type": "execute_result"
    }
   ],
   "source": [
    "X_test.shape"
   ]
  },
  {
   "cell_type": "code",
   "execution_count": 17,
   "id": "figured-council",
   "metadata": {},
   "outputs": [
    {
     "data": {
      "image/png": "[encoded data removed]",
      "text/plain": [
       "<Figure size 432x288 with 1 Axes>"
      ]
     },
     "metadata": {
      "needs_background": "light"
     },
     "output_type": "display_data"
    }
   ],
   "source": [
    "plt.imshow(X_train[11]);"
   ]
  },
  {
   "cell_type": "markdown",
   "id": "accessible-nomination",
   "metadata": {},
   "source": [
    "# Building a Convolutional Neural Network (CNN)"
   ]
  },
  {
   "cell_type": "markdown",
   "id": "frequent-sector",
   "metadata": {},
   "source": [
    "**Defining a model**"
   ]
  },
  {
   "cell_type": "code",
   "execution_count": 18,
   "id": "upper-white",
   "metadata": {},
   "outputs": [],
   "source": [
    "model = tf.keras.models.Sequential()"
   ]
  },
  {
   "cell_type": "markdown",
   "id": "driving-integral",
   "metadata": {},
   "source": [
    "**Adding the first Convolutional neural network**\n",
    "\n",
    "CNN layer Hyper-parameters:\n",
    "   * filters = 32\n",
    "   * kernal_size = 3\n",
    "   * padding = same\n",
    "   * activation = relu\n",
    "   * input_shape = (32,32,3)"
   ]
  },
  {
   "cell_type": "code",
   "execution_count": 20,
   "id": "underlying-incident",
   "metadata": {},
   "outputs": [],
   "source": [
    "model.add(tf.keras.layers.Conv2D(filters=32, kernel_size=3, padding='same', activation = 'relu', input_shape=[32,32,3]))"
   ]
  },
  {
   "cell_type": "markdown",
   "id": "recreational-active",
   "metadata": {},
   "source": [
    "**Adding Second Convolutional layer and the max-pooling layer**\n",
    "\n",
    "CNN Layer Hyper-parameter\n",
    "* filters = 32\n",
    "* kernel_size = 3\n",
    "* padding = same\n",
    "* activation = relu\n",
    "\n",
    "MaxPool layer Hyper-parameter\n",
    "* pool_size = 2\n",
    "* strides = 2\n",
    "* padding = valid"
   ]
  },
  {
   "cell_type": "code",
   "execution_count": null,
   "id": "settled-granny",
   "metadata": {},
   "outputs": [],
   "source": []
  }
 ],
 "metadata": {
  "kernelspec": {
   "display_name": "Python 3",
   "language": "python",
   "name": "python3"
  },
  "language_info": {
   "codemirror_mode": {
    "name": "ipython",
    "version": 3
   },
   "file_extension": ".py",
   "mimetype": "text/x-python",
   "name": "python",
   "nbconvert_exporter": "python",
   "pygments_lexer": "ipython3",
   "version": "3.8.8"
  }
 },
 "nbformat": 4,
 "nbformat_minor": 5
}
