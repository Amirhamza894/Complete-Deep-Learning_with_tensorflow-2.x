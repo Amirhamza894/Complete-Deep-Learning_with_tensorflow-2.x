{
 "cells": [
  {
   "cell_type": "markdown",
   "id": "dedicated-marketing",
   "metadata": {},
   "source": [
    "# <mark>`Create a CNN model and Optimizing it using keras tuner`</mark>\n",
    "* Dataset = Fashion Mnist---> keras builtin dataset\n",
    "\n",
    "Kindly if you guys wants to run this notebook on CPU. \n",
    "\n",
    "##### ❗ kindly don't do this.. because this notebook takes arounds 2 hours to complete full iterations, trials and epochs\n",
    "\n",
    "##### 💯 Upload this notebook to google colab and change runtime to <mark>`GPU`</mark>... GPU gives us 4x-5x speed. 5 or 4 times faster than CPU"
   ]
  },
  {
   "cell_type": "markdown",
   "id": "pharmaceutical-hazard",
   "metadata": {},
   "source": [
    "import tensorflow as tf\n",
    "import numpy as np\n",
    "from tensorflow import keras\n",
    "import matplotlib.pyplot as plt"
   ]
  },
  {
   "cell_type": "code",
   "execution_count": 9,
   "id": "verified-hardwood",
   "metadata": {},
   "outputs": [
    {
     "data": {
      "text/plain": [
       "'2.4.1'"
      ]
     },
     "execution_count": 9,
     "metadata": {},
     "output_type": "execute_result"
    }
   ],
   "source": [
    "tf.__version__"
   ]
  },
  {
   "cell_type": "code",
   "execution_count": 10,
   "id": "fresh-sculpture",
   "metadata": {},
   "outputs": [],
   "source": [
    "fashion_mnist = keras.datasets.fashion_mnist"
   ]
  },
  {
   "cell_type": "code",
   "execution_count": 11,
   "id": "moved-imperial",
   "metadata": {},
   "outputs": [],
   "source": [
    "(train_images, train_labels), (test_images, test_labels) = fashion_mnist.load_data()"
   ]
  },
  {
   "cell_type": "code",
   "execution_count": 17,
   "id": "virtual-farmer",
   "metadata": {
    "collapsed": true,
    "jupyter": {
     "outputs_hidden": true
    }
   },
   "outputs": [
    {
     "data": {
      "image/png": "[encoded data removed]",
      "text/plain": [
       "<Figure size 432x288 with 1 Axes>"
      ]
     },
     "metadata": {
      "needs_background": "light"
     },
     "output_type": "display_data"
    }
   ],
   "source": [
    "plt.imshow(train_images[56]);"
   ]
  },
  {
   "cell_type": "markdown",
   "id": "understanding-insurance",
   "metadata": {},
   "source": [
    "## <mark>`Data Normalization`</mark>"
   ]
  },
  {
   "cell_type": "code",
   "execution_count": 18,
   "id": "sensitive-oxygen",
   "metadata": {},
   "outputs": [],
   "source": [
    "train_images = train_images / 255.0\n",
    "test_images = test_images / 255.0"
   ]
  },
  {
   "cell_type": "code",
   "execution_count": 19,
   "id": "lonely-offset",
   "metadata": {},
   "outputs": [
    {
     "data": {
      "text/plain": [
       "((28, 28), (28, 28))"
      ]
     },
     "execution_count": 19,
     "metadata": {},
     "output_type": "execute_result"
    }
   ],
   "source": [
    "train_images[2].shape, test_images[4].shape"
   ]
  },
  {
   "cell_type": "code",
   "execution_count": 20,
   "id": "expired-definition",
   "metadata": {},
   "outputs": [],
   "source": [
    "train_images = train_images.reshape(len(train_images), 28, 28, 1)\n",
    "test_images = test_images.reshape(len(test_images), 28, 28, 1)"
   ]
  },
  {
   "cell_type": "markdown",
   "id": "coated-turning",
   "metadata": {},
   "source": [
    "### <mark>`CNN Architecture`</mark>\n",
    "\n",
    "**Figure 1**\n",
    "\n",
    "\n",
    "<img src=\"https://www.researchgate.net/publication/338199242/figure/fig1/AS:840889396113413@1577495063054/Basic-structure-of-a-CNN.jpg\">\n",
    "\n",
    "**Figure 2**\n",
    "\n",
    "\n",
    "<img src=\"https://miro.medium.com/max/724/0*0zhQv-8SGGzVGETN.png\">\n",
    "\n",
    "**<mark>`filters`</mark>**\n",
    ">`filters` is multplying metrics with part of image to get edges of the images or parts of an images.\n",
    "\n",
    "\n",
    "<img src=\"https://encrypted-tbn0.gstatic.com/images?q=tbn:ANd9GcRBPlW6IcEEhwhTkguVESbV_lEd26qF6lZn5Q&usqp=CAU\" width=\"500\" height=\"600\">\n",
    "\n",
    ">in the code below we specify filters that means selecting different values for filters\n",
    "`mix_value` and `max_values` for filters is how many filters we select between 32 and 128\n",
    "\n",
    "**<mark>`Kernel`</mark>**\n",
    ">`kernel` is the size of the filters `metrics values`.\n",
    "we specify values keras tuner will pick different values in that specific size as we mentioned\n",
    "\n",
    "\n",
    "\n",
    "<img src=\"https://anhreynolds.com/img/cnn.png\">\n",
    "\n",
    "**<mark>`Flatten`</mark>**\n",
    "> `Flatten` just flat the values of metrics values of an image.\n",
    "\n",
    "\n",
    "\n",
    "<img src=\"https://missinglink.ai/wp-content/uploads/2019/04/Group-5.png\">\n",
    "\n",
    "**<mark>`Padding`</mark>**\\\n",
    "* same\n",
    "* valid\n",
    "\n",
    "<img src='https://aws1.discourse-cdn.com/business6/uploads/analyticsvidhya/original/2X/1/103763df32a7437e1ccefb15168856ae353dd597.png'>"
   ]
  },
  {
   "cell_type": "code",
   "execution_count": 39,
   "id": "suspended-electric",
   "metadata": {},
   "outputs": [],
   "source": [
    "def build_model(hp):\n",
    "    model = keras.Sequential([keras.layers.Conv2D(filters=hp.Int('conv_1_filter', min_value=32, max_value=128, step=16),\n",
    "                                                kernel_size = hp.Choice('conv_1_kernel', values = [3,5]),\n",
    "                                                activation='relu',\n",
    "                                                input_shape=(28,28,1)),\n",
    "                             keras.layers.Conv2D(filters=hp.Int('conv_2_filter', min_value=32, max_value=64, step=16),\n",
    "                                                kernel_size=hp.Choice('conv_2_kernel', values=[3,5]),\n",
    "                                                activation='relu'),\n",
    "                             keras.layers.Flatten(),\n",
    "                             keras.layers.Dense(units=hp.Int('dense_1_units', min_value=32, max_value=128, step=16),\n",
    "                                               activation = 'relu'),\n",
    "                             keras.layers.Dense(10, activation='softmax')])\n",
    "    model.compile(optimizer=keras.optimizers.Adam(hp.Choice('learning_rate', values=[1e-2, 1e-3])),\n",
    "                 loss='sparse_categorical_crossentropy',\n",
    "                 metrics = ['accuracy'])\n",
    "    return model"
   ]
  },
  {
   "cell_type": "markdown",
   "id": "genuine-second",
   "metadata": {},
   "source": [
    "## <mark>`let's apply Keras tuner/hyperparametrs tuning`</mark>"
   ]
  },
  {
   "cell_type": "code",
   "execution_count": 35,
   "id": "accepted-webcam",
   "metadata": {},
   "outputs": [],
   "source": [
    "from kerastuner import RandomSearch\n",
    "from kerastuner.engine.hyperparameters import HyperParameters"
   ]
  },
  {
   "cell_type": "code",
   "execution_count": 40,
   "id": "informative-commissioner",
   "metadata": {},
   "outputs": [],
   "source": [
    "tuner_search = RandomSearch(build_model, objective='val_accuracy', max_trials=5,\n",
    "                            directory = 'output_directory', project_name = 'MNIST_fashion')"
   ]
  },
  {
   "cell_type": "markdown",
   "id": "scientific-light",
   "metadata": {},
   "source": [
    "**this <mark>`search`</mark> function will search best parametrs for this build model**\n",
    "* remember when ever we give this <mark>`max_trials`</mark> it will run only for 2 epochs and with the help of those 2 epochs tuner will find best parameters.\n",
    "* latter on you can run any number of epochs"
   ]
  },
  {
   "cell_type": "markdown",
   "id": "civil-anniversary",
   "metadata": {},
   "source": [
    "**<mark>`lets run to find the best hyperparameters for CNN model for fashion mnist dataset`</mark>**"
   ]
  },
  {
   "cell_type": "code",
   "execution_count": 41,
   "id": "permanent-mechanism",
   "metadata": {},
   "outputs": [
    {
     "name": "stdout",
     "output_type": "stream",
     "text": [
      "Trial 5 Complete [00h 05m 02s]\n",
      "val_accuracy: 0.8558333516120911\n",
      "\n",
      "Best val_accuracy So Far: 0.9035000205039978\n",
      "Total elapsed time: 00h 33m 28s\n",
      "INFO:tensorflow:Oracle triggered exit\n"
     ]
    }
   ],
   "source": [
    "tuner_search.search(train_images, train_labels, epochs=3, validation_split=0.1)"
   ]
  },
  {
   "cell_type": "code",
   "execution_count": 43,
   "id": "acoustic-davis",
   "metadata": {},
   "outputs": [
    {
     "name": "stdout",
     "output_type": "stream",
     "text": [
      "Results summary\n",
      "Results in output_directory\\MNIST_fashion\n",
      "Showing 10 best trials\n",
      "Objective(name='val_accuracy', direction='max')\n",
      "Trial summary\n",
      "Hyperparameters:\n",
      "conv_1_filter: 48\n",
      "conv_1_kernel: 5\n",
      "conv_2_filter: 48\n",
      "conv_2_kernel: 5\n",
      "dense_1_units: 112\n",
      "learning_rate: 0.001\n",
      "Score: 0.9035000205039978\n",
      "Trial summary\n",
      "Hyperparameters:\n",
      "conv_1_filter: 128\n",
      "conv_1_kernel: 5\n",
      "conv_2_filter: 64\n",
      "conv_2_kernel: 5\n",
      "dense_1_units: 96\n",
      "learning_rate: 0.001\n",
      "Score: 0.9016666412353516\n",
      "Trial summary\n",
      "Hyperparameters:\n",
      "conv_1_filter: 96\n",
      "conv_1_kernel: 3\n",
      "conv_2_filter: 48\n",
      "conv_2_kernel: 5\n",
      "dense_1_units: 48\n",
      "learning_rate: 0.01\n",
      "Score: 0.8730000257492065\n",
      "Trial summary\n",
      "Hyperparameters:\n",
      "conv_1_filter: 64\n",
      "conv_1_kernel: 3\n",
      "conv_2_filter: 48\n",
      "conv_2_kernel: 3\n",
      "dense_1_units: 48\n",
      "learning_rate: 0.01\n",
      "Score: 0.8648333549499512\n",
      "Trial summary\n",
      "Hyperparameters:\n",
      "conv_1_filter: 96\n",
      "conv_1_kernel: 5\n",
      "conv_2_filter: 64\n",
      "conv_2_kernel: 3\n",
      "dense_1_units: 64\n",
      "learning_rate: 0.01\n",
      "Score: 0.8558333516120911\n"
     ]
    }
   ],
   "source": [
    "tuner_search.results_summary()"
   ]
  },
  {
   "cell_type": "markdown",
   "id": "based-borough",
   "metadata": {},
   "source": [
    "# 🤩🤩🤩\n",
    "### Ahaaaan\n",
    "you guys can see the best models is the first one which gives use 90+ accuracy"
   ]
  },
  {
   "cell_type": "code",
   "execution_count": 45,
   "id": "affected-reliance",
   "metadata": {},
   "outputs": [],
   "source": [
    "model = tuner_search.get_best_models(num_models=1)[0]"
   ]
  },
  {
   "cell_type": "code",
   "execution_count": 47,
   "id": "distinct-cursor",
   "metadata": {},
   "outputs": [
    {
     "name": "stdout",
     "output_type": "stream",
     "text": [
      "Model: \"sequential\"\n",
      "_________________________________________________________________\n",
      "Layer (type)                 Output Shape              Param #   \n",
      "=================================================================\n",
      "conv2d (Conv2D)              (None, 24, 24, 48)        1248      \n",
      "_________________________________________________________________\n",
      "conv2d_1 (Conv2D)            (None, 20, 20, 48)        57648     \n",
      "_________________________________________________________________\n",
      "flatten (Flatten)            (None, 19200)             0         \n",
      "_________________________________________________________________\n",
      "dense (Dense)                (None, 112)               2150512   \n",
      "_________________________________________________________________\n",
      "dense_1 (Dense)              (None, 10)                1130      \n",
      "=================================================================\n",
      "Total params: 2,210,538\n",
      "Trainable params: 2,210,538\n",
      "Non-trainable params: 0\n",
      "_________________________________________________________________\n"
     ]
    }
   ],
   "source": [
    "model.summary()"
   ]
  },
  {
   "cell_type": "markdown",
   "id": "standard-wages",
   "metadata": {},
   "source": [
    "**Now the Best model is selected and we can use this model on our training and testing**"
   ]
  },
  {
   "cell_type": "code",
   "execution_count": 50,
   "id": "conditional-updating",
   "metadata": {},
   "outputs": [
    {
     "name": "stdout",
     "output_type": "stream",
     "text": [
      "Epoch 4/10\n",
      "1688/1688 [==============================] - 109s 64ms/step - loss: 0.1616 - accuracy: 0.9386 - val_loss: 0.2801 - val_accuracy: 0.9063\n",
      "Epoch 5/10\n",
      "1688/1688 [==============================] - 107s 63ms/step - loss: 0.1226 - accuracy: 0.9536 - val_loss: 0.2784 - val_accuracy: 0.9152\n",
      "Epoch 6/10\n",
      "1688/1688 [==============================] - 103s 61ms/step - loss: 0.0942 - accuracy: 0.9641 - val_loss: 0.3150 - val_accuracy: 0.9123\n",
      "Epoch 7/10\n",
      "1688/1688 [==============================] - 101s 60ms/step - loss: 0.0707 - accuracy: 0.9725 - val_loss: 0.3553 - val_accuracy: 0.9148\n",
      "Epoch 8/10\n",
      "1688/1688 [==============================] - 100s 59ms/step - loss: 0.0561 - accuracy: 0.9789 - val_loss: 0.3629 - val_accuracy: 0.9157\n",
      "Epoch 9/10\n",
      "1688/1688 [==============================] - 103s 61ms/step - loss: 0.0452 - accuracy: 0.9839 - val_loss: 0.4451 - val_accuracy: 0.9105\n",
      "Epoch 10/10\n",
      "1688/1688 [==============================] - 101s 60ms/step - loss: 0.0382 - accuracy: 0.9858 - val_loss: 0.5209 - val_accuracy: 0.9130\n"
     ]
    },
    {
     "data": {
      "text/plain": [
       "<tensorflow.python.keras.callbacks.History at 0x27cc4bb5580>"
      ]
     },
     "execution_count": 50,
     "metadata": {},
     "output_type": "execute_result"
    }
   ],
   "source": [
    "model.fit(train_images, train_labels, epochs=10, validation_split=0.1, initial_epoch=3)"
   ]
  },
  {
   "cell_type": "code",
   "execution_count": 58,
   "id": "concrete-liability",
   "metadata": {},
   "outputs": [
    {
     "name": "stdout",
     "output_type": "stream",
     "text": [
      "313/313 [==============================] - 3s 10ms/step - loss: 0.5523 - accuracy: 0.9066\n"
     ]
    }
   ],
   "source": [
    "test_loss, test_accuracy = model.evaluate(test_images, test_labels)"
   ]
  },
  {
   "cell_type": "code",
   "execution_count": 59,
   "id": "composed-broadway",
   "metadata": {},
   "outputs": [
    {
     "data": {
      "text/plain": [
       "0.5523265600204468"
      ]
     },
     "execution_count": 59,
     "metadata": {},
     "output_type": "execute_result"
    }
   ],
   "source": [
    "test_loss"
   ]
  },
  {
   "cell_type": "code",
   "execution_count": 60,
   "id": "talented-durham",
   "metadata": {},
   "outputs": [
    {
     "data": {
      "text/plain": [
       "0.9065999984741211"
      ]
     },
     "execution_count": 60,
     "metadata": {},
     "output_type": "execute_result"
    }
   ],
   "source": [
    "test_accuracy"
   ]
  },
  {
   "cell_type": "code",
   "execution_count": null,
   "id": "extensive-south",
   "metadata": {},
   "outputs": [],
   "source": []
  }
 ],
 "metadata": {
  "kernelspec": {
   "display_name": "Python 3",
   "language": "python",
   "name": "python3"
  },
  "language_info": {
   "codemirror_mode": {
    "name": "ipython",
    "version": 3
   },
   "file_extension": ".py",
   "mimetype": "text/x-python",
   "name": "python",
   "nbconvert_exporter": "python",
   "pygments_lexer": "ipython3",
   "version": "3.8.8"
  }
 },
 "nbformat": 4,
 "nbformat_minor": 5
}
