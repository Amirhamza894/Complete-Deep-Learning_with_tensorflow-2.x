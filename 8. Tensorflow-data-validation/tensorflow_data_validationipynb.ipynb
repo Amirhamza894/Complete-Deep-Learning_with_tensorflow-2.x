{
 "cells": [
  {
   "cell_type": "markdown",
   "metadata": {
    "id": "rRItS6ivHwRB"
   },
   "source": [
    "### install all dependincies and get ready enviroment"
   ]
  },
  {
   "cell_type": "code",
   "execution_count": 4,
   "metadata": {
    "colab": {
     "base_uri": "https://localhost:8080/"
    },
    "id": "fCdbU_FzIT6H",
    "outputId": "f3215500-e08c-4752-b7b2-ba249e769e49"
   },
   "outputs": [
    {
     "name": "stdout",
     "output_type": "stream",
     "text": [
      "Collecting python-snappy\n",
      "\u001b[?25l  Downloading https://files.pythonhosted.org/packages/df/bd/a1040e2e04df42fb07e080e74f6464f6a5898bdefe6d08a210e3c3278fb9/python_snappy-0.6.0-cp37-cp37m-manylinux2010_x86_64.whl (55kB)\n",
      "\u001b[K     |████████████████████████████████| 61kB 4.5MB/s eta 0:00:011\n",
      "\u001b[?25hInstalling collected packages: python-snappy\n",
      "Successfully installed python-snappy-0.6.0\n"
     ]
    }
   ],
   "source": [
    "!pip install python-snappy"
   ]
  },
  {
   "cell_type": "code",
   "execution_count": 1,
   "metadata": {
    "id": "ESxRvs5TI0u_"
   },
   "outputs": [],
   "source": [
    "import sys\n",
    "\n",
    "# Confirm that we're using Python 3\n",
    "assert sys.version_info.major is 3, 'Oops, not running Python 3. Use Runtime > Change runtime type'"
   ]
  },
  {
   "cell_type": "code",
   "execution_count": 2,
   "metadata": {
    "colab": {
     "base_uri": "https://localhost:8080/"
    },
    "id": "cd3f-zluJxed",
    "outputId": "a0fe51fb-7b35-400e-910f-50a8a8b3944e"
   },
   "outputs": [
    {
     "name": "stdout",
     "output_type": "stream",
     "text": [
      "Installing TensorFlow Data Validation\n",
      "\u001b[K     |████████████████████████████████| 788kB 7.8MB/s \n",
      "\u001b[K     |████████████████████████████████| 368kB 39.3MB/s \n",
      "\u001b[31mERROR: jupyter-console 5.2.0 has requirement prompt-toolkit<2.0.0,>=1.0.0, but you'll have prompt-toolkit 3.0.18 which is incompatible.\u001b[0m\n",
      "\u001b[31mERROR: google-colab 1.0.0 has requirement ipython~=5.5.0, but you'll have ipython 7.22.0 which is incompatible.\u001b[0m\n",
      "\u001b[31mERROR: google-colab 1.0.0 has requirement requests~=2.23.0, but you'll have requests 2.25.1 which is incompatible.\u001b[0m\n",
      "\u001b[?25h"
     ]
    }
   ],
   "source": [
    "import tensorflow as tf\n",
    "\n",
    "print('Installing TensorFlow Data Validation')\n",
    "!pip install -q tensorflow_data_validation[visualization]"
   ]
  },
  {
   "cell_type": "code",
   "execution_count": 3,
   "metadata": {
    "id": "L7Nt1C_FKlEX"
   },
   "outputs": [],
   "source": [
    "import pandas as pd\n",
    "import tensorflow_data_validation as tfdev"
   ]
  },
  {
   "cell_type": "markdown",
   "metadata": {
    "id": "OSMqFx4VTB-N"
   },
   "source": [
    "### Simple data-analysis"
   ]
  },
  {
   "cell_type": "code",
   "execution_count": 7,
   "metadata": {
    "id": "q7OE3bGaTJkd"
   },
   "outputs": [],
   "source": [
    "dataset = pd.read_csv('/content/1.2 pollution_small.csv')"
   ]
  },
  {
   "cell_type": "code",
   "execution_count": 8,
   "metadata": {
    "colab": {
     "base_uri": "https://localhost:8080/"
    },
    "id": "O9RIxmemTg5c",
    "outputId": "a1fbdff7-2bfa-4008-bdf5-f65d92636f0c"
   },
   "outputs": [
    {
     "data": {
      "text/plain": [
       "(2188, 5)"
      ]
     },
     "execution_count": 8,
     "metadata": {
      "tags": []
     },
     "output_type": "execute_result"
    }
   ],
   "source": [
    "dataset.shape"
   ]
  },
  {
   "cell_type": "code",
   "execution_count": 9,
   "metadata": {
    "colab": {
     "base_uri": "https://localhost:8080/",
     "height": 297
    },
    "id": "b-l9BWdcTsr8",
    "outputId": "658cba34-ebed-419f-9179-4d035af3b8a5"
   },
   "outputs": [
    {
     "data": {
      "text/html": [
       "<div>\n",
       "<style scoped>\n",
       "    .dataframe tbody tr th:only-of-type {\n",
       "        vertical-align: middle;\n",
       "    }\n",
       "\n",
       "    .dataframe tbody tr th {\n",
       "        vertical-align: top;\n",
       "    }\n",
       "\n",
       "    .dataframe thead th {\n",
       "        text-align: right;\n",
       "    }\n",
       "</style>\n",
       "<table border=\"1\" class=\"dataframe\">\n",
       "  <thead>\n",
       "    <tr style=\"text-align: right;\">\n",
       "      <th></th>\n",
       "      <th>pm10</th>\n",
       "      <th>no2</th>\n",
       "      <th>so2</th>\n",
       "      <th>soot</th>\n",
       "    </tr>\n",
       "  </thead>\n",
       "  <tbody>\n",
       "    <tr>\n",
       "      <th>count</th>\n",
       "      <td>1600.000000</td>\n",
       "      <td>1600.000000</td>\n",
       "      <td>1600.000000</td>\n",
       "      <td>1600.000000</td>\n",
       "    </tr>\n",
       "    <tr>\n",
       "      <th>mean</th>\n",
       "      <td>49.656494</td>\n",
       "      <td>30.980519</td>\n",
       "      <td>16.229981</td>\n",
       "      <td>21.551956</td>\n",
       "    </tr>\n",
       "    <tr>\n",
       "      <th>std</th>\n",
       "      <td>35.211906</td>\n",
       "      <td>12.400788</td>\n",
       "      <td>10.621896</td>\n",
       "      <td>12.127354</td>\n",
       "    </tr>\n",
       "    <tr>\n",
       "      <th>min</th>\n",
       "      <td>6.380000</td>\n",
       "      <td>9.740000</td>\n",
       "      <td>4.010000</td>\n",
       "      <td>6.000000</td>\n",
       "    </tr>\n",
       "    <tr>\n",
       "      <th>25%</th>\n",
       "      <td>28.345000</td>\n",
       "      <td>22.567500</td>\n",
       "      <td>9.777500</td>\n",
       "      <td>14.400000</td>\n",
       "    </tr>\n",
       "    <tr>\n",
       "      <th>50%</th>\n",
       "      <td>38.835000</td>\n",
       "      <td>28.715000</td>\n",
       "      <td>13.275000</td>\n",
       "      <td>18.630000</td>\n",
       "    </tr>\n",
       "    <tr>\n",
       "      <th>75%</th>\n",
       "      <td>58.050000</td>\n",
       "      <td>36.370000</td>\n",
       "      <td>19.282500</td>\n",
       "      <td>24.072500</td>\n",
       "    </tr>\n",
       "    <tr>\n",
       "      <th>max</th>\n",
       "      <td>277.250000</td>\n",
       "      <td>138.010000</td>\n",
       "      <td>123.130000</td>\n",
       "      <td>107.650000</td>\n",
       "    </tr>\n",
       "  </tbody>\n",
       "</table>\n",
       "</div>"
      ],
      "text/plain": [
       "              pm10          no2          so2         soot\n",
       "count  1600.000000  1600.000000  1600.000000  1600.000000\n",
       "mean     49.656494    30.980519    16.229981    21.551956\n",
       "std      35.211906    12.400788    10.621896    12.127354\n",
       "min       6.380000     9.740000     4.010000     6.000000\n",
       "25%      28.345000    22.567500     9.777500    14.400000\n",
       "50%      38.835000    28.715000    13.275000    18.630000\n",
       "75%      58.050000    36.370000    19.282500    24.072500\n",
       "max     277.250000   138.010000   123.130000   107.650000"
      ]
     },
     "execution_count": 9,
     "metadata": {
      "tags": []
     },
     "output_type": "execute_result"
    }
   ],
   "source": [
    "training_data = dataset[:1600]\n",
    "training_data.describe()"
   ]
  },
  {
   "cell_type": "code",
   "execution_count": 11,
   "metadata": {
    "colab": {
     "base_uri": "https://localhost:8080/",
     "height": 297
    },
    "id": "FmvHVpMyUAHc",
    "outputId": "5ca99319-bdef-4cc2-d65f-71cfb736777b"
   },
   "outputs": [
    {
     "data": {
      "text/html": [
       "<div>\n",
       "<style scoped>\n",
       "    .dataframe tbody tr th:only-of-type {\n",
       "        vertical-align: middle;\n",
       "    }\n",
       "\n",
       "    .dataframe tbody tr th {\n",
       "        vertical-align: top;\n",
       "    }\n",
       "\n",
       "    .dataframe thead th {\n",
       "        text-align: right;\n",
       "    }\n",
       "</style>\n",
       "<table border=\"1\" class=\"dataframe\">\n",
       "  <thead>\n",
       "    <tr style=\"text-align: right;\">\n",
       "      <th></th>\n",
       "      <th>pm10</th>\n",
       "      <th>no2</th>\n",
       "      <th>so2</th>\n",
       "      <th>soot</th>\n",
       "    </tr>\n",
       "  </thead>\n",
       "  <tbody>\n",
       "    <tr>\n",
       "      <th>count</th>\n",
       "      <td>588.000000</td>\n",
       "      <td>588.000000</td>\n",
       "      <td>588.000000</td>\n",
       "      <td>588.000000</td>\n",
       "    </tr>\n",
       "    <tr>\n",
       "      <th>mean</th>\n",
       "      <td>44.648248</td>\n",
       "      <td>37.296922</td>\n",
       "      <td>13.605170</td>\n",
       "      <td>18.441310</td>\n",
       "    </tr>\n",
       "    <tr>\n",
       "      <th>std</th>\n",
       "      <td>28.992087</td>\n",
       "      <td>10.940050</td>\n",
       "      <td>5.098944</td>\n",
       "      <td>6.596459</td>\n",
       "    </tr>\n",
       "    <tr>\n",
       "      <th>min</th>\n",
       "      <td>11.900000</td>\n",
       "      <td>15.070000</td>\n",
       "      <td>4.990000</td>\n",
       "      <td>8.000000</td>\n",
       "    </tr>\n",
       "    <tr>\n",
       "      <th>25%</th>\n",
       "      <td>28.337500</td>\n",
       "      <td>29.217500</td>\n",
       "      <td>10.122500</td>\n",
       "      <td>14.410000</td>\n",
       "    </tr>\n",
       "    <tr>\n",
       "      <th>50%</th>\n",
       "      <td>35.555000</td>\n",
       "      <td>35.815000</td>\n",
       "      <td>12.345000</td>\n",
       "      <td>17.090000</td>\n",
       "    </tr>\n",
       "    <tr>\n",
       "      <th>75%</th>\n",
       "      <td>50.812500</td>\n",
       "      <td>43.872500</td>\n",
       "      <td>15.855000</td>\n",
       "      <td>20.962500</td>\n",
       "    </tr>\n",
       "    <tr>\n",
       "      <th>max</th>\n",
       "      <td>273.770000</td>\n",
       "      <td>106.030000</td>\n",
       "      <td>38.030000</td>\n",
       "      <td>87.210000</td>\n",
       "    </tr>\n",
       "  </tbody>\n",
       "</table>\n",
       "</div>"
      ],
      "text/plain": [
       "             pm10         no2         so2        soot\n",
       "count  588.000000  588.000000  588.000000  588.000000\n",
       "mean    44.648248   37.296922   13.605170   18.441310\n",
       "std     28.992087   10.940050    5.098944    6.596459\n",
       "min     11.900000   15.070000    4.990000    8.000000\n",
       "25%     28.337500   29.217500   10.122500   14.410000\n",
       "50%     35.555000   35.815000   12.345000   17.090000\n",
       "75%     50.812500   43.872500   15.855000   20.962500\n",
       "max    273.770000  106.030000   38.030000   87.210000"
      ]
     },
     "execution_count": 11,
     "metadata": {
      "tags": []
     },
     "output_type": "execute_result"
    }
   ],
   "source": [
    "test_data = dataset[1600:]\n",
    "test_data.describe()"
   ]
  },
  {
   "cell_type": "markdown",
   "metadata": {
    "id": "1JGg3kLZVGmL"
   },
   "source": [
    "### Data Analysis and validation using tfdev (tensorflow_data_validation)\n",
    "\n",
    "#### Generate training data statistics"
   ]
  },
  {
   "cell_type": "code",
   "execution_count": 12,
   "metadata": {
    "id": "O4aYcpR3Vicd"
   },
   "outputs": [],
   "source": [
    "train_stats = tfdev.generate_statistics_from_dataframe(dataframe=dataset)"
   ]
  },
  {
   "cell_type": "markdown",
   "metadata": {
    "id": "7tDj5uQaWP2E"
   },
   "source": [
    "#### Infering the schema"
   ]
  },
  {
   "cell_type": "code",
   "execution_count": 13,
   "metadata": {
    "id": "wm6LHF1XWnQb"
   },
   "outputs": [],
   "source": [
    "schema = tfdev.infer_schema(statistics=train_stats)"
   ]
  },
  {
   "cell_type": "code",
   "execution_count": 14,
   "metadata": {
    "colab": {
     "base_uri": "https://localhost:8080/",
     "height": 235
    },
    "id": "5gFDAmubW3Qc",
    "outputId": "ed10d106-7ffb-4a8a-9897-875a09cbcccc"
   },
   "outputs": [
    {
     "data": {
      "text/html": [
       "<div>\n",
       "<style scoped>\n",
       "    .dataframe tbody tr th:only-of-type {\n",
       "        vertical-align: middle;\n",
       "    }\n",
       "\n",
       "    .dataframe tbody tr th {\n",
       "        vertical-align: top;\n",
       "    }\n",
       "\n",
       "    .dataframe thead th {\n",
       "        text-align: right;\n",
       "    }\n",
       "</style>\n",
       "<table border=\"1\" class=\"dataframe\">\n",
       "  <thead>\n",
       "    <tr style=\"text-align: right;\">\n",
       "      <th></th>\n",
       "      <th>Type</th>\n",
       "      <th>Presence</th>\n",
       "      <th>Valency</th>\n",
       "      <th>Domain</th>\n",
       "    </tr>\n",
       "    <tr>\n",
       "      <th>Feature name</th>\n",
       "      <th></th>\n",
       "      <th></th>\n",
       "      <th></th>\n",
       "      <th></th>\n",
       "    </tr>\n",
       "  </thead>\n",
       "  <tbody>\n",
       "    <tr>\n",
       "      <th>'Date'</th>\n",
       "      <td>BYTES</td>\n",
       "      <td>required</td>\n",
       "      <td></td>\n",
       "      <td>-</td>\n",
       "    </tr>\n",
       "    <tr>\n",
       "      <th>'pm10'</th>\n",
       "      <td>FLOAT</td>\n",
       "      <td>required</td>\n",
       "      <td></td>\n",
       "      <td>-</td>\n",
       "    </tr>\n",
       "    <tr>\n",
       "      <th>'no2'</th>\n",
       "      <td>FLOAT</td>\n",
       "      <td>required</td>\n",
       "      <td></td>\n",
       "      <td>-</td>\n",
       "    </tr>\n",
       "    <tr>\n",
       "      <th>'so2'</th>\n",
       "      <td>FLOAT</td>\n",
       "      <td>required</td>\n",
       "      <td></td>\n",
       "      <td>-</td>\n",
       "    </tr>\n",
       "    <tr>\n",
       "      <th>'soot'</th>\n",
       "      <td>FLOAT</td>\n",
       "      <td>required</td>\n",
       "      <td></td>\n",
       "      <td>-</td>\n",
       "    </tr>\n",
       "  </tbody>\n",
       "</table>\n",
       "</div>"
      ],
      "text/plain": [
       "               Type  Presence Valency Domain\n",
       "Feature name                                \n",
       "'Date'        BYTES  required              -\n",
       "'pm10'        FLOAT  required              -\n",
       "'no2'         FLOAT  required              -\n",
       "'so2'         FLOAT  required              -\n",
       "'soot'        FLOAT  required              -"
      ]
     },
     "metadata": {
      "tags": []
     },
     "output_type": "display_data"
    }
   ],
   "source": [
    "tfdev.display_schema(schema)"
   ]
  },
  {
   "cell_type": "markdown",
   "metadata": {
    "id": "8mbTpE-5XATL"
   },
   "source": [
    "#### Calculate test set statistics"
   ]
  },
  {
   "cell_type": "code",
   "execution_count": 15,
   "metadata": {
    "id": "xyVQnOgWXP5T"
   },
   "outputs": [],
   "source": [
    "test_stats = tfdev.generate_statistics_from_dataframe(dataframe=test_data)"
   ]
  },
  {
   "cell_type": "code",
   "execution_count": 16,
   "metadata": {
    "id": "_mtPQLRcXcZc"
   },
   "outputs": [],
   "source": [
    "schema = tfdev.infer_schema(statistics=test_stats)"
   ]
  },
  {
   "cell_type": "code",
   "execution_count": 17,
   "metadata": {
    "colab": {
     "base_uri": "https://localhost:8080/",
     "height": 235
    },
    "id": "SfVyIouzXjWb",
    "outputId": "f226c539-37f4-45c9-8c0b-a2786c2bfd93"
   },
   "outputs": [
    {
     "data": {
      "text/html": [
       "<div>\n",
       "<style scoped>\n",
       "    .dataframe tbody tr th:only-of-type {\n",
       "        vertical-align: middle;\n",
       "    }\n",
       "\n",
       "    .dataframe tbody tr th {\n",
       "        vertical-align: top;\n",
       "    }\n",
       "\n",
       "    .dataframe thead th {\n",
       "        text-align: right;\n",
       "    }\n",
       "</style>\n",
       "<table border=\"1\" class=\"dataframe\">\n",
       "  <thead>\n",
       "    <tr style=\"text-align: right;\">\n",
       "      <th></th>\n",
       "      <th>Type</th>\n",
       "      <th>Presence</th>\n",
       "      <th>Valency</th>\n",
       "      <th>Domain</th>\n",
       "    </tr>\n",
       "    <tr>\n",
       "      <th>Feature name</th>\n",
       "      <th></th>\n",
       "      <th></th>\n",
       "      <th></th>\n",
       "      <th></th>\n",
       "    </tr>\n",
       "  </thead>\n",
       "  <tbody>\n",
       "    <tr>\n",
       "      <th>'Date'</th>\n",
       "      <td>BYTES</td>\n",
       "      <td>required</td>\n",
       "      <td></td>\n",
       "      <td>-</td>\n",
       "    </tr>\n",
       "    <tr>\n",
       "      <th>'pm10'</th>\n",
       "      <td>FLOAT</td>\n",
       "      <td>required</td>\n",
       "      <td></td>\n",
       "      <td>-</td>\n",
       "    </tr>\n",
       "    <tr>\n",
       "      <th>'no2'</th>\n",
       "      <td>FLOAT</td>\n",
       "      <td>required</td>\n",
       "      <td></td>\n",
       "      <td>-</td>\n",
       "    </tr>\n",
       "    <tr>\n",
       "      <th>'so2'</th>\n",
       "      <td>FLOAT</td>\n",
       "      <td>required</td>\n",
       "      <td></td>\n",
       "      <td>-</td>\n",
       "    </tr>\n",
       "    <tr>\n",
       "      <th>'soot'</th>\n",
       "      <td>FLOAT</td>\n",
       "      <td>required</td>\n",
       "      <td></td>\n",
       "      <td>-</td>\n",
       "    </tr>\n",
       "  </tbody>\n",
       "</table>\n",
       "</div>"
      ],
      "text/plain": [
       "               Type  Presence Valency Domain\n",
       "Feature name                                \n",
       "'Date'        BYTES  required              -\n",
       "'pm10'        FLOAT  required              -\n",
       "'no2'         FLOAT  required              -\n",
       "'so2'         FLOAT  required              -\n",
       "'soot'        FLOAT  required              -"
      ]
     },
     "metadata": {
      "tags": []
     },
     "output_type": "display_data"
    }
   ],
   "source": [
    "tfdev.display_schema(schema)"
   ]
  },
  {
   "cell_type": "markdown",
   "metadata": {
    "id": "2ucrHan-XoZL"
   },
   "source": [
    "### Compare test statistics with the schema \n",
    "\n",
    "#### checking for anomalies in new data\n",
    "\n",
    "> any difference between test set and schema is called anomalies"
   ]
  },
  {
   "cell_type": "code",
   "execution_count": 19,
   "metadata": {
    "id": "wcaJuYEtYdrT"
   },
   "outputs": [],
   "source": [
    "anomalies = tfdev.validate_statistics(statistics=test_stats, schema=schema)"
   ]
  },
  {
   "cell_type": "markdown",
   "metadata": {
    "id": "v5c2mWVpYgQK"
   },
   "source": [
    "#### Display all detected anomalies\n",
    "\n",
    "* integer larger than 10\n",
    "* STRING type when expected INT type\n",
    "* FLOAT type when expected INT type\n",
    "* integer smaller than 0"
   ]
  },
  {
   "cell_type": "code",
   "execution_count": 20,
   "metadata": {
    "colab": {
     "base_uri": "https://localhost:8080/",
     "height": 111
    },
    "id": "wmI7OkAbY06K",
    "outputId": "a62ba22b-bd52-4214-b760-ed2ef545939e"
   },
   "outputs": [
    {
     "name": "stderr",
     "output_type": "stream",
     "text": [
      "/usr/local/lib/python3.7/dist-packages/tensorflow_data_validation/utils/display_util.py:188: FutureWarning: Passing a negative integer is deprecated in version 1.0 and will not be supported in future version. Instead, use None to not limit the column width.\n",
      "  pd.set_option('max_colwidth', -1)\n"
     ]
    },
    {
     "data": {
      "text/html": [
       "<h4 style=\"color:green;\">No anomalies found.</h4>"
      ],
      "text/plain": [
       "<IPython.core.display.HTML object>"
      ]
     },
     "metadata": {
      "tags": []
     },
     "output_type": "display_data"
    }
   ],
   "source": [
    "tfdev.display_anomalies(anomalies)"
   ]
  },
  {
   "cell_type": "markdown",
   "metadata": {
    "id": "kUjslXjxY2iK"
   },
   "source": [
    "### New data WITH Anomalies"
   ]
  },
  {
   "cell_type": "code",
   "execution_count": 22,
   "metadata": {
    "id": "ZpYrZNbPY96j"
   },
   "outputs": [],
   "source": [
    "test_set_copy = test_data.copy()"
   ]
  },
  {
   "cell_type": "code",
   "execution_count": 23,
   "metadata": {
    "id": "GHkcVhdfaZH7"
   },
   "outputs": [],
   "source": [
    "test_set_copy.drop('soot', axis=1, inplace=True)"
   ]
  },
  {
   "cell_type": "markdown",
   "metadata": {
    "id": "9jQPfL5wY-nq"
   },
   "source": [
    "#### Statistics based on data with anomalies"
   ]
  },
  {
   "cell_type": "code",
   "execution_count": 24,
   "metadata": {
    "id": "gavlXcxHZGia"
   },
   "outputs": [],
   "source": [
    "test_set_copy_stats = tfdev.generate_statistics_from_dataframe(dataframe=test_set_copy)"
   ]
  },
  {
   "cell_type": "code",
   "execution_count": 25,
   "metadata": {
    "id": "KxHnvZzvarTC"
   },
   "outputs": [],
   "source": [
    "anomalies_new = tfdev.validate_statistics(statistics=test_set_copy_stats, schema=schema)"
   ]
  },
  {
   "cell_type": "code",
   "execution_count": 26,
   "metadata": {
    "colab": {
     "base_uri": "https://localhost:8080/",
     "height": 165
    },
    "id": "PceRvWfma4mi",
    "outputId": "367130dc-d7a8-4638-c660-59b9ddebe580"
   },
   "outputs": [
    {
     "name": "stderr",
     "output_type": "stream",
     "text": [
      "/usr/local/lib/python3.7/dist-packages/tensorflow_data_validation/utils/display_util.py:188: FutureWarning: Passing a negative integer is deprecated in version 1.0 and will not be supported in future version. Instead, use None to not limit the column width.\n",
      "  pd.set_option('max_colwidth', -1)\n"
     ]
    },
    {
     "data": {
      "text/html": [
       "<div>\n",
       "<style scoped>\n",
       "    .dataframe tbody tr th:only-of-type {\n",
       "        vertical-align: middle;\n",
       "    }\n",
       "\n",
       "    .dataframe tbody tr th {\n",
       "        vertical-align: top;\n",
       "    }\n",
       "\n",
       "    .dataframe thead th {\n",
       "        text-align: right;\n",
       "    }\n",
       "</style>\n",
       "<table border=\"1\" class=\"dataframe\">\n",
       "  <thead>\n",
       "    <tr style=\"text-align: right;\">\n",
       "      <th></th>\n",
       "      <th>Anomaly short description</th>\n",
       "      <th>Anomaly long description</th>\n",
       "    </tr>\n",
       "    <tr>\n",
       "      <th>Feature name</th>\n",
       "      <th></th>\n",
       "      <th></th>\n",
       "    </tr>\n",
       "  </thead>\n",
       "  <tbody>\n",
       "    <tr>\n",
       "      <th>'soot'</th>\n",
       "      <td>Column dropped</td>\n",
       "      <td>Column is completely missing</td>\n",
       "    </tr>\n",
       "  </tbody>\n",
       "</table>\n",
       "</div>"
      ],
      "text/plain": [
       "             Anomaly short description      Anomaly long description\n",
       "Feature name                                                        \n",
       "'soot'        Column dropped            Column is completely missing"
      ]
     },
     "metadata": {
      "tags": []
     },
     "output_type": "display_data"
    }
   ],
   "source": [
    "tfdev.display_anomalies(anomalies_new)"
   ]
  },
  {
   "cell_type": "markdown",
   "metadata": {
    "id": "kf_EYTU1a_1R"
   },
   "source": [
    "### Prepare the schema for serving"
   ]
  },
  {
   "cell_type": "code",
   "execution_count": 30,
   "metadata": {
    "id": "IVqmS-DUbXBS"
   },
   "outputs": [],
   "source": [
    "schema.default_environment.append('TRAINING')\n",
    "schema.default_environment.append('SERVING')"
   ]
  },
  {
   "cell_type": "markdown",
   "metadata": {
    "id": "YCxAua0-bZ6C"
   },
   "source": [
    "#### Removing a target column from the serving schema"
   ]
  },
  {
   "cell_type": "code",
   "execution_count": 31,
   "metadata": {
    "id": "S0lNffrHbfKq"
   },
   "outputs": [],
   "source": [
    "tfdev.get_feature(schema, 'soot').not_in_environment.append('SERVING')"
   ]
  },
  {
   "cell_type": "markdown",
   "metadata": {
    "id": "qYdQLAfjbf3S"
   },
   "source": [
    "#### Checking  for anomalies between the SERVING enviroment and new test set"
   ]
  },
  {
   "cell_type": "code",
   "execution_count": 32,
   "metadata": {
    "id": "NT68swP0bqEZ"
   },
   "outputs": [],
   "source": [
    "serving_env_anomalies = tfdev.validate_statistics(test_set_copy_stats, schema, environment='SERVING')"
   ]
  },
  {
   "cell_type": "code",
   "execution_count": 33,
   "metadata": {
    "colab": {
     "base_uri": "https://localhost:8080/",
     "height": 111
    },
    "id": "4AT8nWloeJK4",
    "outputId": "0703f317-2acf-461e-fe07-c207b28eb399"
   },
   "outputs": [
    {
     "name": "stderr",
     "output_type": "stream",
     "text": [
      "/usr/local/lib/python3.7/dist-packages/tensorflow_data_validation/utils/display_util.py:188: FutureWarning: Passing a negative integer is deprecated in version 1.0 and will not be supported in future version. Instead, use None to not limit the column width.\n",
      "  pd.set_option('max_colwidth', -1)\n"
     ]
    },
    {
     "data": {
      "text/html": [
       "<h4 style=\"color:green;\">No anomalies found.</h4>"
      ],
      "text/plain": [
       "<IPython.core.display.HTML object>"
      ]
     },
     "metadata": {
      "tags": []
     },
     "output_type": "display_data"
    }
   ],
   "source": [
    "tfdev.display_anomalies(serving_env_anomalies)"
   ]
  },
  {
   "cell_type": "markdown",
   "metadata": {
    "id": "ImfYoMYNeP_q"
   },
   "source": [
    "### Freezing the schema"
   ]
  },
  {
   "cell_type": "code",
   "execution_count": 34,
   "metadata": {
    "id": "kExQJYI7e2Vw"
   },
   "outputs": [],
   "source": [
    "tfdev.write_schema_text(schema=schema, output_path='pollution_schema.pbtxt')"
   ]
  },
  {
   "cell_type": "code",
   "execution_count": null,
   "metadata": {
    "id": "DIfYffMCfMeR"
   },
   "outputs": [],
   "source": []
  }
 ],
 "metadata": {
  "accelerator": "GPU",
  "colab": {
   "name": "tensorflow-data-validationipynb",
   "provenance": []
  },
  "kernelspec": {
   "display_name": "Python 3",
   "language": "python",
   "name": "python3"
  },
  "language_info": {
   "codemirror_mode": {
    "name": "ipython",
    "version": 3
   },
   "file_extension": ".py",
   "mimetype": "text/x-python",
   "name": "python",
   "nbconvert_exporter": "python",
   "pygments_lexer": "ipython3",
   "version": "3.8.8"
  }
 },
 "nbformat": 4,
 "nbformat_minor": 4
}
