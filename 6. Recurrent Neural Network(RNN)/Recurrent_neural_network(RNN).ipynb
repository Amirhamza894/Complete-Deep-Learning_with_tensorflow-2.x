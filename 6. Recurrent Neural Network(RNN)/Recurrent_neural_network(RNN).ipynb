{
 "cells": [
  {
   "cell_type": "code",
   "execution_count": 138,
   "id": "integral-begin",
   "metadata": {},
   "outputs": [],
   "source": [
    "import tensorflow as tf\n",
    "from tensorflow import keras\n",
    "from tensorflow.keras.datasets import imdb"
   ]
  },
  {
   "cell_type": "code",
   "execution_count": 139,
   "id": "jewish-toilet",
   "metadata": {},
   "outputs": [
    {
     "data": {
      "text/plain": [
       "'2.4.1'"
      ]
     },
     "execution_count": 139,
     "metadata": {},
     "output_type": "execute_result"
    }
   ],
   "source": [
    "tf.__version__"
   ]
  },
  {
   "cell_type": "code",
   "execution_count": 140,
   "id": "speaking-riverside",
   "metadata": {},
   "outputs": [],
   "source": [
    "number_of_words = 20000\n",
    "max_len = 100"
   ]
  },
  {
   "cell_type": "markdown",
   "id": "processed-morning",
   "metadata": {},
   "source": [
    "`Number_of_words` is nummber of words which we want to import from the imdb dataset\n",
    "\n",
    "`max_len` is maximum length of the total length of the sequence after padding\n",
    "for example: we have 5 words and we provide 100 max_len so the text will be in the sequence of 100 emlements"
   ]
  },
  {
   "cell_type": "markdown",
   "id": "parliamentary-commons",
   "metadata": {},
   "source": [
    "## Loading_the_IMDB_Dataset"
   ]
  },
  {
   "cell_type": "code",
   "execution_count": 141,
   "id": "numerical-butter",
   "metadata": {},
   "outputs": [],
   "source": [
    "(X_train, y_train), (X_test, y_test) = imdb.load_data(num_words=number_of_words)"
   ]
  },
  {
   "cell_type": "markdown",
   "id": "revolutionary-quick",
   "metadata": {},
   "source": [
    "> is you can see that we load the imdb dataset and we specify that number_of_words=2000. which means that we are not loading all the words from the dataset. we are just loading 2000 words from the imdb dataset"
   ]
  },
  {
   "cell_type": "code",
   "execution_count": 142,
   "id": "leading-living",
   "metadata": {},
   "outputs": [],
   "source": [
    "#X_train[1]"
   ]
  },
  {
   "cell_type": "markdown",
   "id": "extraordinary-short",
   "metadata": {},
   "source": [
    "> You can see that the X_train dataset is already in one_hot representation because the dataset is availible built-in in keras API\n",
    "\n",
    "> we need to Convert this into word_embadding (Featurized representation)\n",
    "* for that we need to preprocess the data convert his into sequence and than embedd\n",
    "\n",
    "> every text is not in the same length so we most need to convert these text into the same lenght"
   ]
  },
  {
   "cell_type": "markdown",
   "id": "developed-filter",
   "metadata": {},
   "source": [
    "## Padding all sequences to be the same length"
   ]
  },
  {
   "cell_type": "markdown",
   "id": "empty-desire",
   "metadata": {},
   "source": [
    "padding is a technique in which we convert the text into the same length. because all the text is not equal length. so by pad_sequence we give a proper length to the text"
   ]
  },
  {
   "cell_type": "code",
   "execution_count": 143,
   "id": "familiar-armstrong",
   "metadata": {},
   "outputs": [],
   "source": [
    "X_train = tf.keras.preprocessing.sequence.pad_sequences(X_train, maxlen=max_len)"
   ]
  },
  {
   "cell_type": "code",
   "execution_count": 144,
   "id": "analyzed-joint",
   "metadata": {},
   "outputs": [],
   "source": [
    "X_test = tf.keras.preprocessing.sequence.pad_sequences(X_test, maxlen=max_len)"
   ]
  },
  {
   "cell_type": "markdown",
   "id": "impaired-operation",
   "metadata": {},
   "source": [
    "* The dataset has been sequenced and ready to embedd\n",
    "\n",
    "now we sequenced our dataset with padding. \n",
    "`Explanation` \"we load 2000 words from the imdb dataset and the above cell we sequeced our data with data.. meaning that all the text is not in the same length.\\\n",
    "`Example`\n",
    "1. my name is amir hamza haq\n",
    "2. working on AI\n",
    "\n",
    "you can see that these two text/sentences are not in the same length. to train oour model for text we most convert these text into that same length..\n",
    "> for that we declare `maxlen` which is 100 in the above cell..\n",
    "\n",
    "so this will balance the length of words of all the 2000 words \\\n",
    "`example` \\\n",
    "    `Text`\n",
    "1. my name is amir hamza haq\n",
    "2. working on AI\\\n",
    "`one_hot_representation/converted into numbers` \n",
    "1. [23,234,23534,21334,435,245]\n",
    "2. [234,252,563]\\\n",
    "`Sequeced with padding=10` \n",
    "1. [0, 0, 0, 0, 23,234,23534,21334,435,245]\n",
    "2. [0, 0, 0, 0, 0, 0, 0,234,252,563]\\\n",
    "\n",
    "> you can see that the length of all the text is 10.. by simplt adding 0 (zeros) to the text"
   ]
  },
  {
   "cell_type": "markdown",
   "id": "ideal-coffee",
   "metadata": {},
   "source": [
    "## Building a Recurrent Neural Network (RNN)\n",
    "#### Defining a model"
   ]
  },
  {
   "cell_type": "code",
   "execution_count": 145,
   "id": "decent-peoples",
   "metadata": {},
   "outputs": [],
   "source": [
    "model = tf.keras.Sequential()"
   ]
  },
  {
   "cell_type": "markdown",
   "id": "atomic-pioneer",
   "metadata": {},
   "source": [
    "#### Adding the embedding layer"
   ]
  },
  {
   "cell_type": "code",
   "execution_count": 146,
   "id": "everyday-manor",
   "metadata": {},
   "outputs": [],
   "source": [
    "model.add(tf.keras.layers.Embedding(input_dim=number_of_words, output_dim = 128, input_shape=(X_train.shape[1],)))"
   ]
  },
  {
   "cell_type": "markdown",
   "id": "sublime-limit",
   "metadata": {},
   "source": [
    "`input_shape` and `input_lenght` required for LSTM model.. which is the length of the data.. mean `columns`\n",
    "\n",
    "you can see in the below cell"
   ]
  },
  {
   "cell_type": "code",
   "execution_count": 147,
   "id": "interstate-literacy",
   "metadata": {},
   "outputs": [
    {
     "data": {
      "text/plain": [
       "100"
      ]
     },
     "execution_count": 147,
     "metadata": {},
     "output_type": "execute_result"
    }
   ],
   "source": [
    "X_train.shape[1]"
   ]
  },
  {
   "cell_type": "markdown",
   "id": "changed-holiday",
   "metadata": {},
   "source": [
    "#### Adding the LSTM Layer\n",
    "* Units: 128\n",
    "* activation: tanh"
   ]
  },
  {
   "cell_type": "code",
   "execution_count": 148,
   "id": "consecutive-kazakhstan",
   "metadata": {},
   "outputs": [
    {
     "data": {
      "text/plain": [
       "(25000, 100)"
      ]
     },
     "execution_count": 148,
     "metadata": {},
     "output_type": "execute_result"
    }
   ],
   "source": [
    "X_train.shape"
   ]
  },
  {
   "cell_type": "code",
   "execution_count": 149,
   "id": "convinced-strip",
   "metadata": {},
   "outputs": [],
   "source": [
    "# model.add(tf.keras.layers.LSTM(units=128, activation='tanh'))\n",
    "model.add(tf.keras.layers.LSTM(128, dropout=0.2, recurrent_dropout=0.2))"
   ]
  },
  {
   "cell_type": "code",
   "execution_count": 150,
   "id": "printable-richmond",
   "metadata": {},
   "outputs": [
    {
     "data": {
      "text/plain": [
       "(25000, 100)"
      ]
     },
     "execution_count": 150,
     "metadata": {},
     "output_type": "execute_result"
    }
   ],
   "source": [
    "X_train.shape"
   ]
  },
  {
   "cell_type": "markdown",
   "id": "charming-swaziland",
   "metadata": {},
   "source": [
    "#### Adding the output layer\n",
    "* units: 1\n",
    "* Activation: Sigmoid"
   ]
  },
  {
   "cell_type": "code",
   "execution_count": 151,
   "id": "tutorial-slide",
   "metadata": {},
   "outputs": [],
   "source": [
    "model.add(tf.keras.layers.Dense(units=1, activation='sigmoid'))"
   ]
  },
  {
   "cell_type": "markdown",
   "id": "modular-personal",
   "metadata": {},
   "source": [
    "#### Compiling the model"
   ]
  },
  {
   "cell_type": "code",
   "execution_count": 152,
   "id": "descending-catalyst",
   "metadata": {},
   "outputs": [],
   "source": [
    "model.compile(optimizer='rmsprop', loss='binary_crossentropy', metrics=['accuracy'])"
   ]
  },
  {
   "cell_type": "code",
   "execution_count": 153,
   "id": "three-pocket",
   "metadata": {},
   "outputs": [
    {
     "name": "stdout",
     "output_type": "stream",
     "text": [
      "Model: \"sequential_8\"\n",
      "_________________________________________________________________\n",
      "Layer (type)                 Output Shape              Param #   \n",
      "=================================================================\n",
      "embedding_8 (Embedding)      (None, 100, 128)          2560000   \n",
      "_________________________________________________________________\n",
      "lstm_10 (LSTM)               (None, 128)               131584    \n",
      "_________________________________________________________________\n",
      "dense_8 (Dense)              (None, 1)                 129       \n",
      "=================================================================\n",
      "Total params: 2,691,713\n",
      "Trainable params: 2,691,713\n",
      "Non-trainable params: 0\n",
      "_________________________________________________________________\n"
     ]
    }
   ],
   "source": [
    "model.summary()"
   ]
  },
  {
   "cell_type": "code",
   "execution_count": 154,
   "id": "hungarian-angel",
   "metadata": {},
   "outputs": [
    {
     "name": "stdout",
     "output_type": "stream",
     "text": [
      "Epoch 1/5\n",
      "157/157 [==============================] - 74s 454ms/step - loss: 0.5912 - accuracy: 0.6898 - val_loss: 0.3824 - val_accuracy: 0.8292\n",
      "Epoch 2/5\n",
      "157/157 [==============================] - 75s 477ms/step - loss: 0.3100 - accuracy: 0.8765 - val_loss: 0.3392 - val_accuracy: 0.8522\n",
      "Epoch 3/5\n",
      "157/157 [==============================] - 74s 475ms/step - loss: 0.2431 - accuracy: 0.9042 - val_loss: 0.3549 - val_accuracy: 0.8520\n",
      "Epoch 4/5\n",
      "157/157 [==============================] - 75s 480ms/step - loss: 0.1989 - accuracy: 0.9253 - val_loss: 0.3924 - val_accuracy: 0.8548\n",
      "Epoch 5/5\n",
      "157/157 [==============================] - 75s 476ms/step - loss: 0.1517 - accuracy: 0.9435 - val_loss: 0.4888 - val_accuracy: 0.8416\n"
     ]
    },
    {
     "data": {
      "text/plain": [
       "<tensorflow.python.keras.callbacks.History at 0x17db0936100>"
      ]
     },
     "execution_count": 154,
     "metadata": {},
     "output_type": "execute_result"
    }
   ],
   "source": [
    "model.fit(X_train, y_train, epochs=5, batch_size=128, validation_split=0.2)"
   ]
  },
  {
   "cell_type": "code",
   "execution_count": 155,
   "id": "medium-messaging",
   "metadata": {},
   "outputs": [
    {
     "name": "stdout",
     "output_type": "stream",
     "text": [
      "782/782 [==============================] - 12s 15ms/step - loss: 0.5111 - accuracy: 0.8334\n"
     ]
    }
   ],
   "source": [
    "test_loss, test_accuracy = model.evaluate(X_test, y_test)"
   ]
  },
  {
   "cell_type": "code",
   "execution_count": 156,
   "id": "previous-standing",
   "metadata": {},
   "outputs": [
    {
     "name": "stdout",
     "output_type": "stream",
     "text": [
      "Test Accuracy:  0.83\n"
     ]
    }
   ],
   "source": [
    "print(f'Test Accuracy: {test_accuracy: .2f}')"
   ]
  },
  {
   "cell_type": "code",
   "execution_count": 158,
   "id": "superior-associate",
   "metadata": {},
   "outputs": [
    {
     "data": {
      "text/plain": [
       "array([[0.02924317],\n",
       "       [0.9954492 ],\n",
       "       [0.9860974 ],\n",
       "       [0.8197983 ]], dtype=float32)"
      ]
     },
     "execution_count": 158,
     "metadata": {},
     "output_type": "execute_result"
    }
   ],
   "source": [
    "model.predict(X_test[:4])"
   ]
  },
  {
   "cell_type": "code",
   "execution_count": null,
   "id": "declared-smooth",
   "metadata": {},
   "outputs": [],
   "source": []
  }
 ],
 "metadata": {
  "kernelspec": {
   "display_name": "Python 3",
   "language": "python",
   "name": "python3"
  },
  "language_info": {
   "codemirror_mode": {
    "name": "ipython",
    "version": 3
   },
   "file_extension": ".py",
   "mimetype": "text/x-python",
   "name": "python",
   "nbconvert_exporter": "python",
   "pygments_lexer": "ipython3",
   "version": "3.8.8"
  }
 },
 "nbformat": 4,
 "nbformat_minor": 5
}
