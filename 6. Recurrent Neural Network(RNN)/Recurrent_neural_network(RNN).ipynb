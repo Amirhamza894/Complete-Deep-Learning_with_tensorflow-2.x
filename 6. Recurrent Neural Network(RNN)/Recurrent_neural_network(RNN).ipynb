{
 "cells": [
  {
   "cell_type": "code",
   "execution_count": 23,
   "id": "reverse-exposure",
   "metadata": {},
   "outputs": [],
   "source": [
    "import tensorflow as tf\n",
    "from tensorflow import keras\n",
    "from tensorflow.keras.datasets import imdb"
   ]
  },
  {
   "cell_type": "code",
   "execution_count": 24,
   "id": "floating-concord",
   "metadata": {},
   "outputs": [
    {
     "data": {
      "text/plain": [
       "'2.4.1'"
      ]
     },
     "execution_count": 24,
     "metadata": {},
     "output_type": "execute_result"
    }
   ],
   "source": [
    "tf.__version__"
   ]
  },
  {
   "cell_type": "code",
   "execution_count": 25,
   "id": "pleased-interview",
   "metadata": {},
   "outputs": [],
   "source": [
    "number_of_words = 20000\n",
    "max_len = 100"
   ]
  },
  {
   "cell_type": "markdown",
   "id": "joined-potato",
   "metadata": {},
   "source": [
    "`Number_of_words` is nummber of words which we want to import from the imdb dataset\n",
    "\n",
    "`max_len` is maximum length of the total length of the sequence after padding\n",
    "for example: we have 5 words and we provide 100 max_len so the text will be in the sequence of 100 emlements"
   ]
  },
  {
   "cell_type": "markdown",
   "id": "retained-candle",
   "metadata": {},
   "source": [
    "## Loading_the_IMDB_Dataset"
   ]
  },
  {
   "cell_type": "code",
   "execution_count": 26,
   "id": "departmental-context",
   "metadata": {},
   "outputs": [],
   "source": [
    "(X_train, y_train), (X_test, y_test) = imdb.load_data(num_words=number_of_words)"
   ]
  },
  {
   "cell_type": "markdown",
   "id": "editorial-colleague",
   "metadata": {},
   "source": [
    "> is you can see that we load the imdb dataset and we specify that number_of_words=2000. which means that we are not loading all the words from the dataset. we are just loading 2000 words from the imdb dataset"
   ]
  },
  {
   "cell_type": "code",
   "execution_count": 27,
   "id": "narrative-composite",
   "metadata": {},
   "outputs": [],
   "source": [
    "#X_train[1]"
   ]
  },
  {
   "cell_type": "markdown",
   "id": "immune-dictionary",
   "metadata": {},
   "source": [
    "> You can see that the X_train dataset is already in one_hot representation because the dataset is availible built-in in keras API\n",
    "\n",
    "> we need to Convert this into word_embadding (Featurized representation)\n",
    "* for that we need to preprocess the data convert his into sequence and than embedd\n",
    "\n",
    "> every text is not in the same length so we most need to convert these text into the same lenght"
   ]
  },
  {
   "cell_type": "markdown",
   "id": "nominated-likelihood",
   "metadata": {},
   "source": [
    "## Padding all sequences to be the same length"
   ]
  },
  {
   "cell_type": "markdown",
   "id": "amazing-calibration",
   "metadata": {},
   "source": [
    "padding is a technique in which we convert the text into the same length. because all the text is not equal length. so by pad_sequence we give a proper length to the text"
   ]
  },
  {
   "cell_type": "code",
   "execution_count": 28,
   "id": "authorized-feature",
   "metadata": {},
   "outputs": [],
   "source": [
    "X_train = tf.keras.preprocessing.sequence.pad_sequences(X_train, maxlen=max_len)"
   ]
  },
  {
   "cell_type": "code",
   "execution_count": 29,
   "id": "medical-script",
   "metadata": {},
   "outputs": [],
   "source": [
    "X_test = tf.keras.preprocessing.sequence.pad_sequences(X_test, maxlen=max_len)"
   ]
  },
  {
   "cell_type": "markdown",
   "id": "varied-character",
   "metadata": {},
   "source": [
    "* The dataset has been sequenced and ready to embedd\n",
    "\n",
    "now we sequenced our dataset with padding. \n",
    "`Explanation` \"we load 2000 words from the imdb dataset and the above cell we sequeced our data with data.. meaning that all the text is not in the same length.\\\n",
    "`Example`\n",
    "1. my name is amir hamza haq\n",
    "2. working on AI\n",
    "\n",
    "you can see that these two text/sentences are not in the same length. to train oour model for text we most convert these text into that same length..\n",
    "> for that we declare `maxlen` which is 100 in the above cell..\n",
    "\n",
    "so this will balance the length of words of all the 2000 words \\\n",
    "`example` \\\n",
    "    `Text`\n",
    "1. my name is amir hamza haq\n",
    "2. working on AI\\\n",
    "`one_hot_representation/converted into numbers` \n",
    "1. [23,234,23534,21334,435,245]\n",
    "2. [234,252,563]\\\n",
    "`Sequeced with padding=10` \n",
    "1. [0, 0, 0, 0, 23,234,23534,21334,435,245]\n",
    "2. [0, 0, 0, 0, 0, 0, 0,234,252,563]\\\n",
    "\n",
    "> you can see that the length of all the text is 10.. by simplt adding 0 (zeros) to the text"
   ]
  },
  {
   "cell_type": "markdown",
   "id": "bigger-person",
   "metadata": {},
   "source": [
    "## Building a Recurrent Neural Network (RNN)\n",
    "#### Defining a model"
   ]
  },
  {
   "cell_type": "code",
   "execution_count": 30,
   "id": "average-gauge",
   "metadata": {},
   "outputs": [],
   "source": [
    "model = tf.keras.Sequential()"
   ]
  },
  {
   "cell_type": "markdown",
   "id": "surprised-department",
   "metadata": {},
   "source": [
    "#### Adding the embedding layer"
   ]
  },
  {
   "cell_type": "code",
   "execution_count": 31,
   "id": "theoretical-prescription",
   "metadata": {},
   "outputs": [],
   "source": [
    "model.add(tf.keras.layers.Embedding(input_dim=number_of_words, output_dim = 128, input_shape=(X_train.shape[1],)))"
   ]
  },
  {
   "cell_type": "markdown",
   "id": "august-strategy",
   "metadata": {},
   "source": [
    "`input_shape` and `input_lenght` required for LSTM model.. which is the length of the data.. mean `columns`\n",
    "\n",
    "you can see in the below cell"
   ]
  },
  {
   "cell_type": "code",
   "execution_count": 32,
   "id": "vulnerable-peeing",
   "metadata": {},
   "outputs": [
    {
     "data": {
      "text/plain": [
       "100"
      ]
     },
     "execution_count": 32,
     "metadata": {},
     "output_type": "execute_result"
    }
   ],
   "source": [
    "X_train.shape[1]"
   ]
  },
  {
   "cell_type": "markdown",
   "id": "renewable-drinking",
   "metadata": {},
   "source": [
    "#### Adding the LSTM Layer\n",
    "* Units: 128\n",
    "* activation: tanh"
   ]
  },
  {
   "cell_type": "code",
   "execution_count": 33,
   "id": "informed-press",
   "metadata": {},
   "outputs": [
    {
     "data": {
      "text/plain": [
       "(25000, 100)"
      ]
     },
     "execution_count": 33,
     "metadata": {},
     "output_type": "execute_result"
    }
   ],
   "source": [
    "X_train.shape"
   ]
  },
  {
   "cell_type": "code",
   "execution_count": 34,
   "id": "about-shower",
   "metadata": {},
   "outputs": [],
   "source": [
    "# model.add(tf.keras.layers.LSTM(units=128, activation='tanh'))\n",
    "model.add(tf.keras.layers.LSTM(128, dropout=0.2, recurrent_dropout=0.2, activation='tanh'))"
   ]
  },
  {
   "cell_type": "code",
   "execution_count": 35,
   "id": "academic-craps",
   "metadata": {},
   "outputs": [
    {
     "data": {
      "text/plain": [
       "(25000, 100)"
      ]
     },
     "execution_count": 35,
     "metadata": {},
     "output_type": "execute_result"
    }
   ],
   "source": [
    "X_train.shape"
   ]
  },
  {
   "cell_type": "markdown",
   "id": "hispanic-killing",
   "metadata": {},
   "source": [
    "#### Adding the output layer\n",
    "* units: 1\n",
    "* Activation: Sigmoid"
   ]
  },
  {
   "cell_type": "code",
   "execution_count": 36,
   "id": "mobile-collectible",
   "metadata": {},
   "outputs": [],
   "source": [
    "model.add(tf.keras.layers.Dense(units=1, activation='sigmoid'))"
   ]
  },
  {
   "cell_type": "markdown",
   "id": "continuing-representation",
   "metadata": {},
   "source": [
    "#### Compiling the model"
   ]
  },
  {
   "cell_type": "code",
   "execution_count": 37,
   "id": "desperate-desert",
   "metadata": {},
   "outputs": [],
   "source": [
    "model.compile(optimizer='rmsprop', loss='binary_crossentropy', metrics=['accuracy'])"
   ]
  },
  {
   "cell_type": "code",
   "execution_count": 38,
   "id": "raised-sport",
   "metadata": {},
   "outputs": [
    {
     "name": "stdout",
     "output_type": "stream",
     "text": [
      "Model: \"sequential_1\"\n",
      "_________________________________________________________________\n",
      "Layer (type)                 Output Shape              Param #   \n",
      "=================================================================\n",
      "embedding_1 (Embedding)      (None, 100, 128)          2560000   \n",
      "_________________________________________________________________\n",
      "lstm_1 (LSTM)                (None, 128)               131584    \n",
      "_________________________________________________________________\n",
      "dense_1 (Dense)              (None, 1)                 129       \n",
      "=================================================================\n",
      "Total params: 2,691,713\n",
      "Trainable params: 2,691,713\n",
      "Non-trainable params: 0\n",
      "_________________________________________________________________\n"
     ]
    }
   ],
   "source": [
    "model.summary()"
   ]
  },
  {
   "cell_type": "code",
   "execution_count": null,
   "id": "hourly-brain",
   "metadata": {},
   "outputs": [
    {
     "name": "stdout",
     "output_type": "stream",
     "text": [
      "Epoch 1/5\n",
      "40/40 [==============================] - 50s 1s/step - loss: 0.6954 - accuracy: 0.6140 - val_loss: 0.5010 - val_accuracy: 0.7996\n",
      "Epoch 2/5\n",
      "40/40 [==============================] - 48s 1s/step - loss: 0.4063 - accuracy: 0.8362 - val_loss: 0.4042 - val_accuracy: 0.8158\n",
      "Epoch 3/5\n",
      "40/40 [==============================] - 48s 1s/step - loss: 0.3102 - accuracy: 0.8768 - val_loss: 0.3722 - val_accuracy: 0.8332\n",
      "Epoch 4/5\n",
      "40/40 [==============================] - 48s 1s/step - loss: 0.2441 - accuracy: 0.9063 - val_loss: 0.3401 - val_accuracy: 0.8514\n",
      "Epoch 5/5\n",
      "26/40 [==================>...........] - ETA: 16s - loss: 0.1967 - accuracy: 0.9276"
     ]
    }
   ],
   "source": [
    "model.fit(X_train, y_train, epochs=5, batch_size=500, validation_split=0.2)"
   ]
  },
  {
   "cell_type": "code",
   "execution_count": null,
   "id": "induced-vacuum",
   "metadata": {},
   "outputs": [],
   "source": [
    "test_loss, test_accuracy = model.evaluate(X_test, y_test)"
   ]
  },
  {
   "cell_type": "code",
   "execution_count": null,
   "id": "nutritional-canada",
   "metadata": {},
   "outputs": [],
   "source": [
    "print(f'Test Accuracy: {test_accuracy: .2f}')"
   ]
  },
  {
   "cell_type": "code",
   "execution_count": null,
   "id": "boxed-indie",
   "metadata": {},
   "outputs": [],
   "source": [
    "model.predict(X_test[:4])"
   ]
  },
  {
   "cell_type": "code",
   "execution_count": null,
   "id": "alert-marshall",
   "metadata": {},
   "outputs": [],
   "source": []
  }
 ],
 "metadata": {
  "kernelspec": {
   "display_name": "Python 3",
   "language": "python",
   "name": "python3"
  },
  "language_info": {
   "codemirror_mode": {
    "name": "ipython",
    "version": 3
   },
   "file_extension": ".py",
   "mimetype": "text/x-python",
   "name": "python",
   "nbconvert_exporter": "python",
   "pygments_lexer": "ipython3",
   "version": "3.8.8"
  }
 },
 "nbformat": 4,
 "nbformat_minor": 5
}
