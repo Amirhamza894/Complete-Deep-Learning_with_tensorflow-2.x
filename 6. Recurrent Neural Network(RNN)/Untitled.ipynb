{
 "cells": [
  {
   "cell_type": "code",
   "execution_count": 17,
   "id": "funded-inquiry",
   "metadata": {},
   "outputs": [],
   "source": [
    "import tensorflow as tf\n",
    "from tensorflow import keras\n",
    "from tensorflow.keras.datasets import imdb"
   ]
  },
  {
   "cell_type": "code",
   "execution_count": 18,
   "id": "effective-symbol",
   "metadata": {},
   "outputs": [
    {
     "data": {
      "text/plain": [
       "'2.4.1'"
      ]
     },
     "execution_count": 18,
     "metadata": {},
     "output_type": "execute_result"
    }
   ],
   "source": [
    "tf.__version__"
   ]
  },
  {
   "cell_type": "code",
   "execution_count": 19,
   "id": "naughty-cholesterol",
   "metadata": {},
   "outputs": [],
   "source": [
    "number_of_words = 20000\n",
    "max_len = 100"
   ]
  },
  {
   "cell_type": "markdown",
   "id": "certified-buyer",
   "metadata": {},
   "source": [
    "`Number_of_words` is nummber of words which we want to import from the imdb dataset\n",
    "\n",
    "`max_len` is maximum length of the total length of the sequence after padding\n",
    "for example: we have 5 words and we provide 100 max_len so the text will be in the sequence of 100 emlements"
   ]
  },
  {
   "cell_type": "markdown",
   "id": "informative-plymouth",
   "metadata": {},
   "source": [
    "## Loading_the_IMDB_Dataset"
   ]
  },
  {
   "cell_type": "code",
   "execution_count": 20,
   "id": "sunset-motivation",
   "metadata": {},
   "outputs": [],
   "source": [
    "(X_train, y_train), (X_test, y_test) = imdb.load_data(num_words=number_of_words)"
   ]
  },
  {
   "cell_type": "markdown",
   "id": "adapted-cooperation",
   "metadata": {},
   "source": [
    "> is you can see that we load the imdb dataset and we specify that number_of_words=2000. which means that we are not loading all the words from the dataset. we are just loading 2000 words from the imdb dataset"
   ]
  },
  {
   "cell_type": "code",
   "execution_count": 21,
   "id": "veterinary-attribute",
   "metadata": {
    "collapsed": true,
    "jupyter": {
     "outputs_hidden": true
    }
   },
   "outputs": [
    {
     "data": {
      "text/plain": [
       "[1,\n",
       " 194,\n",
       " 1153,\n",
       " 194,\n",
       " 8255,\n",
       " 78,\n",
       " 228,\n",
       " 5,\n",
       " 6,\n",
       " 1463,\n",
       " 4369,\n",
       " 5012,\n",
       " 134,\n",
       " 26,\n",
       " 4,\n",
       " 715,\n",
       " 8,\n",
       " 118,\n",
       " 1634,\n",
       " 14,\n",
       " 394,\n",
       " 20,\n",
       " 13,\n",
       " 119,\n",
       " 954,\n",
       " 189,\n",
       " 102,\n",
       " 5,\n",
       " 207,\n",
       " 110,\n",
       " 3103,\n",
       " 21,\n",
       " 14,\n",
       " 69,\n",
       " 188,\n",
       " 8,\n",
       " 30,\n",
       " 23,\n",
       " 7,\n",
       " 4,\n",
       " 249,\n",
       " 126,\n",
       " 93,\n",
       " 4,\n",
       " 114,\n",
       " 9,\n",
       " 2300,\n",
       " 1523,\n",
       " 5,\n",
       " 647,\n",
       " 4,\n",
       " 116,\n",
       " 9,\n",
       " 35,\n",
       " 8163,\n",
       " 4,\n",
       " 229,\n",
       " 9,\n",
       " 340,\n",
       " 1322,\n",
       " 4,\n",
       " 118,\n",
       " 9,\n",
       " 4,\n",
       " 130,\n",
       " 4901,\n",
       " 19,\n",
       " 4,\n",
       " 1002,\n",
       " 5,\n",
       " 89,\n",
       " 29,\n",
       " 952,\n",
       " 46,\n",
       " 37,\n",
       " 4,\n",
       " 455,\n",
       " 9,\n",
       " 45,\n",
       " 43,\n",
       " 38,\n",
       " 1543,\n",
       " 1905,\n",
       " 398,\n",
       " 4,\n",
       " 1649,\n",
       " 26,\n",
       " 6853,\n",
       " 5,\n",
       " 163,\n",
       " 11,\n",
       " 3215,\n",
       " 10156,\n",
       " 4,\n",
       " 1153,\n",
       " 9,\n",
       " 194,\n",
       " 775,\n",
       " 7,\n",
       " 8255,\n",
       " 11596,\n",
       " 349,\n",
       " 2637,\n",
       " 148,\n",
       " 605,\n",
       " 15358,\n",
       " 8003,\n",
       " 15,\n",
       " 123,\n",
       " 125,\n",
       " 68,\n",
       " 2,\n",
       " 6853,\n",
       " 15,\n",
       " 349,\n",
       " 165,\n",
       " 4362,\n",
       " 98,\n",
       " 5,\n",
       " 4,\n",
       " 228,\n",
       " 9,\n",
       " 43,\n",
       " 2,\n",
       " 1157,\n",
       " 15,\n",
       " 299,\n",
       " 120,\n",
       " 5,\n",
       " 120,\n",
       " 174,\n",
       " 11,\n",
       " 220,\n",
       " 175,\n",
       " 136,\n",
       " 50,\n",
       " 9,\n",
       " 4373,\n",
       " 228,\n",
       " 8255,\n",
       " 5,\n",
       " 2,\n",
       " 656,\n",
       " 245,\n",
       " 2350,\n",
       " 5,\n",
       " 4,\n",
       " 9837,\n",
       " 131,\n",
       " 152,\n",
       " 491,\n",
       " 18,\n",
       " 2,\n",
       " 32,\n",
       " 7464,\n",
       " 1212,\n",
       " 14,\n",
       " 9,\n",
       " 6,\n",
       " 371,\n",
       " 78,\n",
       " 22,\n",
       " 625,\n",
       " 64,\n",
       " 1382,\n",
       " 9,\n",
       " 8,\n",
       " 168,\n",
       " 145,\n",
       " 23,\n",
       " 4,\n",
       " 1690,\n",
       " 15,\n",
       " 16,\n",
       " 4,\n",
       " 1355,\n",
       " 5,\n",
       " 28,\n",
       " 6,\n",
       " 52,\n",
       " 154,\n",
       " 462,\n",
       " 33,\n",
       " 89,\n",
       " 78,\n",
       " 285,\n",
       " 16,\n",
       " 145,\n",
       " 95]"
      ]
     },
     "execution_count": 21,
     "metadata": {},
     "output_type": "execute_result"
    }
   ],
   "source": [
    "X_train[1]"
   ]
  },
  {
   "cell_type": "markdown",
   "id": "considerable-olympus",
   "metadata": {},
   "source": [
    "> You can see that the X_train dataset is already in one_hot representation because the dataset is availible built-in in keras API\n",
    "\n",
    "> we need to Convert this into word_embadding (Featurized representation)\n",
    "* for that we need to preprocess the data convert his into sequence and than embedd\n",
    "\n",
    "> every text is not in the same length so we most need to convert these text into the same lenght"
   ]
  },
  {
   "cell_type": "markdown",
   "id": "intimate-indian",
   "metadata": {},
   "source": [
    "## Padding all sequences to be the same length"
   ]
  },
  {
   "cell_type": "markdown",
   "id": "alternate-member",
   "metadata": {},
   "source": [
    "padding is a technique in which we convert the text into the same length. because all the text is not equal length. so by pad_sequence we give a proper length to the text"
   ]
  },
  {
   "cell_type": "code",
   "execution_count": 15,
   "id": "distant-space",
   "metadata": {},
   "outputs": [],
   "source": [
    "X_train = tf.keras.preprocessing.sequence.pad_sequences(X_train, maxlen=max_len)"
   ]
  },
  {
   "cell_type": "code",
   "execution_count": 16,
   "id": "dynamic-asthma",
   "metadata": {},
   "outputs": [],
   "source": [
    "X_test = tf.keras.preprocessing.sequence.pad_sequences(X_test, maxlen=max_len)"
   ]
  },
  {
   "cell_type": "markdown",
   "id": "dated-relevance",
   "metadata": {},
   "source": [
    "* The dataset has been sequenced and ready to embedd\n",
    "\n",
    "now we sequenced our dataset with padding. \n",
    "`Explanation` \"we load 2000 words from the imdb dataset and the above cell we sequeced our data with data.. meaning that all the text is not in the same length.\\\n",
    "`Example`\n",
    "1. my name is amir hamza haq\n",
    "2. working on AI\n",
    "\n",
    "you can see that these two text/sentences are not in the same length. to train oour model for text we most convert these text into that same length..\n",
    "> for that we declare `maxlen` which is 100 in the above cell..\n",
    "\n",
    "so this will balance the length of words of all the 2000 words \\\n",
    "`example` \\\n",
    "    `Text`\n",
    "1. my name is amir hamza haq\n",
    "2. working on AI\\\n",
    "`one_hot_representation/converted into numbers` \n",
    "1. [23,234,23534,21334,435,245]\n",
    "2. [234,252,563]\\\n",
    "`Sequeced with padding=10` \n",
    "1. [0, 0, 0, 0, 23,234,23534,21334,435,245]\n",
    "2. [0, 0, 0, 0, 0, 0, 0,234,252,563]\\\n",
    "\n",
    "> you can see that the length of all the text is 10.. by simplt adding 0 (zeros) to the text"
   ]
  },
  {
   "cell_type": "code",
   "execution_count": null,
   "id": "clean-tension",
   "metadata": {},
   "outputs": [],
   "source": []
  }
 ],
 "metadata": {
  "kernelspec": {
   "display_name": "Python 3",
   "language": "python",
   "name": "python3"
  },
  "language_info": {
   "codemirror_mode": {
    "name": "ipython",
    "version": 3
   },
   "file_extension": ".py",
   "mimetype": "text/x-python",
   "name": "python",
   "nbconvert_exporter": "python",
   "pygments_lexer": "ipython3",
   "version": "3.8.8"
  }
 },
 "nbformat": 4,
 "nbformat_minor": 5
}
