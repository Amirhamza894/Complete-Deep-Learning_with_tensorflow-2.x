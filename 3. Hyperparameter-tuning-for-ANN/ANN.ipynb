{
 "cells": [
  {
   "cell_type": "code",
   "execution_count": 3,
   "id": "painted-mills",
   "metadata": {},
   "outputs": [],
   "source": [
    "import pandas as pd\n",
    "import matplotlib.pyplot as plt\n",
    "import numpy as np"
   ]
  },
  {
   "cell_type": "code",
   "execution_count": 4,
   "id": "sixth-cartoon",
   "metadata": {},
   "outputs": [],
   "source": [
    "dataset = pd.read_csv('C:\\\\Users\\\\Sorcim\\\\Downloads\\\\archive (1)\\\\Churn_Modelling.csv')"
   ]
  },
  {
   "cell_type": "code",
   "execution_count": 24,
   "id": "extensive-principal",
   "metadata": {},
   "outputs": [
    {
     "data": {
      "text/html": [
       "<div>\n",
       "<style scoped>\n",
       "    .dataframe tbody tr th:only-of-type {\n",
       "        vertical-align: middle;\n",
       "    }\n",
       "\n",
       "    .dataframe tbody tr th {\n",
       "        vertical-align: top;\n",
       "    }\n",
       "\n",
       "    .dataframe thead th {\n",
       "        text-align: right;\n",
       "    }\n",
       "</style>\n",
       "<table border=\"1\" class=\"dataframe\">\n",
       "  <thead>\n",
       "    <tr style=\"text-align: right;\">\n",
       "      <th></th>\n",
       "      <th>RowNumber</th>\n",
       "      <th>CustomerId</th>\n",
       "      <th>Surname</th>\n",
       "      <th>CreditScore</th>\n",
       "      <th>Geography</th>\n",
       "      <th>Gender</th>\n",
       "      <th>Age</th>\n",
       "      <th>Tenure</th>\n",
       "      <th>Balance</th>\n",
       "      <th>NumOfProducts</th>\n",
       "      <th>HasCrCard</th>\n",
       "      <th>IsActiveMember</th>\n",
       "      <th>EstimatedSalary</th>\n",
       "      <th>Exited</th>\n",
       "    </tr>\n",
       "  </thead>\n",
       "  <tbody>\n",
       "    <tr>\n",
       "      <th>0</th>\n",
       "      <td>1</td>\n",
       "      <td>15634602</td>\n",
       "      <td>Hargrave</td>\n",
       "      <td>619</td>\n",
       "      <td>France</td>\n",
       "      <td>Female</td>\n",
       "      <td>42</td>\n",
       "      <td>2</td>\n",
       "      <td>0.00</td>\n",
       "      <td>1</td>\n",
       "      <td>1</td>\n",
       "      <td>1</td>\n",
       "      <td>101348.88</td>\n",
       "      <td>1</td>\n",
       "    </tr>\n",
       "    <tr>\n",
       "      <th>1</th>\n",
       "      <td>2</td>\n",
       "      <td>15647311</td>\n",
       "      <td>Hill</td>\n",
       "      <td>608</td>\n",
       "      <td>Spain</td>\n",
       "      <td>Female</td>\n",
       "      <td>41</td>\n",
       "      <td>1</td>\n",
       "      <td>83807.86</td>\n",
       "      <td>1</td>\n",
       "      <td>0</td>\n",
       "      <td>1</td>\n",
       "      <td>112542.58</td>\n",
       "      <td>0</td>\n",
       "    </tr>\n",
       "    <tr>\n",
       "      <th>2</th>\n",
       "      <td>3</td>\n",
       "      <td>15619304</td>\n",
       "      <td>Onio</td>\n",
       "      <td>502</td>\n",
       "      <td>France</td>\n",
       "      <td>Female</td>\n",
       "      <td>42</td>\n",
       "      <td>8</td>\n",
       "      <td>159660.80</td>\n",
       "      <td>3</td>\n",
       "      <td>1</td>\n",
       "      <td>0</td>\n",
       "      <td>113931.57</td>\n",
       "      <td>1</td>\n",
       "    </tr>\n",
       "    <tr>\n",
       "      <th>3</th>\n",
       "      <td>4</td>\n",
       "      <td>15701354</td>\n",
       "      <td>Boni</td>\n",
       "      <td>699</td>\n",
       "      <td>France</td>\n",
       "      <td>Female</td>\n",
       "      <td>39</td>\n",
       "      <td>1</td>\n",
       "      <td>0.00</td>\n",
       "      <td>2</td>\n",
       "      <td>0</td>\n",
       "      <td>0</td>\n",
       "      <td>93826.63</td>\n",
       "      <td>0</td>\n",
       "    </tr>\n",
       "    <tr>\n",
       "      <th>4</th>\n",
       "      <td>5</td>\n",
       "      <td>15737888</td>\n",
       "      <td>Mitchell</td>\n",
       "      <td>850</td>\n",
       "      <td>Spain</td>\n",
       "      <td>Female</td>\n",
       "      <td>43</td>\n",
       "      <td>2</td>\n",
       "      <td>125510.82</td>\n",
       "      <td>1</td>\n",
       "      <td>1</td>\n",
       "      <td>1</td>\n",
       "      <td>79084.10</td>\n",
       "      <td>0</td>\n",
       "    </tr>\n",
       "  </tbody>\n",
       "</table>\n",
       "</div>"
      ],
      "text/plain": [
       "   RowNumber  CustomerId   Surname  CreditScore Geography  Gender  Age  \\\n",
       "0          1    15634602  Hargrave          619    France  Female   42   \n",
       "1          2    15647311      Hill          608     Spain  Female   41   \n",
       "2          3    15619304      Onio          502    France  Female   42   \n",
       "3          4    15701354      Boni          699    France  Female   39   \n",
       "4          5    15737888  Mitchell          850     Spain  Female   43   \n",
       "\n",
       "   Tenure    Balance  NumOfProducts  HasCrCard  IsActiveMember  \\\n",
       "0       2       0.00              1          1               1   \n",
       "1       1   83807.86              1          0               1   \n",
       "2       8  159660.80              3          1               0   \n",
       "3       1       0.00              2          0               0   \n",
       "4       2  125510.82              1          1               1   \n",
       "\n",
       "   EstimatedSalary  Exited  \n",
       "0        101348.88       1  \n",
       "1        112542.58       0  \n",
       "2        113931.57       1  \n",
       "3         93826.63       0  \n",
       "4         79084.10       0  "
      ]
     },
     "execution_count": 24,
     "metadata": {},
     "output_type": "execute_result"
    }
   ],
   "source": [
    "dataset.head()"
   ]
  },
  {
   "cell_type": "code",
   "execution_count": 25,
   "id": "standard-failing",
   "metadata": {},
   "outputs": [],
   "source": [
    "X = dataset.iloc[:, 3:13]"
   ]
  },
  {
   "cell_type": "code",
   "execution_count": 26,
   "id": "looking-figure",
   "metadata": {},
   "outputs": [],
   "source": [
    "y = dataset.iloc[:, 13]"
   ]
  },
  {
   "cell_type": "code",
   "execution_count": 27,
   "id": "promotional-monkey",
   "metadata": {},
   "outputs": [],
   "source": [
    "geography = pd.get_dummies(X['Geography'], drop_first=True)"
   ]
  },
  {
   "cell_type": "code",
   "execution_count": 28,
   "id": "brutal-sheriff",
   "metadata": {},
   "outputs": [],
   "source": [
    "gender = pd.get_dummies(X['Gender'], drop_first=True)"
   ]
  },
  {
   "cell_type": "code",
   "execution_count": 29,
   "id": "fallen-writing",
   "metadata": {},
   "outputs": [],
   "source": [
    "X = pd.concat([X, geography, gender], axis=1)"
   ]
  },
  {
   "cell_type": "code",
   "execution_count": 30,
   "id": "remarkable-timing",
   "metadata": {},
   "outputs": [],
   "source": [
    "X = X.drop(['Geography', 'Gender'], axis = 1)"
   ]
  },
  {
   "cell_type": "code",
   "execution_count": 31,
   "id": "distributed-diana",
   "metadata": {},
   "outputs": [],
   "source": [
    "from sklearn.model_selection import train_test_split\n",
    "\n",
    "X_train, X_test, y_train, y_test = train_test_split(X, y, test_size = 0.2, random_state=0)"
   ]
  },
  {
   "cell_type": "code",
   "execution_count": 32,
   "id": "uniform-coral",
   "metadata": {},
   "outputs": [
    {
     "data": {
      "text/html": [
       "<div>\n",
       "<style scoped>\n",
       "    .dataframe tbody tr th:only-of-type {\n",
       "        vertical-align: middle;\n",
       "    }\n",
       "\n",
       "    .dataframe tbody tr th {\n",
       "        vertical-align: top;\n",
       "    }\n",
       "\n",
       "    .dataframe thead th {\n",
       "        text-align: right;\n",
       "    }\n",
       "</style>\n",
       "<table border=\"1\" class=\"dataframe\">\n",
       "  <thead>\n",
       "    <tr style=\"text-align: right;\">\n",
       "      <th></th>\n",
       "      <th>CreditScore</th>\n",
       "      <th>Age</th>\n",
       "      <th>Tenure</th>\n",
       "      <th>Balance</th>\n",
       "      <th>NumOfProducts</th>\n",
       "      <th>HasCrCard</th>\n",
       "      <th>IsActiveMember</th>\n",
       "      <th>EstimatedSalary</th>\n",
       "      <th>Germany</th>\n",
       "      <th>Spain</th>\n",
       "      <th>Male</th>\n",
       "    </tr>\n",
       "  </thead>\n",
       "  <tbody>\n",
       "    <tr>\n",
       "      <th>0</th>\n",
       "      <td>619</td>\n",
       "      <td>42</td>\n",
       "      <td>2</td>\n",
       "      <td>0.00</td>\n",
       "      <td>1</td>\n",
       "      <td>1</td>\n",
       "      <td>1</td>\n",
       "      <td>101348.88</td>\n",
       "      <td>0</td>\n",
       "      <td>0</td>\n",
       "      <td>0</td>\n",
       "    </tr>\n",
       "    <tr>\n",
       "      <th>1</th>\n",
       "      <td>608</td>\n",
       "      <td>41</td>\n",
       "      <td>1</td>\n",
       "      <td>83807.86</td>\n",
       "      <td>1</td>\n",
       "      <td>0</td>\n",
       "      <td>1</td>\n",
       "      <td>112542.58</td>\n",
       "      <td>0</td>\n",
       "      <td>1</td>\n",
       "      <td>0</td>\n",
       "    </tr>\n",
       "    <tr>\n",
       "      <th>2</th>\n",
       "      <td>502</td>\n",
       "      <td>42</td>\n",
       "      <td>8</td>\n",
       "      <td>159660.80</td>\n",
       "      <td>3</td>\n",
       "      <td>1</td>\n",
       "      <td>0</td>\n",
       "      <td>113931.57</td>\n",
       "      <td>0</td>\n",
       "      <td>0</td>\n",
       "      <td>0</td>\n",
       "    </tr>\n",
       "    <tr>\n",
       "      <th>3</th>\n",
       "      <td>699</td>\n",
       "      <td>39</td>\n",
       "      <td>1</td>\n",
       "      <td>0.00</td>\n",
       "      <td>2</td>\n",
       "      <td>0</td>\n",
       "      <td>0</td>\n",
       "      <td>93826.63</td>\n",
       "      <td>0</td>\n",
       "      <td>0</td>\n",
       "      <td>0</td>\n",
       "    </tr>\n",
       "    <tr>\n",
       "      <th>4</th>\n",
       "      <td>850</td>\n",
       "      <td>43</td>\n",
       "      <td>2</td>\n",
       "      <td>125510.82</td>\n",
       "      <td>1</td>\n",
       "      <td>1</td>\n",
       "      <td>1</td>\n",
       "      <td>79084.10</td>\n",
       "      <td>0</td>\n",
       "      <td>1</td>\n",
       "      <td>0</td>\n",
       "    </tr>\n",
       "  </tbody>\n",
       "</table>\n",
       "</div>"
      ],
      "text/plain": [
       "   CreditScore  Age  Tenure    Balance  NumOfProducts  HasCrCard  \\\n",
       "0          619   42       2       0.00              1          1   \n",
       "1          608   41       1   83807.86              1          0   \n",
       "2          502   42       8  159660.80              3          1   \n",
       "3          699   39       1       0.00              2          0   \n",
       "4          850   43       2  125510.82              1          1   \n",
       "\n",
       "   IsActiveMember  EstimatedSalary  Germany  Spain  Male  \n",
       "0               1        101348.88        0      0     0  \n",
       "1               1        112542.58        0      1     0  \n",
       "2               0        113931.57        0      0     0  \n",
       "3               0         93826.63        0      0     0  \n",
       "4               1         79084.10        0      1     0  "
      ]
     },
     "execution_count": 32,
     "metadata": {},
     "output_type": "execute_result"
    }
   ],
   "source": [
    "X.head()"
   ]
  },
  {
   "cell_type": "code",
   "execution_count": 33,
   "id": "guilty-surge",
   "metadata": {},
   "outputs": [
    {
     "data": {
      "text/plain": [
       "Index(['CreditScore', 'Age', 'Tenure', 'Balance', 'NumOfProducts', 'HasCrCard',\n",
       "       'IsActiveMember', 'EstimatedSalary', 'Germany', 'Spain', 'Male'],\n",
       "      dtype='object')"
      ]
     },
     "execution_count": 33,
     "metadata": {},
     "output_type": "execute_result"
    }
   ],
   "source": [
    "X.columns"
   ]
  },
  {
   "cell_type": "code",
   "execution_count": 34,
   "id": "naughty-conflict",
   "metadata": {},
   "outputs": [],
   "source": [
    "from sklearn.preprocessing import StandardScaler\n",
    "\n",
    "sc = StandardScaler()\n",
    "X_train = sc.fit_transform(X_train)\n",
    "X_test = sc.transform(X_test)"
   ]
  },
  {
   "cell_type": "code",
   "execution_count": 36,
   "id": "contained-violin",
   "metadata": {},
   "outputs": [],
   "source": [
    "import tensorflow as tf\n",
    "from tensorflow import keras\n",
    "from tensorflow.keras.models import Sequential\n",
    "from tensorflow.keras.layers import Dense\n",
    "from tensorflow.keras.layers import LeakyReLU, PReLU, ELU\n",
    "from tensorflow.keras.layers import Dropout"
   ]
  },
  {
   "cell_type": "code",
   "execution_count": 61,
   "id": "approved-extension",
   "metadata": {},
   "outputs": [],
   "source": [
    "classifier = Sequential()"
   ]
  },
  {
   "cell_type": "markdown",
   "id": "resistant-reach",
   "metadata": {},
   "source": [
    "**Activation Function**\n",
    "* use relu or leaky relu activation function\n",
    "* leaky relu solve vanishing gradient problem"
   ]
  },
  {
   "cell_type": "code",
   "execution_count": 62,
   "id": "bottom-blackjack",
   "metadata": {},
   "outputs": [],
   "source": [
    "classifier.add(Dense(units=6,  activation = 'relu', kernel_initializer = 'he_uniform', input_dim=11))"
   ]
  },
  {
   "cell_type": "markdown",
   "id": "creative-reality",
   "metadata": {},
   "source": [
    "**Weight initialization/kernel_initializer**\n",
    "* always use `he_uniform` kernel_initializer/weight initializer with relu activation function."
   ]
  },
  {
   "cell_type": "code",
   "execution_count": 63,
   "id": "photographic-assumption",
   "metadata": {},
   "outputs": [],
   "source": [
    "classifier.add(Dense(units=6, activation = 'relu', kernel_initializer = 'he_uniform'))"
   ]
  },
  {
   "cell_type": "markdown",
   "id": "naughty-slovakia",
   "metadata": {},
   "source": [
    "**Activation function**\n",
    "* use `Sigmoid` activation function in the output layer when you have two classes\n",
    "* use `softmax` activation function in the output layer when you have more than 2 classes"
   ]
  },
  {
   "cell_type": "code",
   "execution_count": 64,
   "id": "fossil-africa",
   "metadata": {},
   "outputs": [],
   "source": [
    "classifier.add(Dense(units=1, activation = 'sigmoid', kernel_initializer='glorot_uniform'))"
   ]
  },
  {
   "cell_type": "markdown",
   "id": "welcome-country",
   "metadata": {},
   "source": [
    "**Loss defining**\n",
    "* Binary_crossentropy---> always use Binary_crossentropy loss for binary classes. or use binary_crossentropy for 2 classes. (e.g 1 or 0, yes or no, apple or banana)\n",
    "* categorical_crossentropy---> use this loss when you have more than 2 items"
   ]
  },
  {
   "cell_type": "code",
   "execution_count": 65,
   "id": "ultimate-hometown",
   "metadata": {},
   "outputs": [],
   "source": [
    "classifier.compile(optimizer = 'Adam', loss='binary_crossentropy', metrics = ['accuracy'])"
   ]
  },
  {
   "cell_type": "code",
   "execution_count": 66,
   "id": "blind-majority",
   "metadata": {},
   "outputs": [
    {
     "name": "stdout",
     "output_type": "stream",
     "text": [
      "Model: \"sequential_1\"\n",
      "_________________________________________________________________\n",
      "Layer (type)                 Output Shape              Param #   \n",
      "=================================================================\n",
      "dense_4 (Dense)              (None, 6)                 72        \n",
      "_________________________________________________________________\n",
      "dense_5 (Dense)              (None, 6)                 42        \n",
      "_________________________________________________________________\n",
      "dense_6 (Dense)              (None, 1)                 7         \n",
      "=================================================================\n",
      "Total params: 121\n",
      "Trainable params: 121\n",
      "Non-trainable params: 0\n",
      "_________________________________________________________________\n"
     ]
    }
   ],
   "source": [
    "classifier.summary()"
   ]
  },
  {
   "cell_type": "code",
   "execution_count": 72,
   "id": "manual-emergency",
   "metadata": {
    "collapsed": true,
    "jupyter": {
     "outputs_hidden": true
    }
   },
   "outputs": [
    {
     "name": "stdout",
     "output_type": "stream",
     "text": [
      "Epoch 1/100\n",
      "536/536 [==============================] - 1s 1ms/step - loss: 0.3882 - accuracy: 0.8341 - val_loss: 0.4012 - val_accuracy: 0.8213\n",
      "Epoch 2/100\n",
      "536/536 [==============================] - 1s 991us/step - loss: 0.3834 - accuracy: 0.8319 - val_loss: 0.3980 - val_accuracy: 0.8243\n",
      "Epoch 3/100\n",
      "536/536 [==============================] - 1s 990us/step - loss: 0.3803 - accuracy: 0.8332 - val_loss: 0.3935 - val_accuracy: 0.8247\n",
      "Epoch 4/100\n",
      "536/536 [==============================] - 1s 1ms/step - loss: 0.3766 - accuracy: 0.8358 - val_loss: 0.3906 - val_accuracy: 0.8262\n",
      "Epoch 5/100\n",
      "536/536 [==============================] - 1s 935us/step - loss: 0.3740 - accuracy: 0.8328 - val_loss: 0.3884 - val_accuracy: 0.8262\n",
      "Epoch 6/100\n",
      "536/536 [==============================] - 1s 1ms/step - loss: 0.3705 - accuracy: 0.8352 - val_loss: 0.3859 - val_accuracy: 0.8289\n",
      "Epoch 7/100\n",
      "536/536 [==============================] - 1s 1ms/step - loss: 0.3677 - accuracy: 0.8395 - val_loss: 0.3843 - val_accuracy: 0.8387\n",
      "Epoch 8/100\n",
      "536/536 [==============================] - 1s 1ms/step - loss: 0.3655 - accuracy: 0.8487 - val_loss: 0.3823 - val_accuracy: 0.8391\n",
      "Epoch 9/100\n",
      "536/536 [==============================] - 1s 1ms/step - loss: 0.3627 - accuracy: 0.8524 - val_loss: 0.3803 - val_accuracy: 0.8406\n",
      "Epoch 10/100\n",
      "536/536 [==============================] - 1s 987us/step - loss: 0.3610 - accuracy: 0.8531 - val_loss: 0.3798 - val_accuracy: 0.8383\n",
      "Epoch 11/100\n",
      "536/536 [==============================] - 1s 968us/step - loss: 0.3593 - accuracy: 0.8526 - val_loss: 0.3768 - val_accuracy: 0.8482\n",
      "Epoch 12/100\n",
      "536/536 [==============================] - 1s 987us/step - loss: 0.3573 - accuracy: 0.8546 - val_loss: 0.3763 - val_accuracy: 0.8451\n",
      "Epoch 13/100\n",
      "536/536 [==============================] - 1s 967us/step - loss: 0.3553 - accuracy: 0.8561 - val_loss: 0.3742 - val_accuracy: 0.8478\n",
      "Epoch 14/100\n",
      "536/536 [==============================] - 1s 1ms/step - loss: 0.3535 - accuracy: 0.8531 - val_loss: 0.3742 - val_accuracy: 0.8463\n",
      "Epoch 15/100\n",
      "536/536 [==============================] - 1s 967us/step - loss: 0.3527 - accuracy: 0.8574 - val_loss: 0.3731 - val_accuracy: 0.8504\n",
      "Epoch 16/100\n",
      "536/536 [==============================] - 1s 1ms/step - loss: 0.3512 - accuracy: 0.8561 - val_loss: 0.3719 - val_accuracy: 0.8508\n",
      "Epoch 17/100\n",
      "536/536 [==============================] - 1s 954us/step - loss: 0.3498 - accuracy: 0.8567 - val_loss: 0.3709 - val_accuracy: 0.8527\n",
      "Epoch 18/100\n",
      "536/536 [==============================] - 0s 897us/step - loss: 0.3493 - accuracy: 0.8571 - val_loss: 0.3703 - val_accuracy: 0.8516\n",
      "Epoch 19/100\n",
      "536/536 [==============================] - 0s 931us/step - loss: 0.3480 - accuracy: 0.8584 - val_loss: 0.3682 - val_accuracy: 0.8554\n",
      "Epoch 20/100\n",
      "536/536 [==============================] - 1s 1ms/step - loss: 0.3469 - accuracy: 0.8604 - val_loss: 0.3693 - val_accuracy: 0.8519\n",
      "Epoch 21/100\n",
      "536/536 [==============================] - 1s 1ms/step - loss: 0.3466 - accuracy: 0.8586 - val_loss: 0.3679 - val_accuracy: 0.8554\n",
      "Epoch 22/100\n",
      "536/536 [==============================] - 1s 996us/step - loss: 0.3457 - accuracy: 0.8614 - val_loss: 0.3682 - val_accuracy: 0.8542\n",
      "Epoch 23/100\n",
      "536/536 [==============================] - 1s 1ms/step - loss: 0.3448 - accuracy: 0.8595 - val_loss: 0.3684 - val_accuracy: 0.8550\n",
      "Epoch 24/100\n",
      "536/536 [==============================] - 1s 1ms/step - loss: 0.3446 - accuracy: 0.8597 - val_loss: 0.3661 - val_accuracy: 0.8561\n",
      "Epoch 25/100\n",
      "536/536 [==============================] - 1s 998us/step - loss: 0.3435 - accuracy: 0.8591 - val_loss: 0.3666 - val_accuracy: 0.8569\n",
      "Epoch 26/100\n",
      "536/536 [==============================] - 1s 993us/step - loss: 0.3420 - accuracy: 0.8593 - val_loss: 0.3672 - val_accuracy: 0.8546\n",
      "Epoch 27/100\n",
      "536/536 [==============================] - 1s 991us/step - loss: 0.3416 - accuracy: 0.8584 - val_loss: 0.3704 - val_accuracy: 0.8538\n",
      "Epoch 28/100\n",
      "536/536 [==============================] - 1s 982us/step - loss: 0.3423 - accuracy: 0.8587 - val_loss: 0.3645 - val_accuracy: 0.8595\n",
      "Epoch 29/100\n",
      "536/536 [==============================] - 1s 990us/step - loss: 0.3408 - accuracy: 0.8621 - val_loss: 0.3640 - val_accuracy: 0.8573\n",
      "Epoch 30/100\n",
      "536/536 [==============================] - 1s 1ms/step - loss: 0.3405 - accuracy: 0.8589 - val_loss: 0.3633 - val_accuracy: 0.8591\n",
      "Epoch 31/100\n",
      "536/536 [==============================] - 1s 993us/step - loss: 0.3396 - accuracy: 0.8615 - val_loss: 0.3642 - val_accuracy: 0.8569\n",
      "Epoch 32/100\n",
      "536/536 [==============================] - 1s 985us/step - loss: 0.3401 - accuracy: 0.8606 - val_loss: 0.3628 - val_accuracy: 0.8580\n",
      "Epoch 33/100\n",
      "536/536 [==============================] - 1s 954us/step - loss: 0.3390 - accuracy: 0.8610 - val_loss: 0.3619 - val_accuracy: 0.8584\n",
      "Epoch 34/100\n",
      "536/536 [==============================] - 1s 1ms/step - loss: 0.3384 - accuracy: 0.8615 - val_loss: 0.3629 - val_accuracy: 0.8565\n",
      "Epoch 35/100\n",
      "536/536 [==============================] - 1s 1ms/step - loss: 0.3381 - accuracy: 0.8612 - val_loss: 0.3669 - val_accuracy: 0.8504\n",
      "Epoch 36/100\n",
      "536/536 [==============================] - 1s 991us/step - loss: 0.3374 - accuracy: 0.8636 - val_loss: 0.3630 - val_accuracy: 0.8550\n",
      "Epoch 37/100\n",
      "536/536 [==============================] - 1s 1ms/step - loss: 0.3376 - accuracy: 0.8617 - val_loss: 0.3616 - val_accuracy: 0.8588\n",
      "Epoch 38/100\n",
      "536/536 [==============================] - 1s 1ms/step - loss: 0.3364 - accuracy: 0.8630 - val_loss: 0.3598 - val_accuracy: 0.8591\n",
      "Epoch 39/100\n",
      "536/536 [==============================] - 1s 1ms/step - loss: 0.3362 - accuracy: 0.8619 - val_loss: 0.3594 - val_accuracy: 0.8607\n",
      "Epoch 40/100\n",
      "536/536 [==============================] - 1s 1ms/step - loss: 0.3357 - accuracy: 0.8653 - val_loss: 0.3602 - val_accuracy: 0.8607\n",
      "Epoch 41/100\n",
      "536/536 [==============================] - 1s 1ms/step - loss: 0.3350 - accuracy: 0.8655 - val_loss: 0.3591 - val_accuracy: 0.8561\n",
      "Epoch 42/100\n",
      "536/536 [==============================] - 1s 1ms/step - loss: 0.3346 - accuracy: 0.8638 - val_loss: 0.3587 - val_accuracy: 0.8546\n",
      "Epoch 43/100\n",
      "536/536 [==============================] - 1s 1ms/step - loss: 0.3343 - accuracy: 0.8630 - val_loss: 0.3600 - val_accuracy: 0.8519\n",
      "Epoch 44/100\n",
      "536/536 [==============================] - 1s 1ms/step - loss: 0.3350 - accuracy: 0.8649 - val_loss: 0.3581 - val_accuracy: 0.8610\n",
      "Epoch 45/100\n",
      "536/536 [==============================] - 0s 914us/step - loss: 0.3346 - accuracy: 0.8638 - val_loss: 0.3620 - val_accuracy: 0.8466\n",
      "Epoch 46/100\n",
      "536/536 [==============================] - 1s 975us/step - loss: 0.3340 - accuracy: 0.8627 - val_loss: 0.3579 - val_accuracy: 0.8538\n",
      "Epoch 47/100\n",
      "536/536 [==============================] - 1s 1ms/step - loss: 0.3335 - accuracy: 0.8653 - val_loss: 0.3589 - val_accuracy: 0.8561\n",
      "Epoch 48/100\n",
      "536/536 [==============================] - 1s 1ms/step - loss: 0.3338 - accuracy: 0.8630 - val_loss: 0.3573 - val_accuracy: 0.8565\n",
      "Epoch 49/100\n",
      "536/536 [==============================] - 1s 1ms/step - loss: 0.3329 - accuracy: 0.8668 - val_loss: 0.3560 - val_accuracy: 0.8580\n",
      "Epoch 50/100\n",
      "536/536 [==============================] - 1s 995us/step - loss: 0.3331 - accuracy: 0.8653 - val_loss: 0.3557 - val_accuracy: 0.8607\n",
      "Epoch 51/100\n",
      "536/536 [==============================] - 1s 1ms/step - loss: 0.3327 - accuracy: 0.8651 - val_loss: 0.3549 - val_accuracy: 0.8603\n",
      "Epoch 52/100\n",
      "536/536 [==============================] - 1s 993us/step - loss: 0.3323 - accuracy: 0.8647 - val_loss: 0.3566 - val_accuracy: 0.8603\n",
      "Epoch 53/100\n",
      "536/536 [==============================] - 1s 1ms/step - loss: 0.3325 - accuracy: 0.8640 - val_loss: 0.3564 - val_accuracy: 0.8573\n",
      "Epoch 54/100\n",
      "536/536 [==============================] - 1s 1ms/step - loss: 0.3317 - accuracy: 0.8632 - val_loss: 0.3594 - val_accuracy: 0.8588\n",
      "Epoch 55/100\n",
      "536/536 [==============================] - 1s 1ms/step - loss: 0.3319 - accuracy: 0.8656 - val_loss: 0.3565 - val_accuracy: 0.8591\n",
      "Epoch 56/100\n",
      "536/536 [==============================] - 1s 1ms/step - loss: 0.3313 - accuracy: 0.8658 - val_loss: 0.3557 - val_accuracy: 0.8580\n",
      "Epoch 57/100\n",
      "536/536 [==============================] - 1s 1ms/step - loss: 0.3310 - accuracy: 0.8636 - val_loss: 0.3576 - val_accuracy: 0.8557\n",
      "Epoch 58/100\n",
      "536/536 [==============================] - 1s 1ms/step - loss: 0.3303 - accuracy: 0.8632 - val_loss: 0.3560 - val_accuracy: 0.8576\n",
      "Epoch 59/100\n",
      "536/536 [==============================] - 1s 992us/step - loss: 0.3303 - accuracy: 0.8636 - val_loss: 0.3553 - val_accuracy: 0.8576\n",
      "Epoch 60/100\n",
      "536/536 [==============================] - 1s 982us/step - loss: 0.3298 - accuracy: 0.8653 - val_loss: 0.3555 - val_accuracy: 0.8584\n",
      "Epoch 61/100\n",
      "536/536 [==============================] - 1s 972us/step - loss: 0.3291 - accuracy: 0.8660 - val_loss: 0.3551 - val_accuracy: 0.8576\n",
      "Epoch 62/100\n",
      "536/536 [==============================] - 1s 1ms/step - loss: 0.3305 - accuracy: 0.8610 - val_loss: 0.3541 - val_accuracy: 0.8610\n",
      "Epoch 63/100\n",
      "536/536 [==============================] - 1s 1ms/step - loss: 0.3304 - accuracy: 0.8658 - val_loss: 0.3555 - val_accuracy: 0.8576\n",
      "Epoch 64/100\n",
      "536/536 [==============================] - 1s 992us/step - loss: 0.3309 - accuracy: 0.8668 - val_loss: 0.3548 - val_accuracy: 0.8554\n",
      "Epoch 65/100\n",
      "536/536 [==============================] - 1s 961us/step - loss: 0.3301 - accuracy: 0.8660 - val_loss: 0.3528 - val_accuracy: 0.8595\n",
      "Epoch 66/100\n",
      "536/536 [==============================] - 1s 938us/step - loss: 0.3297 - accuracy: 0.8643 - val_loss: 0.3559 - val_accuracy: 0.8527\n",
      "Epoch 67/100\n",
      "536/536 [==============================] - 0s 931us/step - loss: 0.3296 - accuracy: 0.8643 - val_loss: 0.3547 - val_accuracy: 0.8542\n",
      "Epoch 68/100\n",
      "536/536 [==============================] - 1s 1ms/step - loss: 0.3288 - accuracy: 0.8664 - val_loss: 0.3550 - val_accuracy: 0.8554\n",
      "Epoch 69/100\n",
      "536/536 [==============================] - 1s 987us/step - loss: 0.3293 - accuracy: 0.8640 - val_loss: 0.3554 - val_accuracy: 0.8519\n",
      "Epoch 70/100\n",
      "536/536 [==============================] - ETA: 0s - loss: 0.3281 - accuracy: 0.86 - 1s 1ms/step - loss: 0.3296 - accuracy: 0.8627 - val_loss: 0.3542 - val_accuracy: 0.8576\n",
      "Epoch 71/100\n",
      "536/536 [==============================] - 1s 1ms/step - loss: 0.3289 - accuracy: 0.8643 - val_loss: 0.3548 - val_accuracy: 0.8535\n",
      "Epoch 72/100\n",
      "536/536 [==============================] - 1s 1ms/step - loss: 0.3300 - accuracy: 0.8627 - val_loss: 0.3543 - val_accuracy: 0.8542\n",
      "Epoch 73/100\n",
      "536/536 [==============================] - 1s 981us/step - loss: 0.3293 - accuracy: 0.8647 - val_loss: 0.3535 - val_accuracy: 0.8580\n",
      "Epoch 74/100\n",
      "536/536 [==============================] - 1s 1ms/step - loss: 0.3289 - accuracy: 0.8653 - val_loss: 0.3538 - val_accuracy: 0.8576\n",
      "Epoch 75/100\n",
      "536/536 [==============================] - 1s 936us/step - loss: 0.3286 - accuracy: 0.8645 - val_loss: 0.3515 - val_accuracy: 0.8595\n",
      "Epoch 76/100\n",
      "536/536 [==============================] - 1s 972us/step - loss: 0.3286 - accuracy: 0.8651 - val_loss: 0.3562 - val_accuracy: 0.8523\n",
      "Epoch 77/100\n",
      "536/536 [==============================] - 1s 953us/step - loss: 0.3295 - accuracy: 0.8632 - val_loss: 0.3563 - val_accuracy: 0.8580\n",
      "Epoch 78/100\n",
      "536/536 [==============================] - 1s 991us/step - loss: 0.3289 - accuracy: 0.8649 - val_loss: 0.3535 - val_accuracy: 0.8573\n",
      "Epoch 79/100\n",
      "536/536 [==============================] - 1s 970us/step - loss: 0.3283 - accuracy: 0.8643 - val_loss: 0.3511 - val_accuracy: 0.8607\n",
      "Epoch 80/100\n",
      "536/536 [==============================] - 0s 928us/step - loss: 0.3283 - accuracy: 0.8651 - val_loss: 0.3530 - val_accuracy: 0.8561\n",
      "Epoch 81/100\n",
      "536/536 [==============================] - 1s 976us/step - loss: 0.3287 - accuracy: 0.8647 - val_loss: 0.3541 - val_accuracy: 0.8550\n",
      "Epoch 82/100\n",
      "536/536 [==============================] - 1s 991us/step - loss: 0.3284 - accuracy: 0.8658 - val_loss: 0.3536 - val_accuracy: 0.8546\n",
      "Epoch 83/100\n",
      "536/536 [==============================] - 1s 980us/step - loss: 0.3285 - accuracy: 0.8653 - val_loss: 0.3518 - val_accuracy: 0.8557\n",
      "Epoch 84/100\n",
      "536/536 [==============================] - 1s 1ms/step - loss: 0.3276 - accuracy: 0.8656 - val_loss: 0.3596 - val_accuracy: 0.8550\n",
      "Epoch 85/100\n",
      "536/536 [==============================] - 1s 1ms/step - loss: 0.3285 - accuracy: 0.8643 - val_loss: 0.3580 - val_accuracy: 0.8501\n",
      "Epoch 86/100\n",
      "536/536 [==============================] - 1s 995us/step - loss: 0.3283 - accuracy: 0.8660 - val_loss: 0.3547 - val_accuracy: 0.8554\n",
      "Epoch 87/100\n",
      "536/536 [==============================] - 1s 984us/step - loss: 0.3282 - accuracy: 0.8638 - val_loss: 0.3516 - val_accuracy: 0.8599\n",
      "Epoch 88/100\n",
      "536/536 [==============================] - 1s 1ms/step - loss: 0.3279 - accuracy: 0.8655 - val_loss: 0.3525 - val_accuracy: 0.8569\n",
      "Epoch 89/100\n",
      "536/536 [==============================] - 1s 1ms/step - loss: 0.3279 - accuracy: 0.8666 - val_loss: 0.3547 - val_accuracy: 0.8550\n",
      "Epoch 90/100\n",
      "536/536 [==============================] - 1s 1ms/step - loss: 0.3278 - accuracy: 0.8615 - val_loss: 0.3530 - val_accuracy: 0.8565\n",
      "Epoch 91/100\n",
      "536/536 [==============================] - 1s 990us/step - loss: 0.3279 - accuracy: 0.8636 - val_loss: 0.3512 - val_accuracy: 0.8576\n",
      "Epoch 92/100\n",
      "536/536 [==============================] - 0s 915us/step - loss: 0.3280 - accuracy: 0.8673 - val_loss: 0.3517 - val_accuracy: 0.8603\n",
      "Epoch 93/100\n",
      "536/536 [==============================] - 1s 1ms/step - loss: 0.3279 - accuracy: 0.8643 - val_loss: 0.3514 - val_accuracy: 0.8603\n",
      "Epoch 94/100\n",
      "536/536 [==============================] - 1s 995us/step - loss: 0.3271 - accuracy: 0.8670 - val_loss: 0.3534 - val_accuracy: 0.8584\n",
      "Epoch 95/100\n",
      "536/536 [==============================] - 1s 1ms/step - loss: 0.3284 - accuracy: 0.8649 - val_loss: 0.3522 - val_accuracy: 0.8576\n",
      "Epoch 96/100\n",
      "536/536 [==============================] - 1s 969us/step - loss: 0.3279 - accuracy: 0.8642 - val_loss: 0.3512 - val_accuracy: 0.8607\n",
      "Epoch 97/100\n",
      "536/536 [==============================] - 1s 1ms/step - loss: 0.3274 - accuracy: 0.8655 - val_loss: 0.3526 - val_accuracy: 0.8557\n",
      "Epoch 98/100\n",
      "536/536 [==============================] - 1s 1ms/step - loss: 0.3284 - accuracy: 0.8638 - val_loss: 0.3517 - val_accuracy: 0.8588\n",
      "Epoch 99/100\n",
      "536/536 [==============================] - 1s 960us/step - loss: 0.3271 - accuracy: 0.8658 - val_loss: 0.3540 - val_accuracy: 0.8576\n",
      "Epoch 100/100\n",
      "536/536 [==============================] - 0s 925us/step - loss: 0.3275 - accuracy: 0.8640 - val_loss: 0.3524 - val_accuracy: 0.8569\n"
     ]
    }
   ],
   "source": [
    "model_history = classifier.fit(X_train, y_train, validation_split=0.33, batch_size=10, epochs=100)"
   ]
  },
  {
   "cell_type": "code",
   "execution_count": 73,
   "id": "sitting-acceptance",
   "metadata": {},
   "outputs": [
    {
     "data": {
      "image/png": "[encoded data removed]",
      "text/plain": [
       "<Figure size 432x288 with 1 Axes>"
      ]
     },
     "metadata": {
      "needs_background": "light"
     },
     "output_type": "display_data"
    }
   ],
   "source": [
    "plt.plot(model_history.history['loss'])\n",
    "plt.plot(model_history.history['val_loss'])\n",
    "plt.title('model loss')\n",
    "plt.ylabel('loss')\n",
    "plt.xlabel('epoch')\n",
    "plt.legend(['train', 'test'], loc='upper left')\n",
    "plt.show()"
   ]
  },
  {
   "cell_type": "code",
   "execution_count": 74,
   "id": "smoking-visitor",
   "metadata": {},
   "outputs": [],
   "source": [
    "y_pred = classifier.predict(X_test)\n",
    "y_pred = (y_pred > 0.5)"
   ]
  },
  {
   "cell_type": "code",
   "execution_count": 75,
   "id": "stuck-hotel",
   "metadata": {},
   "outputs": [],
   "source": [
    "from sklearn.metrics import confusion_matrix"
   ]
  },
  {
   "cell_type": "code",
   "execution_count": 76,
   "id": "stuck-vinyl",
   "metadata": {},
   "outputs": [],
   "source": [
    "cm = confusion_matrix(y_test, y_pred)"
   ]
  },
  {
   "cell_type": "code",
   "execution_count": 79,
   "id": "varying-orbit",
   "metadata": {},
   "outputs": [
    {
     "data": {
      "text/plain": [
       "array([[1499,   96],\n",
       "       [ 185,  220]], dtype=int64)"
      ]
     },
     "execution_count": 79,
     "metadata": {},
     "output_type": "execute_result"
    }
   ],
   "source": [
    "cm"
   ]
  },
  {
   "cell_type": "code",
   "execution_count": 77,
   "id": "aquatic-jacksonville",
   "metadata": {},
   "outputs": [],
   "source": [
    "from sklearn.metrics import accuracy_score\n",
    "\n",
    "score = accuracy_score(y_pred, y_test)"
   ]
  },
  {
   "cell_type": "code",
   "execution_count": 78,
   "id": "comparable-queue",
   "metadata": {},
   "outputs": [
    {
     "data": {
      "text/plain": [
       "0.8595"
      ]
     },
     "execution_count": 78,
     "metadata": {},
     "output_type": "execute_result"
    }
   ],
   "source": [
    "score"
   ]
  },
  {
   "cell_type": "code",
   "execution_count": null,
   "id": "convertible-singing",
   "metadata": {},
   "outputs": [],
   "source": []
  }
 ],
 "metadata": {
  "kernelspec": {
   "display_name": "Python 3",
   "language": "python",
   "name": "python3"
  },
  "language_info": {
   "codemirror_mode": {
    "name": "ipython",
    "version": 3
   },
   "file_extension": ".py",
   "mimetype": "text/x-python",
   "name": "python",
   "nbconvert_exporter": "python",
   "pygments_lexer": "ipython3",
   "version": "3.8.8"
  }
 },
 "nbformat": 4,
 "nbformat_minor": 5
}
